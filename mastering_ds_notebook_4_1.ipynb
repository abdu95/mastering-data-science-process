{
 "cells": [
  {
   "cell_type": "markdown",
   "metadata": {},
   "source": [
    "# Mastering the Process of Data Science 2020/21"
   ]
  },
  {
   "cell_type": "markdown",
   "metadata": {},
   "source": [
    "#### 4th Notebook"
   ]
  },
  {
   "cell_type": "markdown",
   "metadata": {},
   "source": [
    "#### Abduvosid Malikov"
   ]
  },
  {
   "cell_type": "code",
   "execution_count": 1,
   "metadata": {},
   "outputs": [],
   "source": [
    "import pandas as pd\n",
    "import numpy as np\n",
    "import matplotlib.pyplot as plt\n",
    "import seaborn as sb\n",
    "import scipy.stats"
   ]
  },
  {
   "cell_type": "markdown",
   "metadata": {},
   "source": [
    "Drinks.csv: number of alcohol servings per capita per year for 15 years of age or older (for beer, wine and spirit) across various countries"
   ]
  },
  {
   "cell_type": "code",
   "execution_count": 2,
   "metadata": {},
   "outputs": [],
   "source": [
    "drinks_life_expectancy = pd.read_csv('data/Drinks_Life_expectancy.csv')"
   ]
  },
  {
   "cell_type": "code",
   "execution_count": 3,
   "metadata": {},
   "outputs": [
    {
     "data": {
      "text/html": [
       "<div>\n",
       "<style scoped>\n",
       "    .dataframe tbody tr th:only-of-type {\n",
       "        vertical-align: middle;\n",
       "    }\n",
       "\n",
       "    .dataframe tbody tr th {\n",
       "        vertical-align: top;\n",
       "    }\n",
       "\n",
       "    .dataframe thead th {\n",
       "        text-align: right;\n",
       "    }\n",
       "</style>\n",
       "<table border=\"1\" class=\"dataframe\">\n",
       "  <thead>\n",
       "    <tr style=\"text-align: right;\">\n",
       "      <th></th>\n",
       "      <th>country</th>\n",
       "      <th>beer_servings</th>\n",
       "      <th>spirit_servings</th>\n",
       "      <th>wine_servings</th>\n",
       "      <th>total_litres_of_pure_alcohol</th>\n",
       "      <th>GhoCode</th>\n",
       "      <th>GhoDisplay</th>\n",
       "      <th>PublishStateCode</th>\n",
       "      <th>PublishStateDisplay</th>\n",
       "      <th>YearCode</th>\n",
       "      <th>...</th>\n",
       "      <th>RegionCode</th>\n",
       "      <th>RegionDisplay</th>\n",
       "      <th>WorldBankIncomeGroupGroupCode</th>\n",
       "      <th>WorldBankIncomeGroupDisplay</th>\n",
       "      <th>CountryCode</th>\n",
       "      <th>CountryDisplay</th>\n",
       "      <th>SexCode</th>\n",
       "      <th>SexDisplay</th>\n",
       "      <th>DisplayValue</th>\n",
       "      <th>Numeric</th>\n",
       "    </tr>\n",
       "  </thead>\n",
       "  <tbody>\n",
       "    <tr>\n",
       "      <th>0</th>\n",
       "      <td>Afghanistan</td>\n",
       "      <td>0</td>\n",
       "      <td>0</td>\n",
       "      <td>0</td>\n",
       "      <td>0.0000</td>\n",
       "      <td>WHOSIS_000001</td>\n",
       "      <td>Life expectancy at birth (years)</td>\n",
       "      <td>PUBLISHED</td>\n",
       "      <td>Published</td>\n",
       "      <td>2012</td>\n",
       "      <td>...</td>\n",
       "      <td>EMR</td>\n",
       "      <td>Eastern Mediterranean</td>\n",
       "      <td>WB_LI</td>\n",
       "      <td>Low_income</td>\n",
       "      <td>AFG</td>\n",
       "      <td>Afghanistan</td>\n",
       "      <td>BTSX</td>\n",
       "      <td>Both sexes</td>\n",
       "      <td>60</td>\n",
       "      <td>60.0</td>\n",
       "    </tr>\n",
       "    <tr>\n",
       "      <th>1</th>\n",
       "      <td>Albania</td>\n",
       "      <td>89</td>\n",
       "      <td>132</td>\n",
       "      <td>54</td>\n",
       "      <td>4.8675</td>\n",
       "      <td>WHOSIS_000001</td>\n",
       "      <td>Life expectancy at birth (years)</td>\n",
       "      <td>PUBLISHED</td>\n",
       "      <td>Published</td>\n",
       "      <td>2012</td>\n",
       "      <td>...</td>\n",
       "      <td>EUR</td>\n",
       "      <td>Europe</td>\n",
       "      <td>WB_LMI</td>\n",
       "      <td>Lower_middle_income</td>\n",
       "      <td>ALB</td>\n",
       "      <td>Albania</td>\n",
       "      <td>BTSX</td>\n",
       "      <td>Both sexes</td>\n",
       "      <td>74</td>\n",
       "      <td>74.0</td>\n",
       "    </tr>\n",
       "    <tr>\n",
       "      <th>2</th>\n",
       "      <td>Algeria</td>\n",
       "      <td>25</td>\n",
       "      <td>0</td>\n",
       "      <td>14</td>\n",
       "      <td>0.6903</td>\n",
       "      <td>WHOSIS_000001</td>\n",
       "      <td>Life expectancy at birth (years)</td>\n",
       "      <td>PUBLISHED</td>\n",
       "      <td>Published</td>\n",
       "      <td>2012</td>\n",
       "      <td>...</td>\n",
       "      <td>AFR</td>\n",
       "      <td>Africa</td>\n",
       "      <td>WB_UMI</td>\n",
       "      <td>Upper_middle_income</td>\n",
       "      <td>DZA</td>\n",
       "      <td>Algeria</td>\n",
       "      <td>BTSX</td>\n",
       "      <td>Both sexes</td>\n",
       "      <td>72</td>\n",
       "      <td>72.0</td>\n",
       "    </tr>\n",
       "    <tr>\n",
       "      <th>3</th>\n",
       "      <td>Andorra</td>\n",
       "      <td>245</td>\n",
       "      <td>138</td>\n",
       "      <td>312</td>\n",
       "      <td>12.3015</td>\n",
       "      <td>WHOSIS_000001</td>\n",
       "      <td>Life expectancy at birth (years)</td>\n",
       "      <td>PUBLISHED</td>\n",
       "      <td>Published</td>\n",
       "      <td>2012</td>\n",
       "      <td>...</td>\n",
       "      <td>EUR</td>\n",
       "      <td>Europe</td>\n",
       "      <td>WB_HI</td>\n",
       "      <td>High_income</td>\n",
       "      <td>AND</td>\n",
       "      <td>Andorra</td>\n",
       "      <td>BTSX</td>\n",
       "      <td>Both sexes</td>\n",
       "      <td>83</td>\n",
       "      <td>83.0</td>\n",
       "    </tr>\n",
       "    <tr>\n",
       "      <th>4</th>\n",
       "      <td>Angola</td>\n",
       "      <td>217</td>\n",
       "      <td>57</td>\n",
       "      <td>45</td>\n",
       "      <td>5.6463</td>\n",
       "      <td>WHOSIS_000001</td>\n",
       "      <td>Life expectancy at birth (years)</td>\n",
       "      <td>PUBLISHED</td>\n",
       "      <td>Published</td>\n",
       "      <td>2012</td>\n",
       "      <td>...</td>\n",
       "      <td>AFR</td>\n",
       "      <td>Africa</td>\n",
       "      <td>WB_LMI</td>\n",
       "      <td>Lower_middle_income</td>\n",
       "      <td>AGO</td>\n",
       "      <td>Angola</td>\n",
       "      <td>BTSX</td>\n",
       "      <td>Both sexes</td>\n",
       "      <td>51</td>\n",
       "      <td>51.0</td>\n",
       "    </tr>\n",
       "  </tbody>\n",
       "</table>\n",
       "<p>5 rows × 21 columns</p>\n",
       "</div>"
      ],
      "text/plain": [
       "       country  beer_servings  spirit_servings  wine_servings  \\\n",
       "0  Afghanistan              0                0              0   \n",
       "1      Albania             89              132             54   \n",
       "2      Algeria             25                0             14   \n",
       "3      Andorra            245              138            312   \n",
       "4       Angola            217               57             45   \n",
       "\n",
       "   total_litres_of_pure_alcohol        GhoCode  \\\n",
       "0                        0.0000  WHOSIS_000001   \n",
       "1                        4.8675  WHOSIS_000001   \n",
       "2                        0.6903  WHOSIS_000001   \n",
       "3                       12.3015  WHOSIS_000001   \n",
       "4                        5.6463  WHOSIS_000001   \n",
       "\n",
       "                         GhoDisplay PublishStateCode PublishStateDisplay  \\\n",
       "0  Life expectancy at birth (years)        PUBLISHED           Published   \n",
       "1  Life expectancy at birth (years)        PUBLISHED           Published   \n",
       "2  Life expectancy at birth (years)        PUBLISHED           Published   \n",
       "3  Life expectancy at birth (years)        PUBLISHED           Published   \n",
       "4  Life expectancy at birth (years)        PUBLISHED           Published   \n",
       "\n",
       "   YearCode  ...  RegionCode          RegionDisplay  \\\n",
       "0      2012  ...         EMR  Eastern Mediterranean   \n",
       "1      2012  ...         EUR                 Europe   \n",
       "2      2012  ...         AFR                 Africa   \n",
       "3      2012  ...         EUR                 Europe   \n",
       "4      2012  ...         AFR                 Africa   \n",
       "\n",
       "  WorldBankIncomeGroupGroupCode WorldBankIncomeGroupDisplay CountryCode  \\\n",
       "0                         WB_LI                  Low_income         AFG   \n",
       "1                        WB_LMI         Lower_middle_income         ALB   \n",
       "2                        WB_UMI         Upper_middle_income         DZA   \n",
       "3                         WB_HI                 High_income         AND   \n",
       "4                        WB_LMI         Lower_middle_income         AGO   \n",
       "\n",
       "  CountryDisplay SexCode  SexDisplay DisplayValue  Numeric  \n",
       "0    Afghanistan    BTSX  Both sexes           60     60.0  \n",
       "1        Albania    BTSX  Both sexes           74     74.0  \n",
       "2        Algeria    BTSX  Both sexes           72     72.0  \n",
       "3        Andorra    BTSX  Both sexes           83     83.0  \n",
       "4         Angola    BTSX  Both sexes           51     51.0  \n",
       "\n",
       "[5 rows x 21 columns]"
      ]
     },
     "execution_count": 3,
     "metadata": {},
     "output_type": "execute_result"
    }
   ],
   "source": [
    "drinks_life_expectancy.head()"
   ]
  },
  {
   "cell_type": "markdown",
   "metadata": {},
   "source": [
    "##### Calculate correlation between expected lifetime and total liters of pure alcohol"
   ]
  },
  {
   "cell_type": "code",
   "execution_count": 4,
   "metadata": {},
   "outputs": [],
   "source": [
    "def histogram_intersection(a, b):\n",
    "    v = np.minimum(a, b).sum().round(decimals=1)\n",
    "    return v"
   ]
  },
  {
   "cell_type": "code",
   "execution_count": 5,
   "metadata": {},
   "outputs": [],
   "source": [
    "# drinks_life_expectancy['total_litres_of_pure_alcohol'].corr(drinks_life_expectancy['DisplayValue'], method=histogram_intersection)"
   ]
  },
  {
   "cell_type": "code",
   "execution_count": 6,
   "metadata": {},
   "outputs": [],
   "source": [
    "result = np.corrcoef(drinks_life_expectancy['total_litres_of_pure_alcohol'], drinks_life_expectancy['DisplayValue'])"
   ]
  },
  {
   "cell_type": "code",
   "execution_count": 7,
   "metadata": {},
   "outputs": [
    {
     "data": {
      "text/plain": [
       "array([[1.        , 0.52405524],\n",
       "       [0.52405524, 1.        ]])"
      ]
     },
     "execution_count": 7,
     "metadata": {},
     "output_type": "execute_result"
    }
   ],
   "source": [
    "result"
   ]
  },
  {
   "cell_type": "markdown",
   "metadata": {},
   "source": [
    "corrcoef() returns the correlation matrix, which is a two-dimensional array with the correlation coefficients."
   ]
  },
  {
   "cell_type": "markdown",
   "metadata": {},
   "source": [
    "lower left and upper right values of the correlation matrix are equal and both represent the Pearson correlation coefficient for Total litres of pure alcohol and Life expectancy. It’s approximately **52**"
   ]
  },
  {
   "cell_type": "markdown",
   "metadata": {},
   "source": [
    "Pearson’s coefficient measures linear correlation. The value is more than zero which indicates positive correlation between Total litres of pure alcohol and Life expectancy."
   ]
  },
  {
   "cell_type": "markdown",
   "metadata": {},
   "source": [
    "Even though the correlation between these two variables is positive, it's not strong. So we can't conclude higher Total litres of pure alcohol corresponds to a higher Life expectancy."
   ]
  },
  {
   "cell_type": "code",
   "execution_count": 8,
   "metadata": {},
   "outputs": [],
   "source": [
    "slope, intercept, r, p, stderr = scipy.stats.linregress(drinks_life_expectancy['total_litres_of_pure_alcohol'], \n",
    "                                                        drinks_life_expectancy['DisplayValue'])"
   ]
  },
  {
   "cell_type": "code",
   "execution_count": 9,
   "metadata": {},
   "outputs": [],
   "source": [
    "y = drinks_life_expectancy['DisplayValue']"
   ]
  },
  {
   "cell_type": "code",
   "execution_count": 10,
   "metadata": {},
   "outputs": [],
   "source": [
    "x = drinks_life_expectancy['total_litres_of_pure_alcohol']"
   ]
  },
  {
   "cell_type": "code",
   "execution_count": 11,
   "metadata": {},
   "outputs": [],
   "source": [
    "line = f'Regression line: y={intercept:.2f}+{slope:.2f}x, r={r:.2f}'"
   ]
  },
  {
   "cell_type": "markdown",
   "metadata": {},
   "source": [
    "Let's visualize the regression line: "
   ]
  },
  {
   "cell_type": "code",
   "execution_count": 12,
   "metadata": {},
   "outputs": [
    {
     "data": {
      "image/png": "[encoded data removed]",
      "text/plain": [
       "<Figure size 432x288 with 1 Axes>"
      ]
     },
     "metadata": {
      "needs_background": "light"
     },
     "output_type": "display_data"
    }
   ],
   "source": [
    "fig, ax = plt.subplots()\n",
    "ax.plot(x, y, linewidth=0, marker='s', label='Data points')\n",
    "ax.plot(x, intercept + slope * x, label=line)\n",
    "ax.set_xlabel('x')\n",
    "ax.set_ylabel('y')\n",
    "ax.legend(facecolor='white')\n",
    "plt.show()"
   ]
  },
  {
   "cell_type": "markdown",
   "metadata": {},
   "source": [
    "##### Read and prepare CountriesOfTheWorld.xlsx"
   ]
  },
  {
   "cell_type": "markdown",
   "metadata": {},
   "source": [
    "CountriesOfTheWorld.xlsx: geographical and socio-econometric data across various countries"
   ]
  },
  {
   "cell_type": "code",
   "execution_count": 13,
   "metadata": {},
   "outputs": [],
   "source": [
    "countries = pd.read_excel('data/CountriesOfTheWorld.xls', skiprows=[0,1,2,4])"
   ]
  },
  {
   "cell_type": "code",
   "execution_count": 14,
   "metadata": {},
   "outputs": [
    {
     "data": {
      "text/html": [
       "<div>\n",
       "<style scoped>\n",
       "    .dataframe tbody tr th:only-of-type {\n",
       "        vertical-align: middle;\n",
       "    }\n",
       "\n",
       "    .dataframe tbody tr th {\n",
       "        vertical-align: top;\n",
       "    }\n",
       "\n",
       "    .dataframe thead th {\n",
       "        text-align: right;\n",
       "    }\n",
       "</style>\n",
       "<table border=\"1\" class=\"dataframe\">\n",
       "  <thead>\n",
       "    <tr style=\"text-align: right;\">\n",
       "      <th></th>\n",
       "      <th>Country</th>\n",
       "      <th>Region</th>\n",
       "      <th>Population</th>\n",
       "      <th>Area</th>\n",
       "      <th>Pop. Density</th>\n",
       "      <th>Coastline</th>\n",
       "      <th>Net migration</th>\n",
       "      <th>Infant mortality</th>\n",
       "      <th>GDP</th>\n",
       "      <th>Literacy</th>\n",
       "      <th>Phones</th>\n",
       "      <th>Arable</th>\n",
       "      <th>Crops</th>\n",
       "      <th>Other</th>\n",
       "      <th>Birthrate</th>\n",
       "      <th>Deathrate</th>\n",
       "    </tr>\n",
       "  </thead>\n",
       "  <tbody>\n",
       "    <tr>\n",
       "      <th>0</th>\n",
       "      <td>Afghanistan</td>\n",
       "      <td>ASIA (EX. NEAR EAST)</td>\n",
       "      <td>31056997</td>\n",
       "      <td>647500</td>\n",
       "      <td>47.96</td>\n",
       "      <td>0.00</td>\n",
       "      <td>23.06</td>\n",
       "      <td>163.07</td>\n",
       "      <td>700.0</td>\n",
       "      <td>36.0</td>\n",
       "      <td>3.22</td>\n",
       "      <td>12.13</td>\n",
       "      <td>0.22</td>\n",
       "      <td>87.65</td>\n",
       "      <td>46.60</td>\n",
       "      <td>20.34</td>\n",
       "    </tr>\n",
       "    <tr>\n",
       "      <th>1</th>\n",
       "      <td>Albania</td>\n",
       "      <td>EASTERN EUROPE</td>\n",
       "      <td>3581655</td>\n",
       "      <td>28748</td>\n",
       "      <td>124.59</td>\n",
       "      <td>1.26</td>\n",
       "      <td>-4.93</td>\n",
       "      <td>21.52</td>\n",
       "      <td>4500.0</td>\n",
       "      <td>86.5</td>\n",
       "      <td>71.20</td>\n",
       "      <td>21.09</td>\n",
       "      <td>4.42</td>\n",
       "      <td>74.49</td>\n",
       "      <td>15.11</td>\n",
       "      <td>5.22</td>\n",
       "    </tr>\n",
       "    <tr>\n",
       "      <th>2</th>\n",
       "      <td>Algeria</td>\n",
       "      <td>NORTHERN AFRICA</td>\n",
       "      <td>32930091</td>\n",
       "      <td>2381740</td>\n",
       "      <td>13.83</td>\n",
       "      <td>0.04</td>\n",
       "      <td>-0.39</td>\n",
       "      <td>31.00</td>\n",
       "      <td>6000.0</td>\n",
       "      <td>70.0</td>\n",
       "      <td>78.10</td>\n",
       "      <td>3.22</td>\n",
       "      <td>0.25</td>\n",
       "      <td>96.53</td>\n",
       "      <td>17.14</td>\n",
       "      <td>4.61</td>\n",
       "    </tr>\n",
       "    <tr>\n",
       "      <th>3</th>\n",
       "      <td>American Samoa</td>\n",
       "      <td>OCEANIA</td>\n",
       "      <td>57794</td>\n",
       "      <td>199</td>\n",
       "      <td>290.42</td>\n",
       "      <td>58.29</td>\n",
       "      <td>-20.71</td>\n",
       "      <td>9.27</td>\n",
       "      <td>8000.0</td>\n",
       "      <td>97.0</td>\n",
       "      <td>259.54</td>\n",
       "      <td>10.00</td>\n",
       "      <td>15.00</td>\n",
       "      <td>75.00</td>\n",
       "      <td>22.46</td>\n",
       "      <td>3.27</td>\n",
       "    </tr>\n",
       "    <tr>\n",
       "      <th>4</th>\n",
       "      <td>Andorra</td>\n",
       "      <td>WESTERN EUROPE</td>\n",
       "      <td>71201</td>\n",
       "      <td>468</td>\n",
       "      <td>152.14</td>\n",
       "      <td>0.00</td>\n",
       "      <td>6.60</td>\n",
       "      <td>4.05</td>\n",
       "      <td>19000.0</td>\n",
       "      <td>100.0</td>\n",
       "      <td>497.18</td>\n",
       "      <td>2.22</td>\n",
       "      <td>0.00</td>\n",
       "      <td>97.78</td>\n",
       "      <td>8.71</td>\n",
       "      <td>6.25</td>\n",
       "    </tr>\n",
       "  </tbody>\n",
       "</table>\n",
       "</div>"
      ],
      "text/plain": [
       "           Country                               Region  Population     Area  \\\n",
       "0     Afghanistan         ASIA (EX. NEAR EAST)             31056997   647500   \n",
       "1         Albania   EASTERN EUROPE                          3581655    28748   \n",
       "2         Algeria   NORTHERN AFRICA                        32930091  2381740   \n",
       "3  American Samoa   OCEANIA                                   57794      199   \n",
       "4         Andorra   WESTERN EUROPE                            71201      468   \n",
       "\n",
       "   Pop. Density  Coastline  Net migration  Infant mortality      GDP  \\\n",
       "0         47.96       0.00          23.06            163.07    700.0   \n",
       "1        124.59       1.26          -4.93             21.52   4500.0   \n",
       "2         13.83       0.04          -0.39             31.00   6000.0   \n",
       "3        290.42      58.29         -20.71              9.27   8000.0   \n",
       "4        152.14       0.00           6.60              4.05  19000.0   \n",
       "\n",
       "   Literacy  Phones  Arable  Crops  Other  Birthrate  Deathrate  \n",
       "0      36.0    3.22   12.13   0.22  87.65      46.60      20.34  \n",
       "1      86.5   71.20   21.09   4.42  74.49      15.11       5.22  \n",
       "2      70.0   78.10    3.22   0.25  96.53      17.14       4.61  \n",
       "3      97.0  259.54   10.00  15.00  75.00      22.46       3.27  \n",
       "4     100.0  497.18    2.22   0.00  97.78       8.71       6.25  "
      ]
     },
     "execution_count": 14,
     "metadata": {},
     "output_type": "execute_result"
    }
   ],
   "source": [
    "countries.head()"
   ]
  },
  {
   "cell_type": "markdown",
   "metadata": {},
   "source": [
    "##### Merge countries of the world data and the previously prepared data (containing total liters of pure alcohol and expected lifetime)"
   ]
  },
  {
   "cell_type": "code",
   "execution_count": 15,
   "metadata": {},
   "outputs": [],
   "source": [
    "countries_drink_life_e = pd.merge(countries, drinks_life_expectancy, left_on='Country', right_on = 'country')"
   ]
  },
  {
   "cell_type": "code",
   "execution_count": 16,
   "metadata": {},
   "outputs": [
    {
     "data": {
      "text/html": [
       "<div>\n",
       "<style scoped>\n",
       "    .dataframe tbody tr th:only-of-type {\n",
       "        vertical-align: middle;\n",
       "    }\n",
       "\n",
       "    .dataframe tbody tr th {\n",
       "        vertical-align: top;\n",
       "    }\n",
       "\n",
       "    .dataframe thead th {\n",
       "        text-align: right;\n",
       "    }\n",
       "</style>\n",
       "<table border=\"1\" class=\"dataframe\">\n",
       "  <thead>\n",
       "    <tr style=\"text-align: right;\">\n",
       "      <th></th>\n",
       "      <th>Country</th>\n",
       "      <th>Region</th>\n",
       "      <th>Population</th>\n",
       "      <th>Area</th>\n",
       "      <th>Pop. Density</th>\n",
       "      <th>Coastline</th>\n",
       "      <th>Net migration</th>\n",
       "      <th>Infant mortality</th>\n",
       "      <th>GDP</th>\n",
       "      <th>Literacy</th>\n",
       "      <th>...</th>\n",
       "      <th>RegionCode</th>\n",
       "      <th>RegionDisplay</th>\n",
       "      <th>WorldBankIncomeGroupGroupCode</th>\n",
       "      <th>WorldBankIncomeGroupDisplay</th>\n",
       "      <th>CountryCode</th>\n",
       "      <th>CountryDisplay</th>\n",
       "      <th>SexCode</th>\n",
       "      <th>SexDisplay</th>\n",
       "      <th>DisplayValue</th>\n",
       "      <th>Numeric</th>\n",
       "    </tr>\n",
       "  </thead>\n",
       "  <tbody>\n",
       "  </tbody>\n",
       "</table>\n",
       "<p>0 rows × 37 columns</p>\n",
       "</div>"
      ],
      "text/plain": [
       "Empty DataFrame\n",
       "Columns: [Country, Region, Population, Area, Pop. Density, Coastline, Net migration, Infant mortality, GDP, Literacy, Phones, Arable, Crops, Other, Birthrate, Deathrate, country, beer_servings, spirit_servings, wine_servings, total_litres_of_pure_alcohol, GhoCode, GhoDisplay, PublishStateCode, PublishStateDisplay, YearCode, YearDisplay, RegionCode, RegionDisplay, WorldBankIncomeGroupGroupCode, WorldBankIncomeGroupDisplay, CountryCode, CountryDisplay, SexCode, SexDisplay, DisplayValue, Numeric]\n",
       "Index: []\n",
       "\n",
       "[0 rows x 37 columns]"
      ]
     },
     "execution_count": 16,
     "metadata": {},
     "output_type": "execute_result"
    }
   ],
   "source": [
    "countries_drink_life_e"
   ]
  },
  {
   "cell_type": "markdown",
   "metadata": {},
   "source": [
    "When we merge, we get 0 rows. This is strange. Country names in Country column of countries dataset and country names in country column in drinks_life_expectancy match. But they didn't merge. When we investigate country names in Country column of countries dataset, we see that there is a space after the country name. Therefore 'Albania ' didn't match with 'Albania'. Let's remove the space. "
   ]
  },
  {
   "cell_type": "code",
   "execution_count": 17,
   "metadata": {},
   "outputs": [
    {
     "data": {
      "text/plain": [
       "['Afghanistan ',\n",
       " 'Albania ',\n",
       " 'Algeria ',\n",
       " 'American Samoa ',\n",
       " 'Andorra ',\n",
       " 'Angola ',\n",
       " 'Anguilla ',\n",
       " 'Antigua & Barbuda ',\n",
       " 'Argentina ',\n",
       " 'Armenia ']"
      ]
     },
     "execution_count": 17,
     "metadata": {},
     "output_type": "execute_result"
    }
   ],
   "source": [
    "countries.Country.to_list()[:10]"
   ]
  },
  {
   "cell_type": "code",
   "execution_count": 18,
   "metadata": {},
   "outputs": [],
   "source": [
    "countries['Country'] = countries['Country'].str.strip()"
   ]
  },
  {
   "cell_type": "code",
   "execution_count": 19,
   "metadata": {},
   "outputs": [],
   "source": [
    "countries_drink_life_e = pd.merge(countries, drinks_life_expectancy, left_on='Country', right_on = 'country')"
   ]
  },
  {
   "cell_type": "code",
   "execution_count": 78,
   "metadata": {},
   "outputs": [
    {
     "data": {
      "text/html": [
       "<div>\n",
       "<style scoped>\n",
       "    .dataframe tbody tr th:only-of-type {\n",
       "        vertical-align: middle;\n",
       "    }\n",
       "\n",
       "    .dataframe tbody tr th {\n",
       "        vertical-align: top;\n",
       "    }\n",
       "\n",
       "    .dataframe thead th {\n",
       "        text-align: right;\n",
       "    }\n",
       "</style>\n",
       "<table border=\"1\" class=\"dataframe\">\n",
       "  <thead>\n",
       "    <tr style=\"text-align: right;\">\n",
       "      <th></th>\n",
       "      <th>Country</th>\n",
       "      <th>Region</th>\n",
       "      <th>Population</th>\n",
       "      <th>Area</th>\n",
       "      <th>Pop. Density</th>\n",
       "      <th>Coastline</th>\n",
       "      <th>Net migration</th>\n",
       "      <th>Infant mortality</th>\n",
       "      <th>GDP</th>\n",
       "      <th>Literacy</th>\n",
       "      <th>...</th>\n",
       "      <th>Birthrate</th>\n",
       "      <th>Deathrate</th>\n",
       "      <th>beer_servings</th>\n",
       "      <th>spirit_servings</th>\n",
       "      <th>wine_servings</th>\n",
       "      <th>total_litres_of_pure_alcohol</th>\n",
       "      <th>RegionDisplay</th>\n",
       "      <th>WorldBankIncomeGroupDisplay</th>\n",
       "      <th>CountryDisplay</th>\n",
       "      <th>DisplayValue</th>\n",
       "    </tr>\n",
       "  </thead>\n",
       "  <tbody>\n",
       "    <tr>\n",
       "      <th>0</th>\n",
       "      <td>Afghanistan</td>\n",
       "      <td>ASIA (EX. NEAR EAST)</td>\n",
       "      <td>31056997</td>\n",
       "      <td>647500</td>\n",
       "      <td>47.96</td>\n",
       "      <td>0.00</td>\n",
       "      <td>23.06</td>\n",
       "      <td>163.07</td>\n",
       "      <td>700.0</td>\n",
       "      <td>36.0</td>\n",
       "      <td>...</td>\n",
       "      <td>46.60</td>\n",
       "      <td>20.34</td>\n",
       "      <td>0</td>\n",
       "      <td>0</td>\n",
       "      <td>0</td>\n",
       "      <td>0.0000</td>\n",
       "      <td>Eastern Mediterranean</td>\n",
       "      <td>Low_income</td>\n",
       "      <td>Afghanistan</td>\n",
       "      <td>60</td>\n",
       "    </tr>\n",
       "    <tr>\n",
       "      <th>1</th>\n",
       "      <td>Albania</td>\n",
       "      <td>EASTERN EUROPE</td>\n",
       "      <td>3581655</td>\n",
       "      <td>28748</td>\n",
       "      <td>124.59</td>\n",
       "      <td>1.26</td>\n",
       "      <td>-4.93</td>\n",
       "      <td>21.52</td>\n",
       "      <td>4500.0</td>\n",
       "      <td>86.5</td>\n",
       "      <td>...</td>\n",
       "      <td>15.11</td>\n",
       "      <td>5.22</td>\n",
       "      <td>89</td>\n",
       "      <td>132</td>\n",
       "      <td>54</td>\n",
       "      <td>4.8675</td>\n",
       "      <td>Europe</td>\n",
       "      <td>Lower_middle_income</td>\n",
       "      <td>Albania</td>\n",
       "      <td>74</td>\n",
       "    </tr>\n",
       "    <tr>\n",
       "      <th>2</th>\n",
       "      <td>Algeria</td>\n",
       "      <td>NORTHERN AFRICA</td>\n",
       "      <td>32930091</td>\n",
       "      <td>2381740</td>\n",
       "      <td>13.83</td>\n",
       "      <td>0.04</td>\n",
       "      <td>-0.39</td>\n",
       "      <td>31.00</td>\n",
       "      <td>6000.0</td>\n",
       "      <td>70.0</td>\n",
       "      <td>...</td>\n",
       "      <td>17.14</td>\n",
       "      <td>4.61</td>\n",
       "      <td>25</td>\n",
       "      <td>0</td>\n",
       "      <td>14</td>\n",
       "      <td>0.6903</td>\n",
       "      <td>Africa</td>\n",
       "      <td>Upper_middle_income</td>\n",
       "      <td>Algeria</td>\n",
       "      <td>72</td>\n",
       "    </tr>\n",
       "    <tr>\n",
       "      <th>3</th>\n",
       "      <td>Andorra</td>\n",
       "      <td>WESTERN EUROPE</td>\n",
       "      <td>71201</td>\n",
       "      <td>468</td>\n",
       "      <td>152.14</td>\n",
       "      <td>0.00</td>\n",
       "      <td>6.60</td>\n",
       "      <td>4.05</td>\n",
       "      <td>19000.0</td>\n",
       "      <td>100.0</td>\n",
       "      <td>...</td>\n",
       "      <td>8.71</td>\n",
       "      <td>6.25</td>\n",
       "      <td>245</td>\n",
       "      <td>138</td>\n",
       "      <td>312</td>\n",
       "      <td>12.3015</td>\n",
       "      <td>Europe</td>\n",
       "      <td>High_income</td>\n",
       "      <td>Andorra</td>\n",
       "      <td>83</td>\n",
       "    </tr>\n",
       "    <tr>\n",
       "      <th>4</th>\n",
       "      <td>Angola</td>\n",
       "      <td>SUB-SAHARAN AFRICA</td>\n",
       "      <td>12127071</td>\n",
       "      <td>1246700</td>\n",
       "      <td>9.73</td>\n",
       "      <td>0.13</td>\n",
       "      <td>0.00</td>\n",
       "      <td>191.19</td>\n",
       "      <td>1900.0</td>\n",
       "      <td>42.0</td>\n",
       "      <td>...</td>\n",
       "      <td>45.11</td>\n",
       "      <td>24.20</td>\n",
       "      <td>217</td>\n",
       "      <td>57</td>\n",
       "      <td>45</td>\n",
       "      <td>5.6463</td>\n",
       "      <td>Africa</td>\n",
       "      <td>Lower_middle_income</td>\n",
       "      <td>Angola</td>\n",
       "      <td>51</td>\n",
       "    </tr>\n",
       "  </tbody>\n",
       "</table>\n",
       "<p>5 rows × 24 columns</p>\n",
       "</div>"
      ],
      "text/plain": [
       "       Country                               Region  Population     Area  \\\n",
       "0  Afghanistan        ASIA (EX. NEAR EAST)             31056997   647500   \n",
       "1      Albania  EASTERN EUROPE                          3581655    28748   \n",
       "2      Algeria  NORTHERN AFRICA                        32930091  2381740   \n",
       "3      Andorra  WESTERN EUROPE                            71201      468   \n",
       "4       Angola  SUB-SAHARAN AFRICA                     12127071  1246700   \n",
       "\n",
       "   Pop. Density  Coastline  Net migration  Infant mortality      GDP  \\\n",
       "0         47.96       0.00          23.06            163.07    700.0   \n",
       "1        124.59       1.26          -4.93             21.52   4500.0   \n",
       "2         13.83       0.04          -0.39             31.00   6000.0   \n",
       "3        152.14       0.00           6.60              4.05  19000.0   \n",
       "4          9.73       0.13           0.00            191.19   1900.0   \n",
       "\n",
       "   Literacy  ...  Birthrate  Deathrate  beer_servings  spirit_servings  \\\n",
       "0      36.0  ...      46.60      20.34              0                0   \n",
       "1      86.5  ...      15.11       5.22             89              132   \n",
       "2      70.0  ...      17.14       4.61             25                0   \n",
       "3     100.0  ...       8.71       6.25            245              138   \n",
       "4      42.0  ...      45.11      24.20            217               57   \n",
       "\n",
       "   wine_servings  total_litres_of_pure_alcohol          RegionDisplay  \\\n",
       "0              0                        0.0000  Eastern Mediterranean   \n",
       "1             54                        4.8675                 Europe   \n",
       "2             14                        0.6903                 Africa   \n",
       "3            312                       12.3015                 Europe   \n",
       "4             45                        5.6463                 Africa   \n",
       "\n",
       "   WorldBankIncomeGroupDisplay  CountryDisplay  DisplayValue  \n",
       "0                   Low_income     Afghanistan            60  \n",
       "1          Lower_middle_income         Albania            74  \n",
       "2          Upper_middle_income         Algeria            72  \n",
       "3                  High_income         Andorra            83  \n",
       "4          Lower_middle_income          Angola            51  \n",
       "\n",
       "[5 rows x 24 columns]"
      ]
     },
     "execution_count": 78,
     "metadata": {},
     "output_type": "execute_result"
    }
   ],
   "source": [
    "countries_drink_life_e.head()"
   ]
  },
  {
   "cell_type": "code",
   "execution_count": 21,
   "metadata": {},
   "outputs": [
    {
     "data": {
      "text/plain": [
       "67"
      ]
     },
     "execution_count": 21,
     "metadata": {},
     "output_type": "execute_result"
    }
   ],
   "source": [
    "len(list(set(countries.Country.to_list() ) - set(drinks_life_expectancy.country.to_list())))"
   ]
  },
  {
   "cell_type": "code",
   "execution_count": 22,
   "metadata": {},
   "outputs": [
    {
     "data": {
      "text/plain": [
       "['American Samoa',\n",
       " 'Anguilla',\n",
       " 'Antigua & Barbuda',\n",
       " 'Aruba',\n",
       " 'Bahamas, The',\n",
       " 'Bermuda',\n",
       " 'Bolivia',\n",
       " 'Bosnia & Herzegovina',\n",
       " 'British Virgin Is.',\n",
       " 'Brunei',\n",
       " 'Burma',\n",
       " 'Cape Verde',\n",
       " 'Cayman Islands',\n",
       " 'Central African Rep.',\n",
       " 'Congo, Dem. Rep.',\n",
       " 'Congo, Repub. of the',\n",
       " \"Cote d'Ivoire\",\n",
       " 'East Timor',\n",
       " 'Faroe Islands',\n",
       " 'French Guiana',\n",
       " 'French Polynesia',\n",
       " 'Gambia, The',\n",
       " 'Gaza Strip',\n",
       " 'Gibraltar',\n",
       " 'Greenland',\n",
       " 'Guadeloupe',\n",
       " 'Guam',\n",
       " 'Guernsey',\n",
       " 'Guinea-Bissau',\n",
       " 'Hong Kong',\n",
       " 'Iran',\n",
       " 'Isle of Man',\n",
       " 'Jersey',\n",
       " 'Korea, North',\n",
       " 'Korea, South',\n",
       " 'Laos',\n",
       " 'Liechtenstein',\n",
       " 'Macau',\n",
       " 'Macedonia',\n",
       " 'Martinique',\n",
       " 'Mayotte',\n",
       " 'Micronesia, Fed. St.',\n",
       " 'Moldova',\n",
       " 'Montserrat',\n",
       " 'N. Mariana Islands',\n",
       " 'Netherlands Antilles',\n",
       " 'New Caledonia',\n",
       " 'Puerto Rico',\n",
       " 'Reunion',\n",
       " 'Russia',\n",
       " 'Saint Helena',\n",
       " 'Saint Kitts & Nevis',\n",
       " 'Sao Tome & Principe',\n",
       " 'St Pierre & Miquelon',\n",
       " 'Syria',\n",
       " 'Taiwan',\n",
       " 'Tanzania',\n",
       " 'Trinidad & Tobago',\n",
       " 'Turks & Caicos Is',\n",
       " 'United Kingdom',\n",
       " 'United States',\n",
       " 'Venezuela',\n",
       " 'Vietnam',\n",
       " 'Virgin Islands',\n",
       " 'Wallis and Futuna',\n",
       " 'West Bank',\n",
       " 'Western Sahara']"
      ]
     },
     "execution_count": 22,
     "metadata": {},
     "output_type": "execute_result"
    }
   ],
   "source": [
    "sorted(list(set(countries.Country.to_list() ) - set(drinks_life_expectancy.country.to_list())))"
   ]
  },
  {
   "cell_type": "code",
   "execution_count": 23,
   "metadata": {},
   "outputs": [
    {
     "data": {
      "text/plain": [
       "[]"
      ]
     },
     "execution_count": 23,
     "metadata": {},
     "output_type": "execute_result"
    }
   ],
   "source": [
    "[match for match in drinks_life_expectancy.country.to_list() if \"Macau\" in match]      "
   ]
  },
  {
   "cell_type": "code",
   "execution_count": 24,
   "metadata": {
    "scrolled": true
   },
   "outputs": [
    {
     "data": {
      "text/plain": [
       "[]"
      ]
     },
     "execution_count": 24,
     "metadata": {},
     "output_type": "execute_result"
    }
   ],
   "source": [
    "[match for match in drinks_life_expectancy.country.to_list() if \"Helena\" in match]      "
   ]
  },
  {
   "cell_type": "code",
   "execution_count": 25,
   "metadata": {},
   "outputs": [
    {
     "data": {
      "text/plain": [
       "[]"
      ]
     },
     "execution_count": 25,
     "metadata": {},
     "output_type": "execute_result"
    }
   ],
   "source": [
    "[match for match in drinks_life_expectancy.country.to_list() if \"Gibraltar\" in match]      "
   ]
  },
  {
   "cell_type": "code",
   "execution_count": 26,
   "metadata": {},
   "outputs": [
    {
     "data": {
      "text/plain": [
       "[]"
      ]
     },
     "execution_count": 26,
     "metadata": {},
     "output_type": "execute_result"
    }
   ],
   "source": [
    "[match for match in drinks_life_expectancy.country.to_list() if \"Rico\" in match]      "
   ]
  },
  {
   "cell_type": "code",
   "execution_count": 27,
   "metadata": {},
   "outputs": [
    {
     "data": {
      "text/plain": [
       "[]"
      ]
     },
     "execution_count": 27,
     "metadata": {},
     "output_type": "execute_result"
    }
   ],
   "source": [
    "[match for match in drinks_life_expectancy.country.to_list() if \"French\" in match]      "
   ]
  },
  {
   "cell_type": "code",
   "execution_count": 28,
   "metadata": {},
   "outputs": [
    {
     "data": {
      "text/plain": [
       "[]"
      ]
     },
     "execution_count": 28,
     "metadata": {},
     "output_type": "execute_result"
    }
   ],
   "source": [
    "[match for match in drinks_life_expectancy.country.to_list() if \"Guernsey\" in match]      "
   ]
  },
  {
   "cell_type": "code",
   "execution_count": 29,
   "metadata": {},
   "outputs": [
    {
     "data": {
      "text/plain": [
       "['Equatorial Guinea', 'Guinea', 'Guinea_Bissau', 'Papua New Guinea']"
      ]
     },
     "execution_count": 29,
     "metadata": {},
     "output_type": "execute_result"
    }
   ],
   "source": [
    "[match for match in drinks_life_expectancy.country.to_list() if \"Guinea\" in match]      "
   ]
  },
  {
   "cell_type": "code",
   "execution_count": 30,
   "metadata": {},
   "outputs": [
    {
     "data": {
      "text/plain": [
       "['Republic of Moldova']"
      ]
     },
     "execution_count": 30,
     "metadata": {},
     "output_type": "execute_result"
    }
   ],
   "source": [
    "[match for match in drinks_life_expectancy.country.to_list() if \"Moldova\" in match]      "
   ]
  },
  {
   "cell_type": "code",
   "execution_count": 31,
   "metadata": {
    "scrolled": true
   },
   "outputs": [
    {
     "data": {
      "text/plain": [
       "[]"
      ]
     },
     "execution_count": 31,
     "metadata": {},
     "output_type": "execute_result"
    }
   ],
   "source": [
    "[match for match in drinks_life_expectancy.country.to_list() if \"Taiwan\" in match]      "
   ]
  },
  {
   "cell_type": "code",
   "execution_count": 32,
   "metadata": {
    "scrolled": true
   },
   "outputs": [
    {
     "data": {
      "text/plain": [
       "['Cabo Verde']"
      ]
     },
     "execution_count": 32,
     "metadata": {},
     "output_type": "execute_result"
    }
   ],
   "source": [
    "[match for match in drinks_life_expectancy.country.to_list() if \"Verde\" in match]      "
   ]
  },
  {
   "cell_type": "code",
   "execution_count": 33,
   "metadata": {
    "scrolled": true
   },
   "outputs": [
    {
     "data": {
      "text/plain": [
       "['Netherlands']"
      ]
     },
     "execution_count": 33,
     "metadata": {},
     "output_type": "execute_result"
    }
   ],
   "source": [
    "[match for match in drinks_life_expectancy.country.to_list() if \"Netherlands\" in match]      "
   ]
  },
  {
   "cell_type": "code",
   "execution_count": 34,
   "metadata": {
    "scrolled": true
   },
   "outputs": [
    {
     "data": {
      "text/plain": [
       "['Congo', 'Democratic Republic of the Congo']"
      ]
     },
     "execution_count": 34,
     "metadata": {},
     "output_type": "execute_result"
    }
   ],
   "source": [
    "[match for match in drinks_life_expectancy.country.to_list() if \"Congo\" in match]      "
   ]
  },
  {
   "cell_type": "code",
   "execution_count": 35,
   "metadata": {
    "scrolled": true
   },
   "outputs": [
    {
     "data": {
      "text/plain": [
       "['Sao Tome and Principe']"
      ]
     },
     "execution_count": 35,
     "metadata": {},
     "output_type": "execute_result"
    }
   ],
   "source": [
    "[match for match in drinks_life_expectancy.country.to_list() if \"Tome\" in match]      "
   ]
  },
  {
   "cell_type": "code",
   "execution_count": 36,
   "metadata": {
    "scrolled": true
   },
   "outputs": [
    {
     "data": {
      "text/plain": [
       "['Sao Tome & Principe']"
      ]
     },
     "execution_count": 36,
     "metadata": {},
     "output_type": "execute_result"
    }
   ],
   "source": [
    "[match for match in countries.Country.to_list() if \"Tome\" in match]      "
   ]
  },
  {
   "cell_type": "code",
   "execution_count": 37,
   "metadata": {
    "scrolled": true
   },
   "outputs": [
    {
     "data": {
      "text/plain": [
       "['Bolivia (Plurinational State of)']"
      ]
     },
     "execution_count": 37,
     "metadata": {},
     "output_type": "execute_result"
    }
   ],
   "source": [
    "[match for match in drinks_life_expectancy.country.to_list() if \"Bolivia\" in match]      "
   ]
  },
  {
   "cell_type": "markdown",
   "metadata": {},
   "source": [
    "Let's make country names similar so that it will be easy to merge them"
   ]
  },
  {
   "cell_type": "code",
   "execution_count": 38,
   "metadata": {},
   "outputs": [],
   "source": [
    "row_n = countries[countries['Country'] == \"United States\"].index\n",
    "countries.at[row_n, 'Country'] = 'United States of America'"
   ]
  },
  {
   "cell_type": "code",
   "execution_count": 39,
   "metadata": {},
   "outputs": [],
   "source": [
    "row_n = countries[countries['Country'] == \"Brunei\"].index\n",
    "countries.at[row_n, 'Country'] = \"Brunei Darussalam\""
   ]
  },
  {
   "cell_type": "code",
   "execution_count": 40,
   "metadata": {},
   "outputs": [],
   "source": [
    "row_n = countries[countries['Country'] == \"Russia\"].index\n",
    "countries.at[row_n, 'Country'] = \"Russian Federation\""
   ]
  },
  {
   "cell_type": "code",
   "execution_count": 41,
   "metadata": {},
   "outputs": [],
   "source": [
    "row_n = countries[countries['Country'] == \"Bosnia & Herzegovina\"].index\n",
    "countries.at[row_n, 'Country'] = \"Bosnia and Herzegovina\""
   ]
  },
  {
   "cell_type": "code",
   "execution_count": 42,
   "metadata": {},
   "outputs": [],
   "source": [
    "row_n = countries[countries['Country'] == \"Bosnia & Herzegovina\"].index\n",
    "countries.at[row_n, 'Country'] = \"Bosnia and Herzegovina\""
   ]
  },
  {
   "cell_type": "code",
   "execution_count": 43,
   "metadata": {},
   "outputs": [],
   "source": [
    "row_n = countries[countries['Country'] == \"East Timor\"].index\n",
    "countries.at[row_n, 'Country'] = \"Timor_Leste\""
   ]
  },
  {
   "cell_type": "code",
   "execution_count": 44,
   "metadata": {},
   "outputs": [],
   "source": [
    "row_n = countries[countries['Country'] == \"Moldova\"].index\n",
    "countries.at[row_n, 'Country'] = \"Republic of Moldova\""
   ]
  },
  {
   "cell_type": "code",
   "execution_count": 45,
   "metadata": {},
   "outputs": [],
   "source": [
    "row_n = countries[countries['Country'] == \"Cape Verde\"].index\n",
    "countries.at[row_n, 'Country'] = \"Cabo Verde\""
   ]
  },
  {
   "cell_type": "code",
   "execution_count": 46,
   "metadata": {},
   "outputs": [],
   "source": [
    "row_n = countries[countries['Country'] == \"Micronesia, Fed. St.\"].index\n",
    "countries.at[row_n, 'Country'] = \"Micronesia (Federated States of)\""
   ]
  },
  {
   "cell_type": "code",
   "execution_count": 47,
   "metadata": {},
   "outputs": [],
   "source": [
    "row_n = countries[countries['Country'] == \"Saint Kitts & Nevis\"].index\n",
    "countries.at[row_n, 'Country'] = \"Saint Kitts and Nevis\""
   ]
  },
  {
   "cell_type": "code",
   "execution_count": 48,
   "metadata": {},
   "outputs": [],
   "source": [
    "row_n = countries[countries['Country'] == \"United Kingdom\"].index\n",
    "countries.at[row_n, 'Country'] = \"United Kingdom of Great Britain and Northern Ireland\""
   ]
  },
  {
   "cell_type": "code",
   "execution_count": 49,
   "metadata": {},
   "outputs": [],
   "source": [
    "row_n = countries[countries['Country'] == \"Cote d'Ivoire\"].index\n",
    "countries.at[row_n, 'Country'] = \"Côte d'Ivoire\""
   ]
  },
  {
   "cell_type": "code",
   "execution_count": 50,
   "metadata": {},
   "outputs": [],
   "source": [
    "row_n = countries[countries['Country'] == \"Korea, South\"].index\n",
    "countries.at[row_n, 'Country'] = \"Republic of Korea\""
   ]
  },
  {
   "cell_type": "code",
   "execution_count": 51,
   "metadata": {},
   "outputs": [],
   "source": [
    "row_n = countries[countries['Country'] == \"Iran\"].index\n",
    "countries.at[row_n, 'Country'] = \"Iran (Islamic Republic of)\""
   ]
  },
  {
   "cell_type": "code",
   "execution_count": 52,
   "metadata": {},
   "outputs": [],
   "source": [
    "row_n = countries[countries['Country'] == \"Trinidad & Tobago\"].index\n",
    "countries.at[row_n, 'Country'] = \"Trinidad and Tobago\""
   ]
  },
  {
   "cell_type": "code",
   "execution_count": 53,
   "metadata": {},
   "outputs": [],
   "source": [
    "row_n = countries[countries['Country'] == \"Vietnam\"].index\n",
    "countries.at[row_n, 'Country'] = \"Viet Nam\""
   ]
  },
  {
   "cell_type": "code",
   "execution_count": 54,
   "metadata": {},
   "outputs": [],
   "source": [
    "row_n = countries[countries['Country'] == \"Macedonia\"].index\n",
    "countries.at[row_n, 'Country'] = \"The former Yugoslav republic of Macedonia\""
   ]
  },
  {
   "cell_type": "code",
   "execution_count": 55,
   "metadata": {},
   "outputs": [],
   "source": [
    "row_n = countries[countries['Country'] == \"Antigua & Barbuda\"].index\n",
    "countries.at[row_n, 'Country'] = \"Antigua and Barbuda\""
   ]
  },
  {
   "cell_type": "code",
   "execution_count": 56,
   "metadata": {},
   "outputs": [],
   "source": [
    "row_n = countries[countries['Country'] == \"Korea, North\"].index\n",
    "countries.at[row_n, 'Country'] = \"Democratic People's Republic of Korea\""
   ]
  },
  {
   "cell_type": "code",
   "execution_count": 57,
   "metadata": {},
   "outputs": [],
   "source": [
    "row_n = countries[countries['Country'] == \"Brunei\"].index\n",
    "countries.at[row_n, 'Country'] = \"Brunei Darussalam\""
   ]
  },
  {
   "cell_type": "code",
   "execution_count": 58,
   "metadata": {},
   "outputs": [],
   "source": [
    "row_n = countries[countries['Country'] == \"Gambia, The\"].index\n",
    "countries.at[row_n, 'Country'] = \"Gambia\""
   ]
  },
  {
   "cell_type": "code",
   "execution_count": 59,
   "metadata": {},
   "outputs": [],
   "source": [
    "row_n = countries[countries['Country'] == \"Central African Rep.\"].index\n",
    "countries.at[row_n, 'Country'] = \"Central African Republic\""
   ]
  },
  {
   "cell_type": "code",
   "execution_count": 60,
   "metadata": {},
   "outputs": [],
   "source": [
    "row_n = countries[countries['Country'] == \"Congo, Repub. of the\"].index\n",
    "countries.at[row_n, 'Country'] = \"Congo\""
   ]
  },
  {
   "cell_type": "code",
   "execution_count": 61,
   "metadata": {},
   "outputs": [],
   "source": [
    "row_n = countries[countries['Country'] == \"Venezuela\"].index\n",
    "countries.at[row_n, 'Country'] = \"Venezuela (Bolivarian Republic of)\""
   ]
  },
  {
   "cell_type": "code",
   "execution_count": 62,
   "metadata": {},
   "outputs": [],
   "source": [
    "row_n = countries[countries['Country'] == \"Laos\"].index\n",
    "countries.at[row_n, 'Country'] = \"Lao People's Democratic Republic\""
   ]
  },
  {
   "cell_type": "code",
   "execution_count": 63,
   "metadata": {},
   "outputs": [],
   "source": [
    "row_n = countries[countries['Country'] == \"Tanzania\"].index\n",
    "countries.at[row_n, 'Country'] = \"United Republic of Tanzania\""
   ]
  },
  {
   "cell_type": "code",
   "execution_count": 64,
   "metadata": {},
   "outputs": [],
   "source": [
    "row_n = countries[countries['Country'] == \"Sao Tome & Principe\"].index\n",
    "countries.at[row_n, 'Country'] = \"Sao Tome and Principe\""
   ]
  },
  {
   "cell_type": "code",
   "execution_count": 65,
   "metadata": {},
   "outputs": [],
   "source": [
    "row_n = countries[countries['Country'] == \"Syria\"].index\n",
    "countries.at[row_n, 'Country'] = \"Syrian Arab Republic\""
   ]
  },
  {
   "cell_type": "code",
   "execution_count": 66,
   "metadata": {},
   "outputs": [],
   "source": [
    "row_n = countries[countries['Country'] == \"Bolivia\"].index\n",
    "countries.at[row_n, 'Country'] = \"Bolivia (Plurinational State of)\""
   ]
  },
  {
   "cell_type": "code",
   "execution_count": 67,
   "metadata": {},
   "outputs": [
    {
     "data": {
      "text/html": [
       "<div>\n",
       "<style scoped>\n",
       "    .dataframe tbody tr th:only-of-type {\n",
       "        vertical-align: middle;\n",
       "    }\n",
       "\n",
       "    .dataframe tbody tr th {\n",
       "        vertical-align: top;\n",
       "    }\n",
       "\n",
       "    .dataframe thead th {\n",
       "        text-align: right;\n",
       "    }\n",
       "</style>\n",
       "<table border=\"1\" class=\"dataframe\">\n",
       "  <thead>\n",
       "    <tr style=\"text-align: right;\">\n",
       "      <th></th>\n",
       "      <th>Country</th>\n",
       "      <th>Region</th>\n",
       "      <th>Population</th>\n",
       "      <th>Area</th>\n",
       "      <th>Pop. Density</th>\n",
       "      <th>Coastline</th>\n",
       "      <th>Net migration</th>\n",
       "      <th>Infant mortality</th>\n",
       "      <th>GDP</th>\n",
       "      <th>Literacy</th>\n",
       "      <th>Phones</th>\n",
       "      <th>Arable</th>\n",
       "      <th>Crops</th>\n",
       "      <th>Other</th>\n",
       "      <th>Birthrate</th>\n",
       "      <th>Deathrate</th>\n",
       "    </tr>\n",
       "  </thead>\n",
       "  <tbody>\n",
       "    <tr>\n",
       "      <th>24</th>\n",
       "      <td>Bolivia (Plurinational State of)</td>\n",
       "      <td>LATIN AMER. &amp; CARIB</td>\n",
       "      <td>8989046</td>\n",
       "      <td>1098580</td>\n",
       "      <td>8.18</td>\n",
       "      <td>0.0</td>\n",
       "      <td>-1.32</td>\n",
       "      <td>53.11</td>\n",
       "      <td>2400.0</td>\n",
       "      <td>87.2</td>\n",
       "      <td>71.9</td>\n",
       "      <td>2.67</td>\n",
       "      <td>0.19</td>\n",
       "      <td>97.14</td>\n",
       "      <td>23.3</td>\n",
       "      <td>7.53</td>\n",
       "    </tr>\n",
       "  </tbody>\n",
       "</table>\n",
       "</div>"
      ],
      "text/plain": [
       "                             Country                   Region  Population  \\\n",
       "24  Bolivia (Plurinational State of)  LATIN AMER. & CARIB         8989046   \n",
       "\n",
       "       Area  Pop. Density  Coastline  Net migration  Infant mortality     GDP  \\\n",
       "24  1098580          8.18        0.0          -1.32             53.11  2400.0   \n",
       "\n",
       "    Literacy  Phones  Arable  Crops  Other  Birthrate  Deathrate  \n",
       "24      87.2    71.9    2.67   0.19  97.14       23.3       7.53  "
      ]
     },
     "execution_count": 67,
     "metadata": {},
     "output_type": "execute_result"
    }
   ],
   "source": [
    "countries.iloc[row_n]"
   ]
  },
  {
   "cell_type": "code",
   "execution_count": 68,
   "metadata": {},
   "outputs": [],
   "source": [
    "countries_drink_life_e = pd.merge(countries, drinks_life_expectancy, left_on='Country', right_on = 'country')"
   ]
  },
  {
   "cell_type": "code",
   "execution_count": 79,
   "metadata": {},
   "outputs": [
    {
     "data": {
      "text/html": [
       "<div>\n",
       "<style scoped>\n",
       "    .dataframe tbody tr th:only-of-type {\n",
       "        vertical-align: middle;\n",
       "    }\n",
       "\n",
       "    .dataframe tbody tr th {\n",
       "        vertical-align: top;\n",
       "    }\n",
       "\n",
       "    .dataframe thead th {\n",
       "        text-align: right;\n",
       "    }\n",
       "</style>\n",
       "<table border=\"1\" class=\"dataframe\">\n",
       "  <thead>\n",
       "    <tr style=\"text-align: right;\">\n",
       "      <th></th>\n",
       "      <th>Country</th>\n",
       "      <th>Region</th>\n",
       "      <th>Population</th>\n",
       "      <th>Area</th>\n",
       "      <th>Pop. Density</th>\n",
       "      <th>Coastline</th>\n",
       "      <th>Net migration</th>\n",
       "      <th>Infant mortality</th>\n",
       "      <th>GDP</th>\n",
       "      <th>Literacy</th>\n",
       "      <th>...</th>\n",
       "      <th>Birthrate</th>\n",
       "      <th>Deathrate</th>\n",
       "      <th>beer_servings</th>\n",
       "      <th>spirit_servings</th>\n",
       "      <th>wine_servings</th>\n",
       "      <th>total_litres_of_pure_alcohol</th>\n",
       "      <th>RegionDisplay</th>\n",
       "      <th>WorldBankIncomeGroupDisplay</th>\n",
       "      <th>CountryDisplay</th>\n",
       "      <th>DisplayValue</th>\n",
       "    </tr>\n",
       "  </thead>\n",
       "  <tbody>\n",
       "    <tr>\n",
       "      <th>0</th>\n",
       "      <td>Afghanistan</td>\n",
       "      <td>ASIA (EX. NEAR EAST)</td>\n",
       "      <td>31056997</td>\n",
       "      <td>647500</td>\n",
       "      <td>47.96</td>\n",
       "      <td>0.00</td>\n",
       "      <td>23.06</td>\n",
       "      <td>163.07</td>\n",
       "      <td>700.0</td>\n",
       "      <td>36.0</td>\n",
       "      <td>...</td>\n",
       "      <td>46.60</td>\n",
       "      <td>20.34</td>\n",
       "      <td>0</td>\n",
       "      <td>0</td>\n",
       "      <td>0</td>\n",
       "      <td>0.0000</td>\n",
       "      <td>Eastern Mediterranean</td>\n",
       "      <td>Low_income</td>\n",
       "      <td>Afghanistan</td>\n",
       "      <td>60</td>\n",
       "    </tr>\n",
       "    <tr>\n",
       "      <th>1</th>\n",
       "      <td>Albania</td>\n",
       "      <td>EASTERN EUROPE</td>\n",
       "      <td>3581655</td>\n",
       "      <td>28748</td>\n",
       "      <td>124.59</td>\n",
       "      <td>1.26</td>\n",
       "      <td>-4.93</td>\n",
       "      <td>21.52</td>\n",
       "      <td>4500.0</td>\n",
       "      <td>86.5</td>\n",
       "      <td>...</td>\n",
       "      <td>15.11</td>\n",
       "      <td>5.22</td>\n",
       "      <td>89</td>\n",
       "      <td>132</td>\n",
       "      <td>54</td>\n",
       "      <td>4.8675</td>\n",
       "      <td>Europe</td>\n",
       "      <td>Lower_middle_income</td>\n",
       "      <td>Albania</td>\n",
       "      <td>74</td>\n",
       "    </tr>\n",
       "    <tr>\n",
       "      <th>2</th>\n",
       "      <td>Algeria</td>\n",
       "      <td>NORTHERN AFRICA</td>\n",
       "      <td>32930091</td>\n",
       "      <td>2381740</td>\n",
       "      <td>13.83</td>\n",
       "      <td>0.04</td>\n",
       "      <td>-0.39</td>\n",
       "      <td>31.00</td>\n",
       "      <td>6000.0</td>\n",
       "      <td>70.0</td>\n",
       "      <td>...</td>\n",
       "      <td>17.14</td>\n",
       "      <td>4.61</td>\n",
       "      <td>25</td>\n",
       "      <td>0</td>\n",
       "      <td>14</td>\n",
       "      <td>0.6903</td>\n",
       "      <td>Africa</td>\n",
       "      <td>Upper_middle_income</td>\n",
       "      <td>Algeria</td>\n",
       "      <td>72</td>\n",
       "    </tr>\n",
       "    <tr>\n",
       "      <th>3</th>\n",
       "      <td>Andorra</td>\n",
       "      <td>WESTERN EUROPE</td>\n",
       "      <td>71201</td>\n",
       "      <td>468</td>\n",
       "      <td>152.14</td>\n",
       "      <td>0.00</td>\n",
       "      <td>6.60</td>\n",
       "      <td>4.05</td>\n",
       "      <td>19000.0</td>\n",
       "      <td>100.0</td>\n",
       "      <td>...</td>\n",
       "      <td>8.71</td>\n",
       "      <td>6.25</td>\n",
       "      <td>245</td>\n",
       "      <td>138</td>\n",
       "      <td>312</td>\n",
       "      <td>12.3015</td>\n",
       "      <td>Europe</td>\n",
       "      <td>High_income</td>\n",
       "      <td>Andorra</td>\n",
       "      <td>83</td>\n",
       "    </tr>\n",
       "    <tr>\n",
       "      <th>4</th>\n",
       "      <td>Angola</td>\n",
       "      <td>SUB-SAHARAN AFRICA</td>\n",
       "      <td>12127071</td>\n",
       "      <td>1246700</td>\n",
       "      <td>9.73</td>\n",
       "      <td>0.13</td>\n",
       "      <td>0.00</td>\n",
       "      <td>191.19</td>\n",
       "      <td>1900.0</td>\n",
       "      <td>42.0</td>\n",
       "      <td>...</td>\n",
       "      <td>45.11</td>\n",
       "      <td>24.20</td>\n",
       "      <td>217</td>\n",
       "      <td>57</td>\n",
       "      <td>45</td>\n",
       "      <td>5.6463</td>\n",
       "      <td>Africa</td>\n",
       "      <td>Lower_middle_income</td>\n",
       "      <td>Angola</td>\n",
       "      <td>51</td>\n",
       "    </tr>\n",
       "  </tbody>\n",
       "</table>\n",
       "<p>5 rows × 24 columns</p>\n",
       "</div>"
      ],
      "text/plain": [
       "       Country                               Region  Population     Area  \\\n",
       "0  Afghanistan        ASIA (EX. NEAR EAST)             31056997   647500   \n",
       "1      Albania  EASTERN EUROPE                          3581655    28748   \n",
       "2      Algeria  NORTHERN AFRICA                        32930091  2381740   \n",
       "3      Andorra  WESTERN EUROPE                            71201      468   \n",
       "4       Angola  SUB-SAHARAN AFRICA                     12127071  1246700   \n",
       "\n",
       "   Pop. Density  Coastline  Net migration  Infant mortality      GDP  \\\n",
       "0         47.96       0.00          23.06            163.07    700.0   \n",
       "1        124.59       1.26          -4.93             21.52   4500.0   \n",
       "2         13.83       0.04          -0.39             31.00   6000.0   \n",
       "3        152.14       0.00           6.60              4.05  19000.0   \n",
       "4          9.73       0.13           0.00            191.19   1900.0   \n",
       "\n",
       "   Literacy  ...  Birthrate  Deathrate  beer_servings  spirit_servings  \\\n",
       "0      36.0  ...      46.60      20.34              0                0   \n",
       "1      86.5  ...      15.11       5.22             89              132   \n",
       "2      70.0  ...      17.14       4.61             25                0   \n",
       "3     100.0  ...       8.71       6.25            245              138   \n",
       "4      42.0  ...      45.11      24.20            217               57   \n",
       "\n",
       "   wine_servings  total_litres_of_pure_alcohol          RegionDisplay  \\\n",
       "0              0                        0.0000  Eastern Mediterranean   \n",
       "1             54                        4.8675                 Europe   \n",
       "2             14                        0.6903                 Africa   \n",
       "3            312                       12.3015                 Europe   \n",
       "4             45                        5.6463                 Africa   \n",
       "\n",
       "   WorldBankIncomeGroupDisplay  CountryDisplay  DisplayValue  \n",
       "0                   Low_income     Afghanistan            60  \n",
       "1          Lower_middle_income         Albania            74  \n",
       "2          Upper_middle_income         Algeria            72  \n",
       "3                  High_income         Andorra            83  \n",
       "4          Lower_middle_income          Angola            51  \n",
       "\n",
       "[5 rows x 24 columns]"
      ]
     },
     "execution_count": 79,
     "metadata": {},
     "output_type": "execute_result"
    }
   ],
   "source": [
    "countries_drink_life_e.head()"
   ]
  },
  {
   "cell_type": "markdown",
   "metadata": {},
   "source": [
    "Now we get 187 rows when merged, not 160 rows as it was previously"
   ]
  },
  {
   "cell_type": "markdown",
   "metadata": {},
   "source": [
    "###### Find factors that are highly correlated to the expected lifetime"
   ]
  },
  {
   "cell_type": "code",
   "execution_count": 70,
   "metadata": {},
   "outputs": [
    {
     "data": {
      "text/plain": [
       "Index(['Country', 'Region', 'Population', 'Area', 'Pop. Density', 'Coastline',\n",
       "       'Net migration', 'Infant mortality', 'GDP', 'Literacy', 'Phones',\n",
       "       'Arable', 'Crops', 'Other', 'Birthrate', 'Deathrate', 'country',\n",
       "       'beer_servings', 'spirit_servings', 'wine_servings',\n",
       "       'total_litres_of_pure_alcohol', 'GhoCode', 'GhoDisplay',\n",
       "       'PublishStateCode', 'PublishStateDisplay', 'YearCode', 'YearDisplay',\n",
       "       'RegionCode', 'RegionDisplay', 'WorldBankIncomeGroupGroupCode',\n",
       "       'WorldBankIncomeGroupDisplay', 'CountryCode', 'CountryDisplay',\n",
       "       'SexCode', 'SexDisplay', 'DisplayValue', 'Numeric'],\n",
       "      dtype='object')"
      ]
     },
     "execution_count": 70,
     "metadata": {},
     "output_type": "execute_result"
    }
   ],
   "source": [
    "countries_drink_life_e.columns"
   ]
  },
  {
   "cell_type": "markdown",
   "metadata": {},
   "source": [
    "We will see a correlation table. But before that, let's get rid of columns that has no meaning and does not give any message in the correlation table."
   ]
  },
  {
   "cell_type": "code",
   "execution_count": 71,
   "metadata": {},
   "outputs": [],
   "source": [
    "columns_to_drop = ['country', 'GhoCode', 'GhoDisplay', 'PublishStateCode', 'PublishStateDisplay', 'YearCode', 'YearDisplay', 'RegionCode', 'WorldBankIncomeGroupGroupCode', 'CountryCode', 'SexCode', 'SexDisplay', 'Numeric']"
   ]
  },
  {
   "cell_type": "code",
   "execution_count": 72,
   "metadata": {},
   "outputs": [],
   "source": [
    "countries_drink_life_e.drop(columns_to_drop,  axis='columns', inplace=True)"
   ]
  },
  {
   "cell_type": "code",
   "execution_count": 73,
   "metadata": {},
   "outputs": [
    {
     "data": {
      "text/plain": [
       "Index(['Country', 'Region', 'Population', 'Area', 'Pop. Density', 'Coastline',\n",
       "       'Net migration', 'Infant mortality', 'GDP', 'Literacy', 'Phones',\n",
       "       'Arable', 'Crops', 'Other', 'Birthrate', 'Deathrate', 'beer_servings',\n",
       "       'spirit_servings', 'wine_servings', 'total_litres_of_pure_alcohol',\n",
       "       'RegionDisplay', 'WorldBankIncomeGroupDisplay', 'CountryDisplay',\n",
       "       'DisplayValue'],\n",
       "      dtype='object')"
      ]
     },
     "execution_count": 73,
     "metadata": {},
     "output_type": "execute_result"
    }
   ],
   "source": [
    "countries_drink_life_e.columns"
   ]
  },
  {
   "cell_type": "markdown",
   "metadata": {},
   "source": [
    "Now we have variables from two datasets. To find the variables that are highly correlated with each other, we use Person's correlation coefficient. "
   ]
  },
  {
   "cell_type": "code",
   "execution_count": 74,
   "metadata": {},
   "outputs": [],
   "source": [
    "pearsoncorr = countries_drink_life_e.corr(method='pearson')"
   ]
  },
  {
   "cell_type": "code",
   "execution_count": 75,
   "metadata": {},
   "outputs": [],
   "source": [
    "def color_negative_red(val):\n",
    "    \"\"\"\n",
    "    Takes a scalar and returns a string with\n",
    "    the css property `'color: red'` for values\n",
    "    more than 0.8, black otherwise.\n",
    "    \"\"\"\n",
    "    color = 'red' if val > 0.7 else 'black'\n",
    "    return 'color: % s' % color"
   ]
  },
  {
   "cell_type": "markdown",
   "metadata": {},
   "source": [
    "The closer is the Person's correlation coefficient to 1 - the stronger is the relationship between two variables. "
   ]
  },
  {
   "cell_type": "code",
   "execution_count": 76,
   "metadata": {},
   "outputs": [
    {
     "data": {
      "text/html": [
       "<style  type=\"text/css\" >\n",
       "    #T_1f813131_e485_11eb_96a8_a08869ebc287row0_col0 {\n",
       "            color:  red;\n",
       "        }    #T_1f813131_e485_11eb_96a8_a08869ebc287row0_col1 {\n",
       "            color:  black;\n",
       "        }    #T_1f813131_e485_11eb_96a8_a08869ebc287row0_col2 {\n",
       "            color:  black;\n",
       "        }    #T_1f813131_e485_11eb_96a8_a08869ebc287row0_col3 {\n",
       "            color:  black;\n",
       "        }    #T_1f813131_e485_11eb_96a8_a08869ebc287row0_col4 {\n",
       "            color:  black;\n",
       "        }    #T_1f813131_e485_11eb_96a8_a08869ebc287row0_col5 {\n",
       "            color:  black;\n",
       "        }    #T_1f813131_e485_11eb_96a8_a08869ebc287row0_col6 {\n",
       "            color:  black;\n",
       "        }    #T_1f813131_e485_11eb_96a8_a08869ebc287row0_col7 {\n",
       "            color:  black;\n",
       "        }    #T_1f813131_e485_11eb_96a8_a08869ebc287row0_col8 {\n",
       "            color:  black;\n",
       "        }    #T_1f813131_e485_11eb_96a8_a08869ebc287row0_col9 {\n",
       "            color:  black;\n",
       "        }    #T_1f813131_e485_11eb_96a8_a08869ebc287row0_col10 {\n",
       "            color:  black;\n",
       "        }    #T_1f813131_e485_11eb_96a8_a08869ebc287row0_col11 {\n",
       "            color:  black;\n",
       "        }    #T_1f813131_e485_11eb_96a8_a08869ebc287row0_col12 {\n",
       "            color:  black;\n",
       "        }    #T_1f813131_e485_11eb_96a8_a08869ebc287row0_col13 {\n",
       "            color:  black;\n",
       "        }    #T_1f813131_e485_11eb_96a8_a08869ebc287row0_col14 {\n",
       "            color:  black;\n",
       "        }    #T_1f813131_e485_11eb_96a8_a08869ebc287row0_col15 {\n",
       "            color:  black;\n",
       "        }    #T_1f813131_e485_11eb_96a8_a08869ebc287row0_col16 {\n",
       "            color:  black;\n",
       "        }    #T_1f813131_e485_11eb_96a8_a08869ebc287row0_col17 {\n",
       "            color:  black;\n",
       "        }    #T_1f813131_e485_11eb_96a8_a08869ebc287row0_col18 {\n",
       "            color:  black;\n",
       "        }    #T_1f813131_e485_11eb_96a8_a08869ebc287row1_col0 {\n",
       "            color:  black;\n",
       "        }    #T_1f813131_e485_11eb_96a8_a08869ebc287row1_col1 {\n",
       "            color:  red;\n",
       "        }    #T_1f813131_e485_11eb_96a8_a08869ebc287row1_col2 {\n",
       "            color:  black;\n",
       "        }    #T_1f813131_e485_11eb_96a8_a08869ebc287row1_col3 {\n",
       "            color:  black;\n",
       "        }    #T_1f813131_e485_11eb_96a8_a08869ebc287row1_col4 {\n",
       "            color:  black;\n",
       "        }    #T_1f813131_e485_11eb_96a8_a08869ebc287row1_col5 {\n",
       "            color:  black;\n",
       "        }    #T_1f813131_e485_11eb_96a8_a08869ebc287row1_col6 {\n",
       "            color:  black;\n",
       "        }    #T_1f813131_e485_11eb_96a8_a08869ebc287row1_col7 {\n",
       "            color:  black;\n",
       "        }    #T_1f813131_e485_11eb_96a8_a08869ebc287row1_col8 {\n",
       "            color:  black;\n",
       "        }    #T_1f813131_e485_11eb_96a8_a08869ebc287row1_col9 {\n",
       "            color:  black;\n",
       "        }    #T_1f813131_e485_11eb_96a8_a08869ebc287row1_col10 {\n",
       "            color:  black;\n",
       "        }    #T_1f813131_e485_11eb_96a8_a08869ebc287row1_col11 {\n",
       "            color:  black;\n",
       "        }    #T_1f813131_e485_11eb_96a8_a08869ebc287row1_col12 {\n",
       "            color:  black;\n",
       "        }    #T_1f813131_e485_11eb_96a8_a08869ebc287row1_col13 {\n",
       "            color:  black;\n",
       "        }    #T_1f813131_e485_11eb_96a8_a08869ebc287row1_col14 {\n",
       "            color:  black;\n",
       "        }    #T_1f813131_e485_11eb_96a8_a08869ebc287row1_col15 {\n",
       "            color:  black;\n",
       "        }    #T_1f813131_e485_11eb_96a8_a08869ebc287row1_col16 {\n",
       "            color:  black;\n",
       "        }    #T_1f813131_e485_11eb_96a8_a08869ebc287row1_col17 {\n",
       "            color:  black;\n",
       "        }    #T_1f813131_e485_11eb_96a8_a08869ebc287row1_col18 {\n",
       "            color:  black;\n",
       "        }    #T_1f813131_e485_11eb_96a8_a08869ebc287row2_col0 {\n",
       "            color:  black;\n",
       "        }    #T_1f813131_e485_11eb_96a8_a08869ebc287row2_col1 {\n",
       "            color:  black;\n",
       "        }    #T_1f813131_e485_11eb_96a8_a08869ebc287row2_col2 {\n",
       "            color:  red;\n",
       "        }    #T_1f813131_e485_11eb_96a8_a08869ebc287row2_col3 {\n",
       "            color:  black;\n",
       "        }    #T_1f813131_e485_11eb_96a8_a08869ebc287row2_col4 {\n",
       "            color:  black;\n",
       "        }    #T_1f813131_e485_11eb_96a8_a08869ebc287row2_col5 {\n",
       "            color:  black;\n",
       "        }    #T_1f813131_e485_11eb_96a8_a08869ebc287row2_col6 {\n",
       "            color:  black;\n",
       "        }    #T_1f813131_e485_11eb_96a8_a08869ebc287row2_col7 {\n",
       "            color:  black;\n",
       "        }    #T_1f813131_e485_11eb_96a8_a08869ebc287row2_col8 {\n",
       "            color:  black;\n",
       "        }    #T_1f813131_e485_11eb_96a8_a08869ebc287row2_col9 {\n",
       "            color:  black;\n",
       "        }    #T_1f813131_e485_11eb_96a8_a08869ebc287row2_col10 {\n",
       "            color:  black;\n",
       "        }    #T_1f813131_e485_11eb_96a8_a08869ebc287row2_col11 {\n",
       "            color:  black;\n",
       "        }    #T_1f813131_e485_11eb_96a8_a08869ebc287row2_col12 {\n",
       "            color:  black;\n",
       "        }    #T_1f813131_e485_11eb_96a8_a08869ebc287row2_col13 {\n",
       "            color:  black;\n",
       "        }    #T_1f813131_e485_11eb_96a8_a08869ebc287row2_col14 {\n",
       "            color:  black;\n",
       "        }    #T_1f813131_e485_11eb_96a8_a08869ebc287row2_col15 {\n",
       "            color:  black;\n",
       "        }    #T_1f813131_e485_11eb_96a8_a08869ebc287row2_col16 {\n",
       "            color:  black;\n",
       "        }    #T_1f813131_e485_11eb_96a8_a08869ebc287row2_col17 {\n",
       "            color:  black;\n",
       "        }    #T_1f813131_e485_11eb_96a8_a08869ebc287row2_col18 {\n",
       "            color:  black;\n",
       "        }    #T_1f813131_e485_11eb_96a8_a08869ebc287row3_col0 {\n",
       "            color:  black;\n",
       "        }    #T_1f813131_e485_11eb_96a8_a08869ebc287row3_col1 {\n",
       "            color:  black;\n",
       "        }    #T_1f813131_e485_11eb_96a8_a08869ebc287row3_col2 {\n",
       "            color:  black;\n",
       "        }    #T_1f813131_e485_11eb_96a8_a08869ebc287row3_col3 {\n",
       "            color:  red;\n",
       "        }    #T_1f813131_e485_11eb_96a8_a08869ebc287row3_col4 {\n",
       "            color:  black;\n",
       "        }    #T_1f813131_e485_11eb_96a8_a08869ebc287row3_col5 {\n",
       "            color:  black;\n",
       "        }    #T_1f813131_e485_11eb_96a8_a08869ebc287row3_col6 {\n",
       "            color:  black;\n",
       "        }    #T_1f813131_e485_11eb_96a8_a08869ebc287row3_col7 {\n",
       "            color:  black;\n",
       "        }    #T_1f813131_e485_11eb_96a8_a08869ebc287row3_col8 {\n",
       "            color:  black;\n",
       "        }    #T_1f813131_e485_11eb_96a8_a08869ebc287row3_col9 {\n",
       "            color:  black;\n",
       "        }    #T_1f813131_e485_11eb_96a8_a08869ebc287row3_col10 {\n",
       "            color:  black;\n",
       "        }    #T_1f813131_e485_11eb_96a8_a08869ebc287row3_col11 {\n",
       "            color:  black;\n",
       "        }    #T_1f813131_e485_11eb_96a8_a08869ebc287row3_col12 {\n",
       "            color:  black;\n",
       "        }    #T_1f813131_e485_11eb_96a8_a08869ebc287row3_col13 {\n",
       "            color:  black;\n",
       "        }    #T_1f813131_e485_11eb_96a8_a08869ebc287row3_col14 {\n",
       "            color:  black;\n",
       "        }    #T_1f813131_e485_11eb_96a8_a08869ebc287row3_col15 {\n",
       "            color:  black;\n",
       "        }    #T_1f813131_e485_11eb_96a8_a08869ebc287row3_col16 {\n",
       "            color:  black;\n",
       "        }    #T_1f813131_e485_11eb_96a8_a08869ebc287row3_col17 {\n",
       "            color:  black;\n",
       "        }    #T_1f813131_e485_11eb_96a8_a08869ebc287row3_col18 {\n",
       "            color:  black;\n",
       "        }    #T_1f813131_e485_11eb_96a8_a08869ebc287row4_col0 {\n",
       "            color:  black;\n",
       "        }    #T_1f813131_e485_11eb_96a8_a08869ebc287row4_col1 {\n",
       "            color:  black;\n",
       "        }    #T_1f813131_e485_11eb_96a8_a08869ebc287row4_col2 {\n",
       "            color:  black;\n",
       "        }    #T_1f813131_e485_11eb_96a8_a08869ebc287row4_col3 {\n",
       "            color:  black;\n",
       "        }    #T_1f813131_e485_11eb_96a8_a08869ebc287row4_col4 {\n",
       "            color:  red;\n",
       "        }    #T_1f813131_e485_11eb_96a8_a08869ebc287row4_col5 {\n",
       "            color:  black;\n",
       "        }    #T_1f813131_e485_11eb_96a8_a08869ebc287row4_col6 {\n",
       "            color:  black;\n",
       "        }    #T_1f813131_e485_11eb_96a8_a08869ebc287row4_col7 {\n",
       "            color:  black;\n",
       "        }    #T_1f813131_e485_11eb_96a8_a08869ebc287row4_col8 {\n",
       "            color:  black;\n",
       "        }    #T_1f813131_e485_11eb_96a8_a08869ebc287row4_col9 {\n",
       "            color:  black;\n",
       "        }    #T_1f813131_e485_11eb_96a8_a08869ebc287row4_col10 {\n",
       "            color:  black;\n",
       "        }    #T_1f813131_e485_11eb_96a8_a08869ebc287row4_col11 {\n",
       "            color:  black;\n",
       "        }    #T_1f813131_e485_11eb_96a8_a08869ebc287row4_col12 {\n",
       "            color:  black;\n",
       "        }    #T_1f813131_e485_11eb_96a8_a08869ebc287row4_col13 {\n",
       "            color:  black;\n",
       "        }    #T_1f813131_e485_11eb_96a8_a08869ebc287row4_col14 {\n",
       "            color:  black;\n",
       "        }    #T_1f813131_e485_11eb_96a8_a08869ebc287row4_col15 {\n",
       "            color:  black;\n",
       "        }    #T_1f813131_e485_11eb_96a8_a08869ebc287row4_col16 {\n",
       "            color:  black;\n",
       "        }    #T_1f813131_e485_11eb_96a8_a08869ebc287row4_col17 {\n",
       "            color:  black;\n",
       "        }    #T_1f813131_e485_11eb_96a8_a08869ebc287row4_col18 {\n",
       "            color:  black;\n",
       "        }    #T_1f813131_e485_11eb_96a8_a08869ebc287row5_col0 {\n",
       "            color:  black;\n",
       "        }    #T_1f813131_e485_11eb_96a8_a08869ebc287row5_col1 {\n",
       "            color:  black;\n",
       "        }    #T_1f813131_e485_11eb_96a8_a08869ebc287row5_col2 {\n",
       "            color:  black;\n",
       "        }    #T_1f813131_e485_11eb_96a8_a08869ebc287row5_col3 {\n",
       "            color:  black;\n",
       "        }    #T_1f813131_e485_11eb_96a8_a08869ebc287row5_col4 {\n",
       "            color:  black;\n",
       "        }    #T_1f813131_e485_11eb_96a8_a08869ebc287row5_col5 {\n",
       "            color:  red;\n",
       "        }    #T_1f813131_e485_11eb_96a8_a08869ebc287row5_col6 {\n",
       "            color:  black;\n",
       "        }    #T_1f813131_e485_11eb_96a8_a08869ebc287row5_col7 {\n",
       "            color:  black;\n",
       "        }    #T_1f813131_e485_11eb_96a8_a08869ebc287row5_col8 {\n",
       "            color:  black;\n",
       "        }    #T_1f813131_e485_11eb_96a8_a08869ebc287row5_col9 {\n",
       "            color:  black;\n",
       "        }    #T_1f813131_e485_11eb_96a8_a08869ebc287row5_col10 {\n",
       "            color:  black;\n",
       "        }    #T_1f813131_e485_11eb_96a8_a08869ebc287row5_col11 {\n",
       "            color:  black;\n",
       "        }    #T_1f813131_e485_11eb_96a8_a08869ebc287row5_col12 {\n",
       "            color:  red;\n",
       "        }    #T_1f813131_e485_11eb_96a8_a08869ebc287row5_col13 {\n",
       "            color:  black;\n",
       "        }    #T_1f813131_e485_11eb_96a8_a08869ebc287row5_col14 {\n",
       "            color:  black;\n",
       "        }    #T_1f813131_e485_11eb_96a8_a08869ebc287row5_col15 {\n",
       "            color:  black;\n",
       "        }    #T_1f813131_e485_11eb_96a8_a08869ebc287row5_col16 {\n",
       "            color:  black;\n",
       "        }    #T_1f813131_e485_11eb_96a8_a08869ebc287row5_col17 {\n",
       "            color:  black;\n",
       "        }    #T_1f813131_e485_11eb_96a8_a08869ebc287row5_col18 {\n",
       "            color:  black;\n",
       "        }    #T_1f813131_e485_11eb_96a8_a08869ebc287row6_col0 {\n",
       "            color:  black;\n",
       "        }    #T_1f813131_e485_11eb_96a8_a08869ebc287row6_col1 {\n",
       "            color:  black;\n",
       "        }    #T_1f813131_e485_11eb_96a8_a08869ebc287row6_col2 {\n",
       "            color:  black;\n",
       "        }    #T_1f813131_e485_11eb_96a8_a08869ebc287row6_col3 {\n",
       "            color:  black;\n",
       "        }    #T_1f813131_e485_11eb_96a8_a08869ebc287row6_col4 {\n",
       "            color:  black;\n",
       "        }    #T_1f813131_e485_11eb_96a8_a08869ebc287row6_col5 {\n",
       "            color:  black;\n",
       "        }    #T_1f813131_e485_11eb_96a8_a08869ebc287row6_col6 {\n",
       "            color:  red;\n",
       "        }    #T_1f813131_e485_11eb_96a8_a08869ebc287row6_col7 {\n",
       "            color:  black;\n",
       "        }    #T_1f813131_e485_11eb_96a8_a08869ebc287row6_col8 {\n",
       "            color:  red;\n",
       "        }    #T_1f813131_e485_11eb_96a8_a08869ebc287row6_col9 {\n",
       "            color:  black;\n",
       "        }    #T_1f813131_e485_11eb_96a8_a08869ebc287row6_col10 {\n",
       "            color:  black;\n",
       "        }    #T_1f813131_e485_11eb_96a8_a08869ebc287row6_col11 {\n",
       "            color:  black;\n",
       "        }    #T_1f813131_e485_11eb_96a8_a08869ebc287row6_col12 {\n",
       "            color:  black;\n",
       "        }    #T_1f813131_e485_11eb_96a8_a08869ebc287row6_col13 {\n",
       "            color:  black;\n",
       "        }    #T_1f813131_e485_11eb_96a8_a08869ebc287row6_col14 {\n",
       "            color:  black;\n",
       "        }    #T_1f813131_e485_11eb_96a8_a08869ebc287row6_col15 {\n",
       "            color:  black;\n",
       "        }    #T_1f813131_e485_11eb_96a8_a08869ebc287row6_col16 {\n",
       "            color:  black;\n",
       "        }    #T_1f813131_e485_11eb_96a8_a08869ebc287row6_col17 {\n",
       "            color:  black;\n",
       "        }    #T_1f813131_e485_11eb_96a8_a08869ebc287row6_col18 {\n",
       "            color:  black;\n",
       "        }    #T_1f813131_e485_11eb_96a8_a08869ebc287row7_col0 {\n",
       "            color:  black;\n",
       "        }    #T_1f813131_e485_11eb_96a8_a08869ebc287row7_col1 {\n",
       "            color:  black;\n",
       "        }    #T_1f813131_e485_11eb_96a8_a08869ebc287row7_col2 {\n",
       "            color:  black;\n",
       "        }    #T_1f813131_e485_11eb_96a8_a08869ebc287row7_col3 {\n",
       "            color:  black;\n",
       "        }    #T_1f813131_e485_11eb_96a8_a08869ebc287row7_col4 {\n",
       "            color:  black;\n",
       "        }    #T_1f813131_e485_11eb_96a8_a08869ebc287row7_col5 {\n",
       "            color:  black;\n",
       "        }    #T_1f813131_e485_11eb_96a8_a08869ebc287row7_col6 {\n",
       "            color:  black;\n",
       "        }    #T_1f813131_e485_11eb_96a8_a08869ebc287row7_col7 {\n",
       "            color:  red;\n",
       "        }    #T_1f813131_e485_11eb_96a8_a08869ebc287row7_col8 {\n",
       "            color:  black;\n",
       "        }    #T_1f813131_e485_11eb_96a8_a08869ebc287row7_col9 {\n",
       "            color:  black;\n",
       "        }    #T_1f813131_e485_11eb_96a8_a08869ebc287row7_col10 {\n",
       "            color:  black;\n",
       "        }    #T_1f813131_e485_11eb_96a8_a08869ebc287row7_col11 {\n",
       "            color:  black;\n",
       "        }    #T_1f813131_e485_11eb_96a8_a08869ebc287row7_col12 {\n",
       "            color:  black;\n",
       "        }    #T_1f813131_e485_11eb_96a8_a08869ebc287row7_col13 {\n",
       "            color:  black;\n",
       "        }    #T_1f813131_e485_11eb_96a8_a08869ebc287row7_col14 {\n",
       "            color:  black;\n",
       "        }    #T_1f813131_e485_11eb_96a8_a08869ebc287row7_col15 {\n",
       "            color:  black;\n",
       "        }    #T_1f813131_e485_11eb_96a8_a08869ebc287row7_col16 {\n",
       "            color:  black;\n",
       "        }    #T_1f813131_e485_11eb_96a8_a08869ebc287row7_col17 {\n",
       "            color:  black;\n",
       "        }    #T_1f813131_e485_11eb_96a8_a08869ebc287row7_col18 {\n",
       "            color:  black;\n",
       "        }    #T_1f813131_e485_11eb_96a8_a08869ebc287row8_col0 {\n",
       "            color:  black;\n",
       "        }    #T_1f813131_e485_11eb_96a8_a08869ebc287row8_col1 {\n",
       "            color:  black;\n",
       "        }    #T_1f813131_e485_11eb_96a8_a08869ebc287row8_col2 {\n",
       "            color:  black;\n",
       "        }    #T_1f813131_e485_11eb_96a8_a08869ebc287row8_col3 {\n",
       "            color:  black;\n",
       "        }    #T_1f813131_e485_11eb_96a8_a08869ebc287row8_col4 {\n",
       "            color:  black;\n",
       "        }    #T_1f813131_e485_11eb_96a8_a08869ebc287row8_col5 {\n",
       "            color:  black;\n",
       "        }    #T_1f813131_e485_11eb_96a8_a08869ebc287row8_col6 {\n",
       "            color:  red;\n",
       "        }    #T_1f813131_e485_11eb_96a8_a08869ebc287row8_col7 {\n",
       "            color:  black;\n",
       "        }    #T_1f813131_e485_11eb_96a8_a08869ebc287row8_col8 {\n",
       "            color:  red;\n",
       "        }    #T_1f813131_e485_11eb_96a8_a08869ebc287row8_col9 {\n",
       "            color:  black;\n",
       "        }    #T_1f813131_e485_11eb_96a8_a08869ebc287row8_col10 {\n",
       "            color:  black;\n",
       "        }    #T_1f813131_e485_11eb_96a8_a08869ebc287row8_col11 {\n",
       "            color:  black;\n",
       "        }    #T_1f813131_e485_11eb_96a8_a08869ebc287row8_col12 {\n",
       "            color:  black;\n",
       "        }    #T_1f813131_e485_11eb_96a8_a08869ebc287row8_col13 {\n",
       "            color:  black;\n",
       "        }    #T_1f813131_e485_11eb_96a8_a08869ebc287row8_col14 {\n",
       "            color:  black;\n",
       "        }    #T_1f813131_e485_11eb_96a8_a08869ebc287row8_col15 {\n",
       "            color:  black;\n",
       "        }    #T_1f813131_e485_11eb_96a8_a08869ebc287row8_col16 {\n",
       "            color:  black;\n",
       "        }    #T_1f813131_e485_11eb_96a8_a08869ebc287row8_col17 {\n",
       "            color:  black;\n",
       "        }    #T_1f813131_e485_11eb_96a8_a08869ebc287row8_col18 {\n",
       "            color:  red;\n",
       "        }    #T_1f813131_e485_11eb_96a8_a08869ebc287row9_col0 {\n",
       "            color:  black;\n",
       "        }    #T_1f813131_e485_11eb_96a8_a08869ebc287row9_col1 {\n",
       "            color:  black;\n",
       "        }    #T_1f813131_e485_11eb_96a8_a08869ebc287row9_col2 {\n",
       "            color:  black;\n",
       "        }    #T_1f813131_e485_11eb_96a8_a08869ebc287row9_col3 {\n",
       "            color:  black;\n",
       "        }    #T_1f813131_e485_11eb_96a8_a08869ebc287row9_col4 {\n",
       "            color:  black;\n",
       "        }    #T_1f813131_e485_11eb_96a8_a08869ebc287row9_col5 {\n",
       "            color:  black;\n",
       "        }    #T_1f813131_e485_11eb_96a8_a08869ebc287row9_col6 {\n",
       "            color:  black;\n",
       "        }    #T_1f813131_e485_11eb_96a8_a08869ebc287row9_col7 {\n",
       "            color:  black;\n",
       "        }    #T_1f813131_e485_11eb_96a8_a08869ebc287row9_col8 {\n",
       "            color:  black;\n",
       "        }    #T_1f813131_e485_11eb_96a8_a08869ebc287row9_col9 {\n",
       "            color:  red;\n",
       "        }    #T_1f813131_e485_11eb_96a8_a08869ebc287row9_col10 {\n",
       "            color:  black;\n",
       "        }    #T_1f813131_e485_11eb_96a8_a08869ebc287row9_col11 {\n",
       "            color:  black;\n",
       "        }    #T_1f813131_e485_11eb_96a8_a08869ebc287row9_col12 {\n",
       "            color:  black;\n",
       "        }    #T_1f813131_e485_11eb_96a8_a08869ebc287row9_col13 {\n",
       "            color:  black;\n",
       "        }    #T_1f813131_e485_11eb_96a8_a08869ebc287row9_col14 {\n",
       "            color:  black;\n",
       "        }    #T_1f813131_e485_11eb_96a8_a08869ebc287row9_col15 {\n",
       "            color:  black;\n",
       "        }    #T_1f813131_e485_11eb_96a8_a08869ebc287row9_col16 {\n",
       "            color:  black;\n",
       "        }    #T_1f813131_e485_11eb_96a8_a08869ebc287row9_col17 {\n",
       "            color:  black;\n",
       "        }    #T_1f813131_e485_11eb_96a8_a08869ebc287row9_col18 {\n",
       "            color:  black;\n",
       "        }    #T_1f813131_e485_11eb_96a8_a08869ebc287row10_col0 {\n",
       "            color:  black;\n",
       "        }    #T_1f813131_e485_11eb_96a8_a08869ebc287row10_col1 {\n",
       "            color:  black;\n",
       "        }    #T_1f813131_e485_11eb_96a8_a08869ebc287row10_col2 {\n",
       "            color:  black;\n",
       "        }    #T_1f813131_e485_11eb_96a8_a08869ebc287row10_col3 {\n",
       "            color:  black;\n",
       "        }    #T_1f813131_e485_11eb_96a8_a08869ebc287row10_col4 {\n",
       "            color:  black;\n",
       "        }    #T_1f813131_e485_11eb_96a8_a08869ebc287row10_col5 {\n",
       "            color:  black;\n",
       "        }    #T_1f813131_e485_11eb_96a8_a08869ebc287row10_col6 {\n",
       "            color:  black;\n",
       "        }    #T_1f813131_e485_11eb_96a8_a08869ebc287row10_col7 {\n",
       "            color:  black;\n",
       "        }    #T_1f813131_e485_11eb_96a8_a08869ebc287row10_col8 {\n",
       "            color:  black;\n",
       "        }    #T_1f813131_e485_11eb_96a8_a08869ebc287row10_col9 {\n",
       "            color:  black;\n",
       "        }    #T_1f813131_e485_11eb_96a8_a08869ebc287row10_col10 {\n",
       "            color:  red;\n",
       "        }    #T_1f813131_e485_11eb_96a8_a08869ebc287row10_col11 {\n",
       "            color:  black;\n",
       "        }    #T_1f813131_e485_11eb_96a8_a08869ebc287row10_col12 {\n",
       "            color:  black;\n",
       "        }    #T_1f813131_e485_11eb_96a8_a08869ebc287row10_col13 {\n",
       "            color:  black;\n",
       "        }    #T_1f813131_e485_11eb_96a8_a08869ebc287row10_col14 {\n",
       "            color:  black;\n",
       "        }    #T_1f813131_e485_11eb_96a8_a08869ebc287row10_col15 {\n",
       "            color:  black;\n",
       "        }    #T_1f813131_e485_11eb_96a8_a08869ebc287row10_col16 {\n",
       "            color:  black;\n",
       "        }    #T_1f813131_e485_11eb_96a8_a08869ebc287row10_col17 {\n",
       "            color:  black;\n",
       "        }    #T_1f813131_e485_11eb_96a8_a08869ebc287row10_col18 {\n",
       "            color:  black;\n",
       "        }    #T_1f813131_e485_11eb_96a8_a08869ebc287row11_col0 {\n",
       "            color:  black;\n",
       "        }    #T_1f813131_e485_11eb_96a8_a08869ebc287row11_col1 {\n",
       "            color:  black;\n",
       "        }    #T_1f813131_e485_11eb_96a8_a08869ebc287row11_col2 {\n",
       "            color:  black;\n",
       "        }    #T_1f813131_e485_11eb_96a8_a08869ebc287row11_col3 {\n",
       "            color:  black;\n",
       "        }    #T_1f813131_e485_11eb_96a8_a08869ebc287row11_col4 {\n",
       "            color:  black;\n",
       "        }    #T_1f813131_e485_11eb_96a8_a08869ebc287row11_col5 {\n",
       "            color:  black;\n",
       "        }    #T_1f813131_e485_11eb_96a8_a08869ebc287row11_col6 {\n",
       "            color:  black;\n",
       "        }    #T_1f813131_e485_11eb_96a8_a08869ebc287row11_col7 {\n",
       "            color:  black;\n",
       "        }    #T_1f813131_e485_11eb_96a8_a08869ebc287row11_col8 {\n",
       "            color:  black;\n",
       "        }    #T_1f813131_e485_11eb_96a8_a08869ebc287row11_col9 {\n",
       "            color:  black;\n",
       "        }    #T_1f813131_e485_11eb_96a8_a08869ebc287row11_col10 {\n",
       "            color:  black;\n",
       "        }    #T_1f813131_e485_11eb_96a8_a08869ebc287row11_col11 {\n",
       "            color:  red;\n",
       "        }    #T_1f813131_e485_11eb_96a8_a08869ebc287row11_col12 {\n",
       "            color:  black;\n",
       "        }    #T_1f813131_e485_11eb_96a8_a08869ebc287row11_col13 {\n",
       "            color:  black;\n",
       "        }    #T_1f813131_e485_11eb_96a8_a08869ebc287row11_col14 {\n",
       "            color:  black;\n",
       "        }    #T_1f813131_e485_11eb_96a8_a08869ebc287row11_col15 {\n",
       "            color:  black;\n",
       "        }    #T_1f813131_e485_11eb_96a8_a08869ebc287row11_col16 {\n",
       "            color:  black;\n",
       "        }    #T_1f813131_e485_11eb_96a8_a08869ebc287row11_col17 {\n",
       "            color:  black;\n",
       "        }    #T_1f813131_e485_11eb_96a8_a08869ebc287row11_col18 {\n",
       "            color:  black;\n",
       "        }    #T_1f813131_e485_11eb_96a8_a08869ebc287row12_col0 {\n",
       "            color:  black;\n",
       "        }    #T_1f813131_e485_11eb_96a8_a08869ebc287row12_col1 {\n",
       "            color:  black;\n",
       "        }    #T_1f813131_e485_11eb_96a8_a08869ebc287row12_col2 {\n",
       "            color:  black;\n",
       "        }    #T_1f813131_e485_11eb_96a8_a08869ebc287row12_col3 {\n",
       "            color:  black;\n",
       "        }    #T_1f813131_e485_11eb_96a8_a08869ebc287row12_col4 {\n",
       "            color:  black;\n",
       "        }    #T_1f813131_e485_11eb_96a8_a08869ebc287row12_col5 {\n",
       "            color:  red;\n",
       "        }    #T_1f813131_e485_11eb_96a8_a08869ebc287row12_col6 {\n",
       "            color:  black;\n",
       "        }    #T_1f813131_e485_11eb_96a8_a08869ebc287row12_col7 {\n",
       "            color:  black;\n",
       "        }    #T_1f813131_e485_11eb_96a8_a08869ebc287row12_col8 {\n",
       "            color:  black;\n",
       "        }    #T_1f813131_e485_11eb_96a8_a08869ebc287row12_col9 {\n",
       "            color:  black;\n",
       "        }    #T_1f813131_e485_11eb_96a8_a08869ebc287row12_col10 {\n",
       "            color:  black;\n",
       "        }    #T_1f813131_e485_11eb_96a8_a08869ebc287row12_col11 {\n",
       "            color:  black;\n",
       "        }    #T_1f813131_e485_11eb_96a8_a08869ebc287row12_col12 {\n",
       "            color:  red;\n",
       "        }    #T_1f813131_e485_11eb_96a8_a08869ebc287row12_col13 {\n",
       "            color:  black;\n",
       "        }    #T_1f813131_e485_11eb_96a8_a08869ebc287row12_col14 {\n",
       "            color:  black;\n",
       "        }    #T_1f813131_e485_11eb_96a8_a08869ebc287row12_col15 {\n",
       "            color:  black;\n",
       "        }    #T_1f813131_e485_11eb_96a8_a08869ebc287row12_col16 {\n",
       "            color:  black;\n",
       "        }    #T_1f813131_e485_11eb_96a8_a08869ebc287row12_col17 {\n",
       "            color:  black;\n",
       "        }    #T_1f813131_e485_11eb_96a8_a08869ebc287row12_col18 {\n",
       "            color:  black;\n",
       "        }    #T_1f813131_e485_11eb_96a8_a08869ebc287row13_col0 {\n",
       "            color:  black;\n",
       "        }    #T_1f813131_e485_11eb_96a8_a08869ebc287row13_col1 {\n",
       "            color:  black;\n",
       "        }    #T_1f813131_e485_11eb_96a8_a08869ebc287row13_col2 {\n",
       "            color:  black;\n",
       "        }    #T_1f813131_e485_11eb_96a8_a08869ebc287row13_col3 {\n",
       "            color:  black;\n",
       "        }    #T_1f813131_e485_11eb_96a8_a08869ebc287row13_col4 {\n",
       "            color:  black;\n",
       "        }    #T_1f813131_e485_11eb_96a8_a08869ebc287row13_col5 {\n",
       "            color:  black;\n",
       "        }    #T_1f813131_e485_11eb_96a8_a08869ebc287row13_col6 {\n",
       "            color:  black;\n",
       "        }    #T_1f813131_e485_11eb_96a8_a08869ebc287row13_col7 {\n",
       "            color:  black;\n",
       "        }    #T_1f813131_e485_11eb_96a8_a08869ebc287row13_col8 {\n",
       "            color:  black;\n",
       "        }    #T_1f813131_e485_11eb_96a8_a08869ebc287row13_col9 {\n",
       "            color:  black;\n",
       "        }    #T_1f813131_e485_11eb_96a8_a08869ebc287row13_col10 {\n",
       "            color:  black;\n",
       "        }    #T_1f813131_e485_11eb_96a8_a08869ebc287row13_col11 {\n",
       "            color:  black;\n",
       "        }    #T_1f813131_e485_11eb_96a8_a08869ebc287row13_col12 {\n",
       "            color:  black;\n",
       "        }    #T_1f813131_e485_11eb_96a8_a08869ebc287row13_col13 {\n",
       "            color:  red;\n",
       "        }    #T_1f813131_e485_11eb_96a8_a08869ebc287row13_col14 {\n",
       "            color:  black;\n",
       "        }    #T_1f813131_e485_11eb_96a8_a08869ebc287row13_col15 {\n",
       "            color:  black;\n",
       "        }    #T_1f813131_e485_11eb_96a8_a08869ebc287row13_col16 {\n",
       "            color:  black;\n",
       "        }    #T_1f813131_e485_11eb_96a8_a08869ebc287row13_col17 {\n",
       "            color:  black;\n",
       "        }    #T_1f813131_e485_11eb_96a8_a08869ebc287row13_col18 {\n",
       "            color:  black;\n",
       "        }    #T_1f813131_e485_11eb_96a8_a08869ebc287row14_col0 {\n",
       "            color:  black;\n",
       "        }    #T_1f813131_e485_11eb_96a8_a08869ebc287row14_col1 {\n",
       "            color:  black;\n",
       "        }    #T_1f813131_e485_11eb_96a8_a08869ebc287row14_col2 {\n",
       "            color:  black;\n",
       "        }    #T_1f813131_e485_11eb_96a8_a08869ebc287row14_col3 {\n",
       "            color:  black;\n",
       "        }    #T_1f813131_e485_11eb_96a8_a08869ebc287row14_col4 {\n",
       "            color:  black;\n",
       "        }    #T_1f813131_e485_11eb_96a8_a08869ebc287row14_col5 {\n",
       "            color:  black;\n",
       "        }    #T_1f813131_e485_11eb_96a8_a08869ebc287row14_col6 {\n",
       "            color:  black;\n",
       "        }    #T_1f813131_e485_11eb_96a8_a08869ebc287row14_col7 {\n",
       "            color:  black;\n",
       "        }    #T_1f813131_e485_11eb_96a8_a08869ebc287row14_col8 {\n",
       "            color:  black;\n",
       "        }    #T_1f813131_e485_11eb_96a8_a08869ebc287row14_col9 {\n",
       "            color:  black;\n",
       "        }    #T_1f813131_e485_11eb_96a8_a08869ebc287row14_col10 {\n",
       "            color:  black;\n",
       "        }    #T_1f813131_e485_11eb_96a8_a08869ebc287row14_col11 {\n",
       "            color:  black;\n",
       "        }    #T_1f813131_e485_11eb_96a8_a08869ebc287row14_col12 {\n",
       "            color:  black;\n",
       "        }    #T_1f813131_e485_11eb_96a8_a08869ebc287row14_col13 {\n",
       "            color:  black;\n",
       "        }    #T_1f813131_e485_11eb_96a8_a08869ebc287row14_col14 {\n",
       "            color:  red;\n",
       "        }    #T_1f813131_e485_11eb_96a8_a08869ebc287row14_col15 {\n",
       "            color:  black;\n",
       "        }    #T_1f813131_e485_11eb_96a8_a08869ebc287row14_col16 {\n",
       "            color:  black;\n",
       "        }    #T_1f813131_e485_11eb_96a8_a08869ebc287row14_col17 {\n",
       "            color:  red;\n",
       "        }    #T_1f813131_e485_11eb_96a8_a08869ebc287row14_col18 {\n",
       "            color:  black;\n",
       "        }    #T_1f813131_e485_11eb_96a8_a08869ebc287row15_col0 {\n",
       "            color:  black;\n",
       "        }    #T_1f813131_e485_11eb_96a8_a08869ebc287row15_col1 {\n",
       "            color:  black;\n",
       "        }    #T_1f813131_e485_11eb_96a8_a08869ebc287row15_col2 {\n",
       "            color:  black;\n",
       "        }    #T_1f813131_e485_11eb_96a8_a08869ebc287row15_col3 {\n",
       "            color:  black;\n",
       "        }    #T_1f813131_e485_11eb_96a8_a08869ebc287row15_col4 {\n",
       "            color:  black;\n",
       "        }    #T_1f813131_e485_11eb_96a8_a08869ebc287row15_col5 {\n",
       "            color:  black;\n",
       "        }    #T_1f813131_e485_11eb_96a8_a08869ebc287row15_col6 {\n",
       "            color:  black;\n",
       "        }    #T_1f813131_e485_11eb_96a8_a08869ebc287row15_col7 {\n",
       "            color:  black;\n",
       "        }    #T_1f813131_e485_11eb_96a8_a08869ebc287row15_col8 {\n",
       "            color:  black;\n",
       "        }    #T_1f813131_e485_11eb_96a8_a08869ebc287row15_col9 {\n",
       "            color:  black;\n",
       "        }    #T_1f813131_e485_11eb_96a8_a08869ebc287row15_col10 {\n",
       "            color:  black;\n",
       "        }    #T_1f813131_e485_11eb_96a8_a08869ebc287row15_col11 {\n",
       "            color:  black;\n",
       "        }    #T_1f813131_e485_11eb_96a8_a08869ebc287row15_col12 {\n",
       "            color:  black;\n",
       "        }    #T_1f813131_e485_11eb_96a8_a08869ebc287row15_col13 {\n",
       "            color:  black;\n",
       "        }    #T_1f813131_e485_11eb_96a8_a08869ebc287row15_col14 {\n",
       "            color:  black;\n",
       "        }    #T_1f813131_e485_11eb_96a8_a08869ebc287row15_col15 {\n",
       "            color:  red;\n",
       "        }    #T_1f813131_e485_11eb_96a8_a08869ebc287row15_col16 {\n",
       "            color:  black;\n",
       "        }    #T_1f813131_e485_11eb_96a8_a08869ebc287row15_col17 {\n",
       "            color:  red;\n",
       "        }    #T_1f813131_e485_11eb_96a8_a08869ebc287row15_col18 {\n",
       "            color:  black;\n",
       "        }    #T_1f813131_e485_11eb_96a8_a08869ebc287row16_col0 {\n",
       "            color:  black;\n",
       "        }    #T_1f813131_e485_11eb_96a8_a08869ebc287row16_col1 {\n",
       "            color:  black;\n",
       "        }    #T_1f813131_e485_11eb_96a8_a08869ebc287row16_col2 {\n",
       "            color:  black;\n",
       "        }    #T_1f813131_e485_11eb_96a8_a08869ebc287row16_col3 {\n",
       "            color:  black;\n",
       "        }    #T_1f813131_e485_11eb_96a8_a08869ebc287row16_col4 {\n",
       "            color:  black;\n",
       "        }    #T_1f813131_e485_11eb_96a8_a08869ebc287row16_col5 {\n",
       "            color:  black;\n",
       "        }    #T_1f813131_e485_11eb_96a8_a08869ebc287row16_col6 {\n",
       "            color:  black;\n",
       "        }    #T_1f813131_e485_11eb_96a8_a08869ebc287row16_col7 {\n",
       "            color:  black;\n",
       "        }    #T_1f813131_e485_11eb_96a8_a08869ebc287row16_col8 {\n",
       "            color:  black;\n",
       "        }    #T_1f813131_e485_11eb_96a8_a08869ebc287row16_col9 {\n",
       "            color:  black;\n",
       "        }    #T_1f813131_e485_11eb_96a8_a08869ebc287row16_col10 {\n",
       "            color:  black;\n",
       "        }    #T_1f813131_e485_11eb_96a8_a08869ebc287row16_col11 {\n",
       "            color:  black;\n",
       "        }    #T_1f813131_e485_11eb_96a8_a08869ebc287row16_col12 {\n",
       "            color:  black;\n",
       "        }    #T_1f813131_e485_11eb_96a8_a08869ebc287row16_col13 {\n",
       "            color:  black;\n",
       "        }    #T_1f813131_e485_11eb_96a8_a08869ebc287row16_col14 {\n",
       "            color:  black;\n",
       "        }    #T_1f813131_e485_11eb_96a8_a08869ebc287row16_col15 {\n",
       "            color:  black;\n",
       "        }    #T_1f813131_e485_11eb_96a8_a08869ebc287row16_col16 {\n",
       "            color:  red;\n",
       "        }    #T_1f813131_e485_11eb_96a8_a08869ebc287row16_col17 {\n",
       "            color:  red;\n",
       "        }    #T_1f813131_e485_11eb_96a8_a08869ebc287row16_col18 {\n",
       "            color:  black;\n",
       "        }    #T_1f813131_e485_11eb_96a8_a08869ebc287row17_col0 {\n",
       "            color:  black;\n",
       "        }    #T_1f813131_e485_11eb_96a8_a08869ebc287row17_col1 {\n",
       "            color:  black;\n",
       "        }    #T_1f813131_e485_11eb_96a8_a08869ebc287row17_col2 {\n",
       "            color:  black;\n",
       "        }    #T_1f813131_e485_11eb_96a8_a08869ebc287row17_col3 {\n",
       "            color:  black;\n",
       "        }    #T_1f813131_e485_11eb_96a8_a08869ebc287row17_col4 {\n",
       "            color:  black;\n",
       "        }    #T_1f813131_e485_11eb_96a8_a08869ebc287row17_col5 {\n",
       "            color:  black;\n",
       "        }    #T_1f813131_e485_11eb_96a8_a08869ebc287row17_col6 {\n",
       "            color:  black;\n",
       "        }    #T_1f813131_e485_11eb_96a8_a08869ebc287row17_col7 {\n",
       "            color:  black;\n",
       "        }    #T_1f813131_e485_11eb_96a8_a08869ebc287row17_col8 {\n",
       "            color:  black;\n",
       "        }    #T_1f813131_e485_11eb_96a8_a08869ebc287row17_col9 {\n",
       "            color:  black;\n",
       "        }    #T_1f813131_e485_11eb_96a8_a08869ebc287row17_col10 {\n",
       "            color:  black;\n",
       "        }    #T_1f813131_e485_11eb_96a8_a08869ebc287row17_col11 {\n",
       "            color:  black;\n",
       "        }    #T_1f813131_e485_11eb_96a8_a08869ebc287row17_col12 {\n",
       "            color:  black;\n",
       "        }    #T_1f813131_e485_11eb_96a8_a08869ebc287row17_col13 {\n",
       "            color:  black;\n",
       "        }    #T_1f813131_e485_11eb_96a8_a08869ebc287row17_col14 {\n",
       "            color:  red;\n",
       "        }    #T_1f813131_e485_11eb_96a8_a08869ebc287row17_col15 {\n",
       "            color:  red;\n",
       "        }    #T_1f813131_e485_11eb_96a8_a08869ebc287row17_col16 {\n",
       "            color:  red;\n",
       "        }    #T_1f813131_e485_11eb_96a8_a08869ebc287row17_col17 {\n",
       "            color:  red;\n",
       "        }    #T_1f813131_e485_11eb_96a8_a08869ebc287row17_col18 {\n",
       "            color:  black;\n",
       "        }    #T_1f813131_e485_11eb_96a8_a08869ebc287row18_col0 {\n",
       "            color:  black;\n",
       "        }    #T_1f813131_e485_11eb_96a8_a08869ebc287row18_col1 {\n",
       "            color:  black;\n",
       "        }    #T_1f813131_e485_11eb_96a8_a08869ebc287row18_col2 {\n",
       "            color:  black;\n",
       "        }    #T_1f813131_e485_11eb_96a8_a08869ebc287row18_col3 {\n",
       "            color:  black;\n",
       "        }    #T_1f813131_e485_11eb_96a8_a08869ebc287row18_col4 {\n",
       "            color:  black;\n",
       "        }    #T_1f813131_e485_11eb_96a8_a08869ebc287row18_col5 {\n",
       "            color:  black;\n",
       "        }    #T_1f813131_e485_11eb_96a8_a08869ebc287row18_col6 {\n",
       "            color:  black;\n",
       "        }    #T_1f813131_e485_11eb_96a8_a08869ebc287row18_col7 {\n",
       "            color:  black;\n",
       "        }    #T_1f813131_e485_11eb_96a8_a08869ebc287row18_col8 {\n",
       "            color:  red;\n",
       "        }    #T_1f813131_e485_11eb_96a8_a08869ebc287row18_col9 {\n",
       "            color:  black;\n",
       "        }    #T_1f813131_e485_11eb_96a8_a08869ebc287row18_col10 {\n",
       "            color:  black;\n",
       "        }    #T_1f813131_e485_11eb_96a8_a08869ebc287row18_col11 {\n",
       "            color:  black;\n",
       "        }    #T_1f813131_e485_11eb_96a8_a08869ebc287row18_col12 {\n",
       "            color:  black;\n",
       "        }    #T_1f813131_e485_11eb_96a8_a08869ebc287row18_col13 {\n",
       "            color:  black;\n",
       "        }    #T_1f813131_e485_11eb_96a8_a08869ebc287row18_col14 {\n",
       "            color:  black;\n",
       "        }    #T_1f813131_e485_11eb_96a8_a08869ebc287row18_col15 {\n",
       "            color:  black;\n",
       "        }    #T_1f813131_e485_11eb_96a8_a08869ebc287row18_col16 {\n",
       "            color:  black;\n",
       "        }    #T_1f813131_e485_11eb_96a8_a08869ebc287row18_col17 {\n",
       "            color:  black;\n",
       "        }    #T_1f813131_e485_11eb_96a8_a08869ebc287row18_col18 {\n",
       "            color:  red;\n",
       "        }</style><table id=\"T_1f813131_e485_11eb_96a8_a08869ebc287\" ><thead>    <tr>        <th class=\"blank level0\" ></th>        <th class=\"col_heading level0 col0\" >Population</th>        <th class=\"col_heading level0 col1\" >Area</th>        <th class=\"col_heading level0 col2\" >Pop. Density</th>        <th class=\"col_heading level0 col3\" >Coastline</th>        <th class=\"col_heading level0 col4\" >Net migration</th>        <th class=\"col_heading level0 col5\" >Infant mortality</th>        <th class=\"col_heading level0 col6\" >GDP</th>        <th class=\"col_heading level0 col7\" >Literacy</th>        <th class=\"col_heading level0 col8\" >Phones</th>        <th class=\"col_heading level0 col9\" >Arable</th>        <th class=\"col_heading level0 col10\" >Crops</th>        <th class=\"col_heading level0 col11\" >Other</th>        <th class=\"col_heading level0 col12\" >Birthrate</th>        <th class=\"col_heading level0 col13\" >Deathrate</th>        <th class=\"col_heading level0 col14\" >beer_servings</th>        <th class=\"col_heading level0 col15\" >spirit_servings</th>        <th class=\"col_heading level0 col16\" >wine_servings</th>        <th class=\"col_heading level0 col17\" >total_litres_of_pure_alcohol</th>        <th class=\"col_heading level0 col18\" >DisplayValue</th>    </tr></thead><tbody>\n",
       "                <tr>\n",
       "                        <th id=\"T_1f813131_e485_11eb_96a8_a08869ebc287level0_row0\" class=\"row_heading level0 row0\" >Population</th>\n",
       "                        <td id=\"T_1f813131_e485_11eb_96a8_a08869ebc287row0_col0\" class=\"data row0 col0\" >1.000000</td>\n",
       "                        <td id=\"T_1f813131_e485_11eb_96a8_a08869ebc287row0_col1\" class=\"data row0 col1\" >0.464225</td>\n",
       "                        <td id=\"T_1f813131_e485_11eb_96a8_a08869ebc287row0_col2\" class=\"data row0 col2\" >-0.014876</td>\n",
       "                        <td id=\"T_1f813131_e485_11eb_96a8_a08869ebc287row0_col3\" class=\"data row0 col3\" >-0.052397</td>\n",
       "                        <td id=\"T_1f813131_e485_11eb_96a8_a08869ebc287row0_col4\" class=\"data row0 col4\" >0.019796</td>\n",
       "                        <td id=\"T_1f813131_e485_11eb_96a8_a08869ebc287row0_col5\" class=\"data row0 col5\" >-0.006621</td>\n",
       "                        <td id=\"T_1f813131_e485_11eb_96a8_a08869ebc287row0_col6\" class=\"data row0 col6\" >-0.017257</td>\n",
       "                        <td id=\"T_1f813131_e485_11eb_96a8_a08869ebc287row0_col7\" class=\"data row0 col7\" >-0.027697</td>\n",
       "                        <td id=\"T_1f813131_e485_11eb_96a8_a08869ebc287row0_col8\" class=\"data row0 col8\" >0.014356</td>\n",
       "                        <td id=\"T_1f813131_e485_11eb_96a8_a08869ebc287row0_col9\" class=\"data row0 col9\" >0.181148</td>\n",
       "                        <td id=\"T_1f813131_e485_11eb_96a8_a08869ebc287row0_col10\" class=\"data row0 col10\" >-0.066458</td>\n",
       "                        <td id=\"T_1f813131_e485_11eb_96a8_a08869ebc287row0_col11\" class=\"data row0 col11\" >-0.113551</td>\n",
       "                        <td id=\"T_1f813131_e485_11eb_96a8_a08869ebc287row0_col12\" class=\"data row0 col12\" >-0.073325</td>\n",
       "                        <td id=\"T_1f813131_e485_11eb_96a8_a08869ebc287row0_col13\" class=\"data row0 col13\" >-0.055873</td>\n",
       "                        <td id=\"T_1f813131_e485_11eb_96a8_a08869ebc287row0_col14\" class=\"data row0 col14\" >-0.043054</td>\n",
       "                        <td id=\"T_1f813131_e485_11eb_96a8_a08869ebc287row0_col15\" class=\"data row0 col15\" >0.090884</td>\n",
       "                        <td id=\"T_1f813131_e485_11eb_96a8_a08869ebc287row0_col16\" class=\"data row0 col16\" >-0.066615</td>\n",
       "                        <td id=\"T_1f813131_e485_11eb_96a8_a08869ebc287row0_col17\" class=\"data row0 col17\" >-0.008085</td>\n",
       "                        <td id=\"T_1f813131_e485_11eb_96a8_a08869ebc287row0_col18\" class=\"data row0 col18\" >0.012294</td>\n",
       "            </tr>\n",
       "            <tr>\n",
       "                        <th id=\"T_1f813131_e485_11eb_96a8_a08869ebc287level0_row1\" class=\"row_heading level0 row1\" >Area</th>\n",
       "                        <td id=\"T_1f813131_e485_11eb_96a8_a08869ebc287row1_col0\" class=\"data row1 col0\" >0.464225</td>\n",
       "                        <td id=\"T_1f813131_e485_11eb_96a8_a08869ebc287row1_col1\" class=\"data row1 col1\" >1.000000</td>\n",
       "                        <td id=\"T_1f813131_e485_11eb_96a8_a08869ebc287row1_col2\" class=\"data row1 col2\" >-0.056918</td>\n",
       "                        <td id=\"T_1f813131_e485_11eb_96a8_a08869ebc287row1_col3\" class=\"data row1 col3\" >-0.072937</td>\n",
       "                        <td id=\"T_1f813131_e485_11eb_96a8_a08869ebc287row1_col4\" class=\"data row1 col4\" >0.096136</td>\n",
       "                        <td id=\"T_1f813131_e485_11eb_96a8_a08869ebc287row1_col5\" class=\"data row1 col5\" >-0.052732</td>\n",
       "                        <td id=\"T_1f813131_e485_11eb_96a8_a08869ebc287row1_col6\" class=\"data row1 col6\" >0.116590</td>\n",
       "                        <td id=\"T_1f813131_e485_11eb_96a8_a08869ebc287row1_col7\" class=\"data row1 col7\" >0.066887</td>\n",
       "                        <td id=\"T_1f813131_e485_11eb_96a8_a08869ebc287row1_col8\" class=\"data row1 col8\" >0.136186</td>\n",
       "                        <td id=\"T_1f813131_e485_11eb_96a8_a08869ebc287row1_col9\" class=\"data row1 col9\" >-0.098235</td>\n",
       "                        <td id=\"T_1f813131_e485_11eb_96a8_a08869ebc287row1_col10\" class=\"data row1 col10\" >-0.152397</td>\n",
       "                        <td id=\"T_1f813131_e485_11eb_96a8_a08869ebc287row1_col11\" class=\"data row1 col11\" >0.159500</td>\n",
       "                        <td id=\"T_1f813131_e485_11eb_96a8_a08869ebc287row1_col12\" class=\"data row1 col12\" >-0.109935</td>\n",
       "                        <td id=\"T_1f813131_e485_11eb_96a8_a08869ebc287row1_col13\" class=\"data row1 col13\" >0.006095</td>\n",
       "                        <td id=\"T_1f813131_e485_11eb_96a8_a08869ebc287row1_col14\" class=\"data row1 col14\" >0.160762</td>\n",
       "                        <td id=\"T_1f813131_e485_11eb_96a8_a08869ebc287row1_col15\" class=\"data row1 col15\" >0.172090</td>\n",
       "                        <td id=\"T_1f813131_e485_11eb_96a8_a08869ebc287row1_col16\" class=\"data row1 col16\" >0.021826</td>\n",
       "                        <td id=\"T_1f813131_e485_11eb_96a8_a08869ebc287row1_col17\" class=\"data row1 col17\" >0.159097</td>\n",
       "                        <td id=\"T_1f813131_e485_11eb_96a8_a08869ebc287row1_col18\" class=\"data row1 col18\" >0.036881</td>\n",
       "            </tr>\n",
       "            <tr>\n",
       "                        <th id=\"T_1f813131_e485_11eb_96a8_a08869ebc287level0_row2\" class=\"row_heading level0 row2\" >Pop. Density</th>\n",
       "                        <td id=\"T_1f813131_e485_11eb_96a8_a08869ebc287row2_col0\" class=\"data row2 col0\" >-0.014876</td>\n",
       "                        <td id=\"T_1f813131_e485_11eb_96a8_a08869ebc287row2_col1\" class=\"data row2 col1\" >-0.056918</td>\n",
       "                        <td id=\"T_1f813131_e485_11eb_96a8_a08869ebc287row2_col2\" class=\"data row2 col2\" >1.000000</td>\n",
       "                        <td id=\"T_1f813131_e485_11eb_96a8_a08869ebc287row2_col3\" class=\"data row2 col3\" >0.205896</td>\n",
       "                        <td id=\"T_1f813131_e485_11eb_96a8_a08869ebc287row2_col4\" class=\"data row2 col4\" >0.195239</td>\n",
       "                        <td id=\"T_1f813131_e485_11eb_96a8_a08869ebc287row2_col5\" class=\"data row2 col5\" >-0.116275</td>\n",
       "                        <td id=\"T_1f813131_e485_11eb_96a8_a08869ebc287row2_col6\" class=\"data row2 col6\" >0.182475</td>\n",
       "                        <td id=\"T_1f813131_e485_11eb_96a8_a08869ebc287row2_col7\" class=\"data row2 col7\" >0.085916</td>\n",
       "                        <td id=\"T_1f813131_e485_11eb_96a8_a08869ebc287row2_col8\" class=\"data row2 col8\" >0.329991</td>\n",
       "                        <td id=\"T_1f813131_e485_11eb_96a8_a08869ebc287row2_col9\" class=\"data row2 col9\" >-0.048593</td>\n",
       "                        <td id=\"T_1f813131_e485_11eb_96a8_a08869ebc287row2_col10\" class=\"data row2 col10\" >-0.025383</td>\n",
       "                        <td id=\"T_1f813131_e485_11eb_96a8_a08869ebc287row2_col11\" class=\"data row2 col11\" >0.052916</td>\n",
       "                        <td id=\"T_1f813131_e485_11eb_96a8_a08869ebc287row2_col12\" class=\"data row2 col12\" >-0.134482</td>\n",
       "                        <td id=\"T_1f813131_e485_11eb_96a8_a08869ebc287row2_col13\" class=\"data row2 col13\" >-0.013536</td>\n",
       "                        <td id=\"T_1f813131_e485_11eb_96a8_a08869ebc287row2_col14\" class=\"data row2 col14\" >-0.097358</td>\n",
       "                        <td id=\"T_1f813131_e485_11eb_96a8_a08869ebc287row2_col15\" class=\"data row2 col15\" >-0.081644</td>\n",
       "                        <td id=\"T_1f813131_e485_11eb_96a8_a08869ebc287row2_col16\" class=\"data row2 col16\" >-0.057457</td>\n",
       "                        <td id=\"T_1f813131_e485_11eb_96a8_a08869ebc287row2_col17\" class=\"data row2 col17\" >-0.103768</td>\n",
       "                        <td id=\"T_1f813131_e485_11eb_96a8_a08869ebc287row2_col18\" class=\"data row2 col18\" >0.157231</td>\n",
       "            </tr>\n",
       "            <tr>\n",
       "                        <th id=\"T_1f813131_e485_11eb_96a8_a08869ebc287level0_row3\" class=\"row_heading level0 row3\" >Coastline</th>\n",
       "                        <td id=\"T_1f813131_e485_11eb_96a8_a08869ebc287row3_col0\" class=\"data row3 col0\" >-0.052397</td>\n",
       "                        <td id=\"T_1f813131_e485_11eb_96a8_a08869ebc287row3_col1\" class=\"data row3 col1\" >-0.072937</td>\n",
       "                        <td id=\"T_1f813131_e485_11eb_96a8_a08869ebc287row3_col2\" class=\"data row3 col2\" >0.205896</td>\n",
       "                        <td id=\"T_1f813131_e485_11eb_96a8_a08869ebc287row3_col3\" class=\"data row3 col3\" >1.000000</td>\n",
       "                        <td id=\"T_1f813131_e485_11eb_96a8_a08869ebc287row3_col4\" class=\"data row3 col4\" >-0.283861</td>\n",
       "                        <td id=\"T_1f813131_e485_11eb_96a8_a08869ebc287row3_col5\" class=\"data row3 col5\" >-0.082161</td>\n",
       "                        <td id=\"T_1f813131_e485_11eb_96a8_a08869ebc287row3_col6\" class=\"data row3 col6\" >-0.034335</td>\n",
       "                        <td id=\"T_1f813131_e485_11eb_96a8_a08869ebc287row3_col7\" class=\"data row3 col7\" >0.077271</td>\n",
       "                        <td id=\"T_1f813131_e485_11eb_96a8_a08869ebc287row3_col8\" class=\"data row3 col8\" >0.060366</td>\n",
       "                        <td id=\"T_1f813131_e485_11eb_96a8_a08869ebc287row3_col9\" class=\"data row3 col9\" >-0.098124</td>\n",
       "                        <td id=\"T_1f813131_e485_11eb_96a8_a08869ebc287row3_col10\" class=\"data row3 col10\" >0.416647</td>\n",
       "                        <td id=\"T_1f813131_e485_11eb_96a8_a08869ebc287row3_col11\" class=\"data row3 col11\" >-0.136230</td>\n",
       "                        <td id=\"T_1f813131_e485_11eb_96a8_a08869ebc287row3_col12\" class=\"data row3 col12\" >-0.019777</td>\n",
       "                        <td id=\"T_1f813131_e485_11eb_96a8_a08869ebc287row3_col13\" class=\"data row3 col13\" >-0.118909</td>\n",
       "                        <td id=\"T_1f813131_e485_11eb_96a8_a08869ebc287row3_col14\" class=\"data row3 col14\" >-0.030081</td>\n",
       "                        <td id=\"T_1f813131_e485_11eb_96a8_a08869ebc287row3_col15\" class=\"data row3 col15\" >-0.047012</td>\n",
       "                        <td id=\"T_1f813131_e485_11eb_96a8_a08869ebc287row3_col16\" class=\"data row3 col16\" >-0.064406</td>\n",
       "                        <td id=\"T_1f813131_e485_11eb_96a8_a08869ebc287row3_col17\" class=\"data row3 col17\" >-0.059124</td>\n",
       "                        <td id=\"T_1f813131_e485_11eb_96a8_a08869ebc287row3_col18\" class=\"data row3 col18\" >0.050117</td>\n",
       "            </tr>\n",
       "            <tr>\n",
       "                        <th id=\"T_1f813131_e485_11eb_96a8_a08869ebc287level0_row4\" class=\"row_heading level0 row4\" >Net migration</th>\n",
       "                        <td id=\"T_1f813131_e485_11eb_96a8_a08869ebc287row4_col0\" class=\"data row4 col0\" >0.019796</td>\n",
       "                        <td id=\"T_1f813131_e485_11eb_96a8_a08869ebc287row4_col1\" class=\"data row4 col1\" >0.096136</td>\n",
       "                        <td id=\"T_1f813131_e485_11eb_96a8_a08869ebc287row4_col2\" class=\"data row4 col2\" >0.195239</td>\n",
       "                        <td id=\"T_1f813131_e485_11eb_96a8_a08869ebc287row4_col3\" class=\"data row4 col3\" >-0.283861</td>\n",
       "                        <td id=\"T_1f813131_e485_11eb_96a8_a08869ebc287row4_col4\" class=\"data row4 col4\" >1.000000</td>\n",
       "                        <td id=\"T_1f813131_e485_11eb_96a8_a08869ebc287row4_col5\" class=\"data row4 col5\" >0.021039</td>\n",
       "                        <td id=\"T_1f813131_e485_11eb_96a8_a08869ebc287row4_col6\" class=\"data row4 col6\" >0.408698</td>\n",
       "                        <td id=\"T_1f813131_e485_11eb_96a8_a08869ebc287row4_col7\" class=\"data row4 col7\" >-0.063532</td>\n",
       "                        <td id=\"T_1f813131_e485_11eb_96a8_a08869ebc287row4_col8\" class=\"data row4 col8\" >0.224548</td>\n",
       "                        <td id=\"T_1f813131_e485_11eb_96a8_a08869ebc287row4_col9\" class=\"data row4 col9\" >-0.036066</td>\n",
       "                        <td id=\"T_1f813131_e485_11eb_96a8_a08869ebc287row4_col10\" class=\"data row4 col10\" >-0.382163</td>\n",
       "                        <td id=\"T_1f813131_e485_11eb_96a8_a08869ebc287row4_col11\" class=\"data row4 col11\" >0.227783</td>\n",
       "                        <td id=\"T_1f813131_e485_11eb_96a8_a08869ebc287row4_col12\" class=\"data row4 col12\" >-0.036771</td>\n",
       "                        <td id=\"T_1f813131_e485_11eb_96a8_a08869ebc287row4_col13\" class=\"data row4 col13\" >0.106628</td>\n",
       "                        <td id=\"T_1f813131_e485_11eb_96a8_a08869ebc287row4_col14\" class=\"data row4 col14\" >0.002605</td>\n",
       "                        <td id=\"T_1f813131_e485_11eb_96a8_a08869ebc287row4_col15\" class=\"data row4 col15\" >-0.241164</td>\n",
       "                        <td id=\"T_1f813131_e485_11eb_96a8_a08869ebc287row4_col16\" class=\"data row4 col16\" >0.206226</td>\n",
       "                        <td id=\"T_1f813131_e485_11eb_96a8_a08869ebc287row4_col17\" class=\"data row4 col17\" >-0.020485</td>\n",
       "                        <td id=\"T_1f813131_e485_11eb_96a8_a08869ebc287row4_col18\" class=\"data row4 col18\" >0.119022</td>\n",
       "            </tr>\n",
       "            <tr>\n",
       "                        <th id=\"T_1f813131_e485_11eb_96a8_a08869ebc287level0_row5\" class=\"row_heading level0 row5\" >Infant mortality</th>\n",
       "                        <td id=\"T_1f813131_e485_11eb_96a8_a08869ebc287row5_col0\" class=\"data row5 col0\" >-0.006621</td>\n",
       "                        <td id=\"T_1f813131_e485_11eb_96a8_a08869ebc287row5_col1\" class=\"data row5 col1\" >-0.052732</td>\n",
       "                        <td id=\"T_1f813131_e485_11eb_96a8_a08869ebc287row5_col2\" class=\"data row5 col2\" >-0.116275</td>\n",
       "                        <td id=\"T_1f813131_e485_11eb_96a8_a08869ebc287row5_col3\" class=\"data row5 col3\" >-0.082161</td>\n",
       "                        <td id=\"T_1f813131_e485_11eb_96a8_a08869ebc287row5_col4\" class=\"data row5 col4\" >0.021039</td>\n",
       "                        <td id=\"T_1f813131_e485_11eb_96a8_a08869ebc287row5_col5\" class=\"data row5 col5\" >1.000000</td>\n",
       "                        <td id=\"T_1f813131_e485_11eb_96a8_a08869ebc287row5_col6\" class=\"data row5 col6\" >-0.590683</td>\n",
       "                        <td id=\"T_1f813131_e485_11eb_96a8_a08869ebc287row5_col7\" class=\"data row5 col7\" >-0.748959</td>\n",
       "                        <td id=\"T_1f813131_e485_11eb_96a8_a08869ebc287row5_col8\" class=\"data row5 col8\" >-0.668581</td>\n",
       "                        <td id=\"T_1f813131_e485_11eb_96a8_a08869ebc287row5_col9\" class=\"data row5 col9\" >-0.166931</td>\n",
       "                        <td id=\"T_1f813131_e485_11eb_96a8_a08869ebc287row5_col10\" class=\"data row5 col10\" >-0.091874</td>\n",
       "                        <td id=\"T_1f813131_e485_11eb_96a8_a08869ebc287row5_col11\" class=\"data row5 col11\" >0.184302</td>\n",
       "                        <td id=\"T_1f813131_e485_11eb_96a8_a08869ebc287row5_col12\" class=\"data row5 col12\" >0.852009</td>\n",
       "                        <td id=\"T_1f813131_e485_11eb_96a8_a08869ebc287row5_col13\" class=\"data row5 col13\" >0.640203</td>\n",
       "                        <td id=\"T_1f813131_e485_11eb_96a8_a08869ebc287row5_col14\" class=\"data row5 col14\" >-0.452804</td>\n",
       "                        <td id=\"T_1f813131_e485_11eb_96a8_a08869ebc287row5_col15\" class=\"data row5 col15\" >-0.402177</td>\n",
       "                        <td id=\"T_1f813131_e485_11eb_96a8_a08869ebc287row5_col16\" class=\"data row5 col16\" >-0.408400</td>\n",
       "                        <td id=\"T_1f813131_e485_11eb_96a8_a08869ebc287row5_col17\" class=\"data row5 col17\" >-0.543985</td>\n",
       "                        <td id=\"T_1f813131_e485_11eb_96a8_a08869ebc287row5_col18\" class=\"data row5 col18\" >-0.861611</td>\n",
       "            </tr>\n",
       "            <tr>\n",
       "                        <th id=\"T_1f813131_e485_11eb_96a8_a08869ebc287level0_row6\" class=\"row_heading level0 row6\" >GDP</th>\n",
       "                        <td id=\"T_1f813131_e485_11eb_96a8_a08869ebc287row6_col0\" class=\"data row6 col0\" >-0.017257</td>\n",
       "                        <td id=\"T_1f813131_e485_11eb_96a8_a08869ebc287row6_col1\" class=\"data row6 col1\" >0.116590</td>\n",
       "                        <td id=\"T_1f813131_e485_11eb_96a8_a08869ebc287row6_col2\" class=\"data row6 col2\" >0.182475</td>\n",
       "                        <td id=\"T_1f813131_e485_11eb_96a8_a08869ebc287row6_col3\" class=\"data row6 col3\" >-0.034335</td>\n",
       "                        <td id=\"T_1f813131_e485_11eb_96a8_a08869ebc287row6_col4\" class=\"data row6 col4\" >0.408698</td>\n",
       "                        <td id=\"T_1f813131_e485_11eb_96a8_a08869ebc287row6_col5\" class=\"data row6 col5\" >-0.590683</td>\n",
       "                        <td id=\"T_1f813131_e485_11eb_96a8_a08869ebc287row6_col6\" class=\"data row6 col6\" >1.000000</td>\n",
       "                        <td id=\"T_1f813131_e485_11eb_96a8_a08869ebc287row6_col7\" class=\"data row6 col7\" >0.503040</td>\n",
       "                        <td id=\"T_1f813131_e485_11eb_96a8_a08869ebc287row6_col8\" class=\"data row6 col8\" >0.852894</td>\n",
       "                        <td id=\"T_1f813131_e485_11eb_96a8_a08869ebc287row6_col9\" class=\"data row6 col9\" >0.076138</td>\n",
       "                        <td id=\"T_1f813131_e485_11eb_96a8_a08869ebc287row6_col10\" class=\"data row6 col10\" >-0.194773</td>\n",
       "                        <td id=\"T_1f813131_e485_11eb_96a8_a08869ebc287row6_col11\" class=\"data row6 col11\" >0.038922</td>\n",
       "                        <td id=\"T_1f813131_e485_11eb_96a8_a08869ebc287row6_col12\" class=\"data row6 col12\" >-0.631378</td>\n",
       "                        <td id=\"T_1f813131_e485_11eb_96a8_a08869ebc287row6_col13\" class=\"data row6 col13\" >-0.177819</td>\n",
       "                        <td id=\"T_1f813131_e485_11eb_96a8_a08869ebc287row6_col14\" class=\"data row6 col14\" >0.471746</td>\n",
       "                        <td id=\"T_1f813131_e485_11eb_96a8_a08869ebc287row6_col15\" class=\"data row6 col15\" >0.163373</td>\n",
       "                        <td id=\"T_1f813131_e485_11eb_96a8_a08869ebc287row6_col16\" class=\"data row6 col16\" >0.623049</td>\n",
       "                        <td id=\"T_1f813131_e485_11eb_96a8_a08869ebc287row6_col17\" class=\"data row6 col17\" >0.536816</td>\n",
       "                        <td id=\"T_1f813131_e485_11eb_96a8_a08869ebc287row6_col18\" class=\"data row6 col18\" >0.678532</td>\n",
       "            </tr>\n",
       "            <tr>\n",
       "                        <th id=\"T_1f813131_e485_11eb_96a8_a08869ebc287level0_row7\" class=\"row_heading level0 row7\" >Literacy</th>\n",
       "                        <td id=\"T_1f813131_e485_11eb_96a8_a08869ebc287row7_col0\" class=\"data row7 col0\" >-0.027697</td>\n",
       "                        <td id=\"T_1f813131_e485_11eb_96a8_a08869ebc287row7_col1\" class=\"data row7 col1\" >0.066887</td>\n",
       "                        <td id=\"T_1f813131_e485_11eb_96a8_a08869ebc287row7_col2\" class=\"data row7 col2\" >0.085916</td>\n",
       "                        <td id=\"T_1f813131_e485_11eb_96a8_a08869ebc287row7_col3\" class=\"data row7 col3\" >0.077271</td>\n",
       "                        <td id=\"T_1f813131_e485_11eb_96a8_a08869ebc287row7_col4\" class=\"data row7 col4\" >-0.063532</td>\n",
       "                        <td id=\"T_1f813131_e485_11eb_96a8_a08869ebc287row7_col5\" class=\"data row7 col5\" >-0.748959</td>\n",
       "                        <td id=\"T_1f813131_e485_11eb_96a8_a08869ebc287row7_col6\" class=\"data row7 col6\" >0.503040</td>\n",
       "                        <td id=\"T_1f813131_e485_11eb_96a8_a08869ebc287row7_col7\" class=\"data row7 col7\" >1.000000</td>\n",
       "                        <td id=\"T_1f813131_e485_11eb_96a8_a08869ebc287row7_col8\" class=\"data row7 col8\" >0.590804</td>\n",
       "                        <td id=\"T_1f813131_e485_11eb_96a8_a08869ebc287row7_col9\" class=\"data row7 col9\" >0.128796</td>\n",
       "                        <td id=\"T_1f813131_e485_11eb_96a8_a08869ebc287row7_col10\" class=\"data row7 col10\" >0.089232</td>\n",
       "                        <td id=\"T_1f813131_e485_11eb_96a8_a08869ebc287row7_col11\" class=\"data row7 col11\" >-0.149711</td>\n",
       "                        <td id=\"T_1f813131_e485_11eb_96a8_a08869ebc287row7_col12\" class=\"data row7 col12\" >-0.783138</td>\n",
       "                        <td id=\"T_1f813131_e485_11eb_96a8_a08869ebc287row7_col13\" class=\"data row7 col13\" >-0.346736</td>\n",
       "                        <td id=\"T_1f813131_e485_11eb_96a8_a08869ebc287row7_col14\" class=\"data row7 col14\" >0.513941</td>\n",
       "                        <td id=\"T_1f813131_e485_11eb_96a8_a08869ebc287row7_col15\" class=\"data row7 col15\" >0.461468</td>\n",
       "                        <td id=\"T_1f813131_e485_11eb_96a8_a08869ebc287row7_col16\" class=\"data row7 col16\" >0.410998</td>\n",
       "                        <td id=\"T_1f813131_e485_11eb_96a8_a08869ebc287row7_col17\" class=\"data row7 col17\" >0.603487</td>\n",
       "                        <td id=\"T_1f813131_e485_11eb_96a8_a08869ebc287row7_col18\" class=\"data row7 col18\" >0.683107</td>\n",
       "            </tr>\n",
       "            <tr>\n",
       "                        <th id=\"T_1f813131_e485_11eb_96a8_a08869ebc287level0_row8\" class=\"row_heading level0 row8\" >Phones</th>\n",
       "                        <td id=\"T_1f813131_e485_11eb_96a8_a08869ebc287row8_col0\" class=\"data row8 col0\" >0.014356</td>\n",
       "                        <td id=\"T_1f813131_e485_11eb_96a8_a08869ebc287row8_col1\" class=\"data row8 col1\" >0.136186</td>\n",
       "                        <td id=\"T_1f813131_e485_11eb_96a8_a08869ebc287row8_col2\" class=\"data row8 col2\" >0.329991</td>\n",
       "                        <td id=\"T_1f813131_e485_11eb_96a8_a08869ebc287row8_col3\" class=\"data row8 col3\" >0.060366</td>\n",
       "                        <td id=\"T_1f813131_e485_11eb_96a8_a08869ebc287row8_col4\" class=\"data row8 col4\" >0.224548</td>\n",
       "                        <td id=\"T_1f813131_e485_11eb_96a8_a08869ebc287row8_col5\" class=\"data row8 col5\" >-0.668581</td>\n",
       "                        <td id=\"T_1f813131_e485_11eb_96a8_a08869ebc287row8_col6\" class=\"data row8 col6\" >0.852894</td>\n",
       "                        <td id=\"T_1f813131_e485_11eb_96a8_a08869ebc287row8_col7\" class=\"data row8 col7\" >0.590804</td>\n",
       "                        <td id=\"T_1f813131_e485_11eb_96a8_a08869ebc287row8_col8\" class=\"data row8 col8\" >1.000000</td>\n",
       "                        <td id=\"T_1f813131_e485_11eb_96a8_a08869ebc287row8_col9\" class=\"data row8 col9\" >0.150618</td>\n",
       "                        <td id=\"T_1f813131_e485_11eb_96a8_a08869ebc287row8_col10\" class=\"data row8 col10\" >-0.111233</td>\n",
       "                        <td id=\"T_1f813131_e485_11eb_96a8_a08869ebc287row8_col11\" class=\"data row8 col11\" >-0.065248</td>\n",
       "                        <td id=\"T_1f813131_e485_11eb_96a8_a08869ebc287row8_col12\" class=\"data row8 col12\" >-0.730341</td>\n",
       "                        <td id=\"T_1f813131_e485_11eb_96a8_a08869ebc287row8_col13\" class=\"data row8 col13\" >-0.229731</td>\n",
       "                        <td id=\"T_1f813131_e485_11eb_96a8_a08869ebc287row8_col14\" class=\"data row8 col14\" >0.482614</td>\n",
       "                        <td id=\"T_1f813131_e485_11eb_96a8_a08869ebc287row8_col15\" class=\"data row8 col15\" >0.323055</td>\n",
       "                        <td id=\"T_1f813131_e485_11eb_96a8_a08869ebc287row8_col16\" class=\"data row8 col16\" >0.573499</td>\n",
       "                        <td id=\"T_1f813131_e485_11eb_96a8_a08869ebc287row8_col17\" class=\"data row8 col17\" >0.591989</td>\n",
       "                        <td id=\"T_1f813131_e485_11eb_96a8_a08869ebc287row8_col18\" class=\"data row8 col18\" >0.734936</td>\n",
       "            </tr>\n",
       "            <tr>\n",
       "                        <th id=\"T_1f813131_e485_11eb_96a8_a08869ebc287level0_row9\" class=\"row_heading level0 row9\" >Arable</th>\n",
       "                        <td id=\"T_1f813131_e485_11eb_96a8_a08869ebc287row9_col0\" class=\"data row9 col0\" >0.181148</td>\n",
       "                        <td id=\"T_1f813131_e485_11eb_96a8_a08869ebc287row9_col1\" class=\"data row9 col1\" >-0.098235</td>\n",
       "                        <td id=\"T_1f813131_e485_11eb_96a8_a08869ebc287row9_col2\" class=\"data row9 col2\" >-0.048593</td>\n",
       "                        <td id=\"T_1f813131_e485_11eb_96a8_a08869ebc287row9_col3\" class=\"data row9 col3\" >-0.098124</td>\n",
       "                        <td id=\"T_1f813131_e485_11eb_96a8_a08869ebc287row9_col4\" class=\"data row9 col4\" >-0.036066</td>\n",
       "                        <td id=\"T_1f813131_e485_11eb_96a8_a08869ebc287row9_col5\" class=\"data row9 col5\" >-0.166931</td>\n",
       "                        <td id=\"T_1f813131_e485_11eb_96a8_a08869ebc287row9_col6\" class=\"data row9 col6\" >0.076138</td>\n",
       "                        <td id=\"T_1f813131_e485_11eb_96a8_a08869ebc287row9_col7\" class=\"data row9 col7\" >0.128796</td>\n",
       "                        <td id=\"T_1f813131_e485_11eb_96a8_a08869ebc287row9_col8\" class=\"data row9 col8\" >0.150618</td>\n",
       "                        <td id=\"T_1f813131_e485_11eb_96a8_a08869ebc287row9_col9\" class=\"data row9 col9\" >1.000000</td>\n",
       "                        <td id=\"T_1f813131_e485_11eb_96a8_a08869ebc287row9_col10\" class=\"data row9 col10\" >0.072859</td>\n",
       "                        <td id=\"T_1f813131_e485_11eb_96a8_a08869ebc287row9_col11\" class=\"data row9 col11\" >-0.855311</td>\n",
       "                        <td id=\"T_1f813131_e485_11eb_96a8_a08869ebc287row9_col12\" class=\"data row9 col12\" >-0.255504</td>\n",
       "                        <td id=\"T_1f813131_e485_11eb_96a8_a08869ebc287row9_col13\" class=\"data row9 col13\" >0.031981</td>\n",
       "                        <td id=\"T_1f813131_e485_11eb_96a8_a08869ebc287row9_col14\" class=\"data row9 col14\" >0.195820</td>\n",
       "                        <td id=\"T_1f813131_e485_11eb_96a8_a08869ebc287row9_col15\" class=\"data row9 col15\" >0.246024</td>\n",
       "                        <td id=\"T_1f813131_e485_11eb_96a8_a08869ebc287row9_col16\" class=\"data row9 col16\" >0.199232</td>\n",
       "                        <td id=\"T_1f813131_e485_11eb_96a8_a08869ebc287row9_col17\" class=\"data row9 col17\" >0.275282</td>\n",
       "                        <td id=\"T_1f813131_e485_11eb_96a8_a08869ebc287row9_col18\" class=\"data row9 col18\" >0.124476</td>\n",
       "            </tr>\n",
       "            <tr>\n",
       "                        <th id=\"T_1f813131_e485_11eb_96a8_a08869ebc287level0_row10\" class=\"row_heading level0 row10\" >Crops</th>\n",
       "                        <td id=\"T_1f813131_e485_11eb_96a8_a08869ebc287row10_col0\" class=\"data row10 col0\" >-0.066458</td>\n",
       "                        <td id=\"T_1f813131_e485_11eb_96a8_a08869ebc287row10_col1\" class=\"data row10 col1\" >-0.152397</td>\n",
       "                        <td id=\"T_1f813131_e485_11eb_96a8_a08869ebc287row10_col2\" class=\"data row10 col2\" >-0.025383</td>\n",
       "                        <td id=\"T_1f813131_e485_11eb_96a8_a08869ebc287row10_col3\" class=\"data row10 col3\" >0.416647</td>\n",
       "                        <td id=\"T_1f813131_e485_11eb_96a8_a08869ebc287row10_col4\" class=\"data row10 col4\" >-0.382163</td>\n",
       "                        <td id=\"T_1f813131_e485_11eb_96a8_a08869ebc287row10_col5\" class=\"data row10 col5\" >-0.091874</td>\n",
       "                        <td id=\"T_1f813131_e485_11eb_96a8_a08869ebc287row10_col6\" class=\"data row10 col6\" >-0.194773</td>\n",
       "                        <td id=\"T_1f813131_e485_11eb_96a8_a08869ebc287row10_col7\" class=\"data row10 col7\" >0.089232</td>\n",
       "                        <td id=\"T_1f813131_e485_11eb_96a8_a08869ebc287row10_col8\" class=\"data row10 col8\" >-0.111233</td>\n",
       "                        <td id=\"T_1f813131_e485_11eb_96a8_a08869ebc287row10_col9\" class=\"data row10 col9\" >0.072859</td>\n",
       "                        <td id=\"T_1f813131_e485_11eb_96a8_a08869ebc287row10_col10\" class=\"data row10 col10\" >1.000000</td>\n",
       "                        <td id=\"T_1f813131_e485_11eb_96a8_a08869ebc287row10_col11\" class=\"data row10 col11\" >-0.579056</td>\n",
       "                        <td id=\"T_1f813131_e485_11eb_96a8_a08869ebc287row10_col12\" class=\"data row10 col12\" >0.071426</td>\n",
       "                        <td id=\"T_1f813131_e485_11eb_96a8_a08869ebc287row10_col13\" class=\"data row10 col13\" >-0.217957</td>\n",
       "                        <td id=\"T_1f813131_e485_11eb_96a8_a08869ebc287row10_col14\" class=\"data row10 col14\" >-0.147334</td>\n",
       "                        <td id=\"T_1f813131_e485_11eb_96a8_a08869ebc287row10_col15\" class=\"data row10 col15\" >0.069469</td>\n",
       "                        <td id=\"T_1f813131_e485_11eb_96a8_a08869ebc287row10_col16\" class=\"data row10 col16\" >-0.080893</td>\n",
       "                        <td id=\"T_1f813131_e485_11eb_96a8_a08869ebc287row10_col17\" class=\"data row10 col17\" >-0.073263</td>\n",
       "                        <td id=\"T_1f813131_e485_11eb_96a8_a08869ebc287row10_col18\" class=\"data row10 col18\" >0.000543</td>\n",
       "            </tr>\n",
       "            <tr>\n",
       "                        <th id=\"T_1f813131_e485_11eb_96a8_a08869ebc287level0_row11\" class=\"row_heading level0 row11\" >Other</th>\n",
       "                        <td id=\"T_1f813131_e485_11eb_96a8_a08869ebc287row11_col0\" class=\"data row11 col0\" >-0.113551</td>\n",
       "                        <td id=\"T_1f813131_e485_11eb_96a8_a08869ebc287row11_col1\" class=\"data row11 col1\" >0.159500</td>\n",
       "                        <td id=\"T_1f813131_e485_11eb_96a8_a08869ebc287row11_col2\" class=\"data row11 col2\" >0.052916</td>\n",
       "                        <td id=\"T_1f813131_e485_11eb_96a8_a08869ebc287row11_col3\" class=\"data row11 col3\" >-0.136230</td>\n",
       "                        <td id=\"T_1f813131_e485_11eb_96a8_a08869ebc287row11_col4\" class=\"data row11 col4\" >0.227783</td>\n",
       "                        <td id=\"T_1f813131_e485_11eb_96a8_a08869ebc287row11_col5\" class=\"data row11 col5\" >0.184302</td>\n",
       "                        <td id=\"T_1f813131_e485_11eb_96a8_a08869ebc287row11_col6\" class=\"data row11 col6\" >0.038922</td>\n",
       "                        <td id=\"T_1f813131_e485_11eb_96a8_a08869ebc287row11_col7\" class=\"data row11 col7\" >-0.149711</td>\n",
       "                        <td id=\"T_1f813131_e485_11eb_96a8_a08869ebc287row11_col8\" class=\"data row11 col8\" >-0.065248</td>\n",
       "                        <td id=\"T_1f813131_e485_11eb_96a8_a08869ebc287row11_col9\" class=\"data row11 col9\" >-0.855311</td>\n",
       "                        <td id=\"T_1f813131_e485_11eb_96a8_a08869ebc287row11_col10\" class=\"data row11 col10\" >-0.579056</td>\n",
       "                        <td id=\"T_1f813131_e485_11eb_96a8_a08869ebc287row11_col11\" class=\"data row11 col11\" >1.000000</td>\n",
       "                        <td id=\"T_1f813131_e485_11eb_96a8_a08869ebc287row11_col12\" class=\"data row11 col12\" >0.171166</td>\n",
       "                        <td id=\"T_1f813131_e485_11eb_96a8_a08869ebc287row11_col13\" class=\"data row11 col13\" >0.087330</td>\n",
       "                        <td id=\"T_1f813131_e485_11eb_96a8_a08869ebc287row11_col14\" class=\"data row11 col14\" >-0.083506</td>\n",
       "                        <td id=\"T_1f813131_e485_11eb_96a8_a08869ebc287row11_col15\" class=\"data row11 col15\" >-0.237188</td>\n",
       "                        <td id=\"T_1f813131_e485_11eb_96a8_a08869ebc287row11_col16\" class=\"data row11 col16\" >-0.120821</td>\n",
       "                        <td id=\"T_1f813131_e485_11eb_96a8_a08869ebc287row11_col17\" class=\"data row11 col17\" >-0.186944</td>\n",
       "                        <td id=\"T_1f813131_e485_11eb_96a8_a08869ebc287row11_col18\" class=\"data row11 col18\" >-0.102067</td>\n",
       "            </tr>\n",
       "            <tr>\n",
       "                        <th id=\"T_1f813131_e485_11eb_96a8_a08869ebc287level0_row12\" class=\"row_heading level0 row12\" >Birthrate</th>\n",
       "                        <td id=\"T_1f813131_e485_11eb_96a8_a08869ebc287row12_col0\" class=\"data row12 col0\" >-0.073325</td>\n",
       "                        <td id=\"T_1f813131_e485_11eb_96a8_a08869ebc287row12_col1\" class=\"data row12 col1\" >-0.109935</td>\n",
       "                        <td id=\"T_1f813131_e485_11eb_96a8_a08869ebc287row12_col2\" class=\"data row12 col2\" >-0.134482</td>\n",
       "                        <td id=\"T_1f813131_e485_11eb_96a8_a08869ebc287row12_col3\" class=\"data row12 col3\" >-0.019777</td>\n",
       "                        <td id=\"T_1f813131_e485_11eb_96a8_a08869ebc287row12_col4\" class=\"data row12 col4\" >-0.036771</td>\n",
       "                        <td id=\"T_1f813131_e485_11eb_96a8_a08869ebc287row12_col5\" class=\"data row12 col5\" >0.852009</td>\n",
       "                        <td id=\"T_1f813131_e485_11eb_96a8_a08869ebc287row12_col6\" class=\"data row12 col6\" >-0.631378</td>\n",
       "                        <td id=\"T_1f813131_e485_11eb_96a8_a08869ebc287row12_col7\" class=\"data row12 col7\" >-0.783138</td>\n",
       "                        <td id=\"T_1f813131_e485_11eb_96a8_a08869ebc287row12_col8\" class=\"data row12 col8\" >-0.730341</td>\n",
       "                        <td id=\"T_1f813131_e485_11eb_96a8_a08869ebc287row12_col9\" class=\"data row12 col9\" >-0.255504</td>\n",
       "                        <td id=\"T_1f813131_e485_11eb_96a8_a08869ebc287row12_col10\" class=\"data row12 col10\" >0.071426</td>\n",
       "                        <td id=\"T_1f813131_e485_11eb_96a8_a08869ebc287row12_col11\" class=\"data row12 col11\" >0.171166</td>\n",
       "                        <td id=\"T_1f813131_e485_11eb_96a8_a08869ebc287row12_col12\" class=\"data row12 col12\" >1.000000</td>\n",
       "                        <td id=\"T_1f813131_e485_11eb_96a8_a08869ebc287row12_col13\" class=\"data row12 col13\" >0.390503</td>\n",
       "                        <td id=\"T_1f813131_e485_11eb_96a8_a08869ebc287row12_col14\" class=\"data row12 col14\" >-0.534485</td>\n",
       "                        <td id=\"T_1f813131_e485_11eb_96a8_a08869ebc287row12_col15\" class=\"data row12 col15\" >-0.487926</td>\n",
       "                        <td id=\"T_1f813131_e485_11eb_96a8_a08869ebc287row12_col16\" class=\"data row12 col16\" >-0.485504</td>\n",
       "                        <td id=\"T_1f813131_e485_11eb_96a8_a08869ebc287row12_col17\" class=\"data row12 col17\" >-0.652532</td>\n",
       "                        <td id=\"T_1f813131_e485_11eb_96a8_a08869ebc287row12_col18\" class=\"data row12 col18\" >-0.815434</td>\n",
       "            </tr>\n",
       "            <tr>\n",
       "                        <th id=\"T_1f813131_e485_11eb_96a8_a08869ebc287level0_row13\" class=\"row_heading level0 row13\" >Deathrate</th>\n",
       "                        <td id=\"T_1f813131_e485_11eb_96a8_a08869ebc287row13_col0\" class=\"data row13 col0\" >-0.055873</td>\n",
       "                        <td id=\"T_1f813131_e485_11eb_96a8_a08869ebc287row13_col1\" class=\"data row13 col1\" >0.006095</td>\n",
       "                        <td id=\"T_1f813131_e485_11eb_96a8_a08869ebc287row13_col2\" class=\"data row13 col2\" >-0.013536</td>\n",
       "                        <td id=\"T_1f813131_e485_11eb_96a8_a08869ebc287row13_col3\" class=\"data row13 col3\" >-0.118909</td>\n",
       "                        <td id=\"T_1f813131_e485_11eb_96a8_a08869ebc287row13_col4\" class=\"data row13 col4\" >0.106628</td>\n",
       "                        <td id=\"T_1f813131_e485_11eb_96a8_a08869ebc287row13_col5\" class=\"data row13 col5\" >0.640203</td>\n",
       "                        <td id=\"T_1f813131_e485_11eb_96a8_a08869ebc287row13_col6\" class=\"data row13 col6\" >-0.177819</td>\n",
       "                        <td id=\"T_1f813131_e485_11eb_96a8_a08869ebc287row13_col7\" class=\"data row13 col7\" >-0.346736</td>\n",
       "                        <td id=\"T_1f813131_e485_11eb_96a8_a08869ebc287row13_col8\" class=\"data row13 col8\" >-0.229731</td>\n",
       "                        <td id=\"T_1f813131_e485_11eb_96a8_a08869ebc287row13_col9\" class=\"data row13 col9\" >0.031981</td>\n",
       "                        <td id=\"T_1f813131_e485_11eb_96a8_a08869ebc287row13_col10\" class=\"data row13 col10\" >-0.217957</td>\n",
       "                        <td id=\"T_1f813131_e485_11eb_96a8_a08869ebc287row13_col11\" class=\"data row13 col11\" >0.087330</td>\n",
       "                        <td id=\"T_1f813131_e485_11eb_96a8_a08869ebc287row13_col12\" class=\"data row13 col12\" >0.390503</td>\n",
       "                        <td id=\"T_1f813131_e485_11eb_96a8_a08869ebc287row13_col13\" class=\"data row13 col13\" >1.000000</td>\n",
       "                        <td id=\"T_1f813131_e485_11eb_96a8_a08869ebc287row13_col14\" class=\"data row13 col14\" >0.018299</td>\n",
       "                        <td id=\"T_1f813131_e485_11eb_96a8_a08869ebc287row13_col15\" class=\"data row13 col15\" >-0.102912</td>\n",
       "                        <td id=\"T_1f813131_e485_11eb_96a8_a08869ebc287row13_col16\" class=\"data row13 col16\" >-0.007469</td>\n",
       "                        <td id=\"T_1f813131_e485_11eb_96a8_a08869ebc287row13_col17\" class=\"data row13 col17\" >-0.037224</td>\n",
       "                        <td id=\"T_1f813131_e485_11eb_96a8_a08869ebc287row13_col18\" class=\"data row13 col18\" >-0.648615</td>\n",
       "            </tr>\n",
       "            <tr>\n",
       "                        <th id=\"T_1f813131_e485_11eb_96a8_a08869ebc287level0_row14\" class=\"row_heading level0 row14\" >beer_servings</th>\n",
       "                        <td id=\"T_1f813131_e485_11eb_96a8_a08869ebc287row14_col0\" class=\"data row14 col0\" >-0.043054</td>\n",
       "                        <td id=\"T_1f813131_e485_11eb_96a8_a08869ebc287row14_col1\" class=\"data row14 col1\" >0.160762</td>\n",
       "                        <td id=\"T_1f813131_e485_11eb_96a8_a08869ebc287row14_col2\" class=\"data row14 col2\" >-0.097358</td>\n",
       "                        <td id=\"T_1f813131_e485_11eb_96a8_a08869ebc287row14_col3\" class=\"data row14 col3\" >-0.030081</td>\n",
       "                        <td id=\"T_1f813131_e485_11eb_96a8_a08869ebc287row14_col4\" class=\"data row14 col4\" >0.002605</td>\n",
       "                        <td id=\"T_1f813131_e485_11eb_96a8_a08869ebc287row14_col5\" class=\"data row14 col5\" >-0.452804</td>\n",
       "                        <td id=\"T_1f813131_e485_11eb_96a8_a08869ebc287row14_col6\" class=\"data row14 col6\" >0.471746</td>\n",
       "                        <td id=\"T_1f813131_e485_11eb_96a8_a08869ebc287row14_col7\" class=\"data row14 col7\" >0.513941</td>\n",
       "                        <td id=\"T_1f813131_e485_11eb_96a8_a08869ebc287row14_col8\" class=\"data row14 col8\" >0.482614</td>\n",
       "                        <td id=\"T_1f813131_e485_11eb_96a8_a08869ebc287row14_col9\" class=\"data row14 col9\" >0.195820</td>\n",
       "                        <td id=\"T_1f813131_e485_11eb_96a8_a08869ebc287row14_col10\" class=\"data row14 col10\" >-0.147334</td>\n",
       "                        <td id=\"T_1f813131_e485_11eb_96a8_a08869ebc287row14_col11\" class=\"data row14 col11\" >-0.083506</td>\n",
       "                        <td id=\"T_1f813131_e485_11eb_96a8_a08869ebc287row14_col12\" class=\"data row14 col12\" >-0.534485</td>\n",
       "                        <td id=\"T_1f813131_e485_11eb_96a8_a08869ebc287row14_col13\" class=\"data row14 col13\" >0.018299</td>\n",
       "                        <td id=\"T_1f813131_e485_11eb_96a8_a08869ebc287row14_col14\" class=\"data row14 col14\" >1.000000</td>\n",
       "                        <td id=\"T_1f813131_e485_11eb_96a8_a08869ebc287row14_col15\" class=\"data row14 col15\" >0.448728</td>\n",
       "                        <td id=\"T_1f813131_e485_11eb_96a8_a08869ebc287row14_col16\" class=\"data row14 col16\" >0.529777</td>\n",
       "                        <td id=\"T_1f813131_e485_11eb_96a8_a08869ebc287row14_col17\" class=\"data row14 col17\" >0.878196</td>\n",
       "                        <td id=\"T_1f813131_e485_11eb_96a8_a08869ebc287row14_col18\" class=\"data row14 col18\" >0.417897</td>\n",
       "            </tr>\n",
       "            <tr>\n",
       "                        <th id=\"T_1f813131_e485_11eb_96a8_a08869ebc287level0_row15\" class=\"row_heading level0 row15\" >spirit_servings</th>\n",
       "                        <td id=\"T_1f813131_e485_11eb_96a8_a08869ebc287row15_col0\" class=\"data row15 col0\" >0.090884</td>\n",
       "                        <td id=\"T_1f813131_e485_11eb_96a8_a08869ebc287row15_col1\" class=\"data row15 col1\" >0.172090</td>\n",
       "                        <td id=\"T_1f813131_e485_11eb_96a8_a08869ebc287row15_col2\" class=\"data row15 col2\" >-0.081644</td>\n",
       "                        <td id=\"T_1f813131_e485_11eb_96a8_a08869ebc287row15_col3\" class=\"data row15 col3\" >-0.047012</td>\n",
       "                        <td id=\"T_1f813131_e485_11eb_96a8_a08869ebc287row15_col4\" class=\"data row15 col4\" >-0.241164</td>\n",
       "                        <td id=\"T_1f813131_e485_11eb_96a8_a08869ebc287row15_col5\" class=\"data row15 col5\" >-0.402177</td>\n",
       "                        <td id=\"T_1f813131_e485_11eb_96a8_a08869ebc287row15_col6\" class=\"data row15 col6\" >0.163373</td>\n",
       "                        <td id=\"T_1f813131_e485_11eb_96a8_a08869ebc287row15_col7\" class=\"data row15 col7\" >0.461468</td>\n",
       "                        <td id=\"T_1f813131_e485_11eb_96a8_a08869ebc287row15_col8\" class=\"data row15 col8\" >0.323055</td>\n",
       "                        <td id=\"T_1f813131_e485_11eb_96a8_a08869ebc287row15_col9\" class=\"data row15 col9\" >0.246024</td>\n",
       "                        <td id=\"T_1f813131_e485_11eb_96a8_a08869ebc287row15_col10\" class=\"data row15 col10\" >0.069469</td>\n",
       "                        <td id=\"T_1f813131_e485_11eb_96a8_a08869ebc287row15_col11\" class=\"data row15 col11\" >-0.237188</td>\n",
       "                        <td id=\"T_1f813131_e485_11eb_96a8_a08869ebc287row15_col12\" class=\"data row15 col12\" >-0.487926</td>\n",
       "                        <td id=\"T_1f813131_e485_11eb_96a8_a08869ebc287row15_col13\" class=\"data row15 col13\" >-0.102912</td>\n",
       "                        <td id=\"T_1f813131_e485_11eb_96a8_a08869ebc287row15_col14\" class=\"data row15 col14\" >0.448728</td>\n",
       "                        <td id=\"T_1f813131_e485_11eb_96a8_a08869ebc287row15_col15\" class=\"data row15 col15\" >1.000000</td>\n",
       "                        <td id=\"T_1f813131_e485_11eb_96a8_a08869ebc287row15_col16\" class=\"data row15 col16\" >0.179032</td>\n",
       "                        <td id=\"T_1f813131_e485_11eb_96a8_a08869ebc287row15_col17\" class=\"data row15 col17\" >0.708603</td>\n",
       "                        <td id=\"T_1f813131_e485_11eb_96a8_a08869ebc287row15_col18\" class=\"data row15 col18\" >0.328673</td>\n",
       "            </tr>\n",
       "            <tr>\n",
       "                        <th id=\"T_1f813131_e485_11eb_96a8_a08869ebc287level0_row16\" class=\"row_heading level0 row16\" >wine_servings</th>\n",
       "                        <td id=\"T_1f813131_e485_11eb_96a8_a08869ebc287row16_col0\" class=\"data row16 col0\" >-0.066615</td>\n",
       "                        <td id=\"T_1f813131_e485_11eb_96a8_a08869ebc287row16_col1\" class=\"data row16 col1\" >0.021826</td>\n",
       "                        <td id=\"T_1f813131_e485_11eb_96a8_a08869ebc287row16_col2\" class=\"data row16 col2\" >-0.057457</td>\n",
       "                        <td id=\"T_1f813131_e485_11eb_96a8_a08869ebc287row16_col3\" class=\"data row16 col3\" >-0.064406</td>\n",
       "                        <td id=\"T_1f813131_e485_11eb_96a8_a08869ebc287row16_col4\" class=\"data row16 col4\" >0.206226</td>\n",
       "                        <td id=\"T_1f813131_e485_11eb_96a8_a08869ebc287row16_col5\" class=\"data row16 col5\" >-0.408400</td>\n",
       "                        <td id=\"T_1f813131_e485_11eb_96a8_a08869ebc287row16_col6\" class=\"data row16 col6\" >0.623049</td>\n",
       "                        <td id=\"T_1f813131_e485_11eb_96a8_a08869ebc287row16_col7\" class=\"data row16 col7\" >0.410998</td>\n",
       "                        <td id=\"T_1f813131_e485_11eb_96a8_a08869ebc287row16_col8\" class=\"data row16 col8\" >0.573499</td>\n",
       "                        <td id=\"T_1f813131_e485_11eb_96a8_a08869ebc287row16_col9\" class=\"data row16 col9\" >0.199232</td>\n",
       "                        <td id=\"T_1f813131_e485_11eb_96a8_a08869ebc287row16_col10\" class=\"data row16 col10\" >-0.080893</td>\n",
       "                        <td id=\"T_1f813131_e485_11eb_96a8_a08869ebc287row16_col11\" class=\"data row16 col11\" >-0.120821</td>\n",
       "                        <td id=\"T_1f813131_e485_11eb_96a8_a08869ebc287row16_col12\" class=\"data row16 col12\" >-0.485504</td>\n",
       "                        <td id=\"T_1f813131_e485_11eb_96a8_a08869ebc287row16_col13\" class=\"data row16 col13\" >-0.007469</td>\n",
       "                        <td id=\"T_1f813131_e485_11eb_96a8_a08869ebc287row16_col14\" class=\"data row16 col14\" >0.529777</td>\n",
       "                        <td id=\"T_1f813131_e485_11eb_96a8_a08869ebc287row16_col15\" class=\"data row16 col15\" >0.179032</td>\n",
       "                        <td id=\"T_1f813131_e485_11eb_96a8_a08869ebc287row16_col16\" class=\"data row16 col16\" >1.000000</td>\n",
       "                        <td id=\"T_1f813131_e485_11eb_96a8_a08869ebc287row16_col17\" class=\"data row16 col17\" >0.716003</td>\n",
       "                        <td id=\"T_1f813131_e485_11eb_96a8_a08869ebc287row16_col18\" class=\"data row16 col18\" >0.457940</td>\n",
       "            </tr>\n",
       "            <tr>\n",
       "                        <th id=\"T_1f813131_e485_11eb_96a8_a08869ebc287level0_row17\" class=\"row_heading level0 row17\" >total_litres_of_pure_alcohol</th>\n",
       "                        <td id=\"T_1f813131_e485_11eb_96a8_a08869ebc287row17_col0\" class=\"data row17 col0\" >-0.008085</td>\n",
       "                        <td id=\"T_1f813131_e485_11eb_96a8_a08869ebc287row17_col1\" class=\"data row17 col1\" >0.159097</td>\n",
       "                        <td id=\"T_1f813131_e485_11eb_96a8_a08869ebc287row17_col2\" class=\"data row17 col2\" >-0.103768</td>\n",
       "                        <td id=\"T_1f813131_e485_11eb_96a8_a08869ebc287row17_col3\" class=\"data row17 col3\" >-0.059124</td>\n",
       "                        <td id=\"T_1f813131_e485_11eb_96a8_a08869ebc287row17_col4\" class=\"data row17 col4\" >-0.020485</td>\n",
       "                        <td id=\"T_1f813131_e485_11eb_96a8_a08869ebc287row17_col5\" class=\"data row17 col5\" >-0.543985</td>\n",
       "                        <td id=\"T_1f813131_e485_11eb_96a8_a08869ebc287row17_col6\" class=\"data row17 col6\" >0.536816</td>\n",
       "                        <td id=\"T_1f813131_e485_11eb_96a8_a08869ebc287row17_col7\" class=\"data row17 col7\" >0.603487</td>\n",
       "                        <td id=\"T_1f813131_e485_11eb_96a8_a08869ebc287row17_col8\" class=\"data row17 col8\" >0.591989</td>\n",
       "                        <td id=\"T_1f813131_e485_11eb_96a8_a08869ebc287row17_col9\" class=\"data row17 col9\" >0.275282</td>\n",
       "                        <td id=\"T_1f813131_e485_11eb_96a8_a08869ebc287row17_col10\" class=\"data row17 col10\" >-0.073263</td>\n",
       "                        <td id=\"T_1f813131_e485_11eb_96a8_a08869ebc287row17_col11\" class=\"data row17 col11\" >-0.186944</td>\n",
       "                        <td id=\"T_1f813131_e485_11eb_96a8_a08869ebc287row17_col12\" class=\"data row17 col12\" >-0.652532</td>\n",
       "                        <td id=\"T_1f813131_e485_11eb_96a8_a08869ebc287row17_col13\" class=\"data row17 col13\" >-0.037224</td>\n",
       "                        <td id=\"T_1f813131_e485_11eb_96a8_a08869ebc287row17_col14\" class=\"data row17 col14\" >0.878196</td>\n",
       "                        <td id=\"T_1f813131_e485_11eb_96a8_a08869ebc287row17_col15\" class=\"data row17 col15\" >0.708603</td>\n",
       "                        <td id=\"T_1f813131_e485_11eb_96a8_a08869ebc287row17_col16\" class=\"data row17 col16\" >0.716003</td>\n",
       "                        <td id=\"T_1f813131_e485_11eb_96a8_a08869ebc287row17_col17\" class=\"data row17 col17\" >1.000000</td>\n",
       "                        <td id=\"T_1f813131_e485_11eb_96a8_a08869ebc287row17_col18\" class=\"data row17 col18\" >0.517162</td>\n",
       "            </tr>\n",
       "            <tr>\n",
       "                        <th id=\"T_1f813131_e485_11eb_96a8_a08869ebc287level0_row18\" class=\"row_heading level0 row18\" >DisplayValue</th>\n",
       "                        <td id=\"T_1f813131_e485_11eb_96a8_a08869ebc287row18_col0\" class=\"data row18 col0\" >0.012294</td>\n",
       "                        <td id=\"T_1f813131_e485_11eb_96a8_a08869ebc287row18_col1\" class=\"data row18 col1\" >0.036881</td>\n",
       "                        <td id=\"T_1f813131_e485_11eb_96a8_a08869ebc287row18_col2\" class=\"data row18 col2\" >0.157231</td>\n",
       "                        <td id=\"T_1f813131_e485_11eb_96a8_a08869ebc287row18_col3\" class=\"data row18 col3\" >0.050117</td>\n",
       "                        <td id=\"T_1f813131_e485_11eb_96a8_a08869ebc287row18_col4\" class=\"data row18 col4\" >0.119022</td>\n",
       "                        <td id=\"T_1f813131_e485_11eb_96a8_a08869ebc287row18_col5\" class=\"data row18 col5\" >-0.861611</td>\n",
       "                        <td id=\"T_1f813131_e485_11eb_96a8_a08869ebc287row18_col6\" class=\"data row18 col6\" >0.678532</td>\n",
       "                        <td id=\"T_1f813131_e485_11eb_96a8_a08869ebc287row18_col7\" class=\"data row18 col7\" >0.683107</td>\n",
       "                        <td id=\"T_1f813131_e485_11eb_96a8_a08869ebc287row18_col8\" class=\"data row18 col8\" >0.734936</td>\n",
       "                        <td id=\"T_1f813131_e485_11eb_96a8_a08869ebc287row18_col9\" class=\"data row18 col9\" >0.124476</td>\n",
       "                        <td id=\"T_1f813131_e485_11eb_96a8_a08869ebc287row18_col10\" class=\"data row18 col10\" >0.000543</td>\n",
       "                        <td id=\"T_1f813131_e485_11eb_96a8_a08869ebc287row18_col11\" class=\"data row18 col11\" >-0.102067</td>\n",
       "                        <td id=\"T_1f813131_e485_11eb_96a8_a08869ebc287row18_col12\" class=\"data row18 col12\" >-0.815434</td>\n",
       "                        <td id=\"T_1f813131_e485_11eb_96a8_a08869ebc287row18_col13\" class=\"data row18 col13\" >-0.648615</td>\n",
       "                        <td id=\"T_1f813131_e485_11eb_96a8_a08869ebc287row18_col14\" class=\"data row18 col14\" >0.417897</td>\n",
       "                        <td id=\"T_1f813131_e485_11eb_96a8_a08869ebc287row18_col15\" class=\"data row18 col15\" >0.328673</td>\n",
       "                        <td id=\"T_1f813131_e485_11eb_96a8_a08869ebc287row18_col16\" class=\"data row18 col16\" >0.457940</td>\n",
       "                        <td id=\"T_1f813131_e485_11eb_96a8_a08869ebc287row18_col17\" class=\"data row18 col17\" >0.517162</td>\n",
       "                        <td id=\"T_1f813131_e485_11eb_96a8_a08869ebc287row18_col18\" class=\"data row18 col18\" >1.000000</td>\n",
       "            </tr>\n",
       "    </tbody></table>"
      ],
      "text/plain": [
       "<pandas.io.formats.style.Styler at 0x2970027c400>"
      ]
     },
     "execution_count": 76,
     "metadata": {},
     "output_type": "execute_result"
    }
   ],
   "source": [
    "# displaying the DataFrame\n",
    "pearsoncorr.style.applymap(color_negative_red)"
   ]
  },
  {
   "cell_type": "markdown",
   "metadata": {},
   "source": [
    "In our case, the Birthrate and Infant mortality shows very strong correlations, it's equal to 0.8520.\n",
    "\n",
    "The diagonal line is the correlation of the variables to themselves — so they’ll obviously be 1.\n",
    "\n",
    "GDP and Phones also have high correlation: 0.8529. The higher the GDP, the more Phones people buy. \n",
    "\n",
    "Correlation between GDP and Life expectancy is high, it is 0.68. \n",
    "\n",
    "Life expectancy and Phones also have high correlation: 0.7349. We already know that countries with high GDP have high Life expectancy as well. So high GDP of country makes it more affordable for people to buy a phone. Life expectancy also highly negatively correlated with Infant mortality (-0.861611) and Birthrate (-0.815434). Life expectancy moderately correlated with Literacy: 0.6035. The more literate the person is, the more alcohol he/she drinks? We need more analysis to have such conclusion. \n",
    "\n",
    "The highest correlation of Total litres of alcohol is with beer_servings, spirit_servings and wine_servings (0.70, 0.71, 0.87). This is obvious as these are the confouding variables. The highest negative correlation of Total litres of alcohol is with the Birthrate. Does it imply that the more alcohol people drink, the less children they have? Maybe, again we need deeper analysis for that. But we definetely know that alcohol has strong negative effect on fertility. \n",
    "\n",
    "Life expectancy and Total litres of alcohol is moderately correlated: 0.52. \n"
   ]
  },
  {
   "cell_type": "markdown",
   "metadata": {},
   "source": [
    "This visualization makes it easier to see the correlation between the variables. "
   ]
  },
  {
   "cell_type": "code",
   "execution_count": 77,
   "metadata": {},
   "outputs": [
    {
     "data": {
      "text/plain": [
       "<matplotlib.axes._subplots.AxesSubplot at 0x297005fcc40>"
      ]
     },
     "execution_count": 77,
     "metadata": {},
     "output_type": "execute_result"
    },
    {
     "data": {
      "image/png": "[encoded data removed]",
      "text/plain": [
       "<Figure size 1224x1224 with 2 Axes>"
      ]
     },
     "metadata": {
      "needs_background": "light"
     },
     "output_type": "display_data"
    }
   ],
   "source": [
    "fig, ax = plt.subplots(figsize=(17,17)) \n",
    "sb.heatmap(pearsoncorr, \n",
    "            xticklabels=pearsoncorr.columns,\n",
    "            yticklabels=pearsoncorr.columns,\n",
    "            cmap='RdBu_r',\n",
    "            annot=True,\n",
    "            linewidth=0.5)"
   ]
  },
  {
   "cell_type": "markdown",
   "metadata": {},
   "source": [
    "### Summary"
   ]
  },
  {
   "cell_type": "markdown",
   "metadata": {},
   "source": [
    "This analysis consisted of several steps of working with 3 datasets. First, we calculated total liters of pure alcohol in different drinks. Then we have seen that correlation between expected lifetime and total liters of pure alcohol is positive, but it's not strong. \n",
    "\n",
    "We did tons of data preparing work with drinks dataset and countries dataset. This was a good learning point to understand that data can be in the different form and we need to do suitable data pre-processing in order to work with this data consistently. \n",
    "\n",
    "Then we found factors that are highly correlated (positively, negatively) to the expected lifetime. "
   ]
  },
  {
   "cell_type": "markdown",
   "metadata": {},
   "source": [
    "So, what we learned from this analysis? \n",
    "\n",
    "We learned that alcohol consumption can be correlated with the life expectancy and other metrics of the country. But we should keep in mind that correlation does not indicate causation. A correlation quantifies the strength of the relationship between the features of a dataset. Sometimes, the association is caused by a factor common to several features of interest. We should do deeper analysis to find such features. Therefore, the current project is a good starting point to do such analysis. "
   ]
  },
  {
   "cell_type": "markdown",
   "metadata": {},
   "source": [
    "### Methodology"
   ]
  },
  {
   "cell_type": "markdown",
   "metadata": {},
   "source": [
    "Even though steps in this notebook appears in a *sequential* order, in reality I did this project in *iterative* order jumpring from further steps to earlier steps several times. This is indeed inline with CRISP DM methodology."
   ]
  },
  {
   "cell_type": "markdown",
   "metadata": {},
   "source": [
    "### Appendix "
   ]
  },
  {
   "cell_type": "markdown",
   "metadata": {},
   "source": [
    "#### Calculation"
   ]
  },
  {
   "cell_type": "markdown",
   "metadata": {},
   "source": [
    "1 serving of wine is equal to 5 ounces. \n",
    "\n",
    "5 ounces (1 serving) of wine contains 12 % alcohol. \n",
    "\n",
    "5 ounces of wine is equal to 0.1475 litres (5*0.0295). \n",
    "\n",
    "1 serving of wine contains 12 % alcohol, that means \n",
    "\n",
    "1 serving of wine contains 0.0177 litres of alcohol (12*0.1475/100).\n",
    "\n",
    "132 servings of wine contains 2.3364 litres of alcohol (89*0.0177)\n"
   ]
  }
 ],
 "metadata": {
  "kernelspec": {
   "display_name": "Python 3",
   "language": "python",
   "name": "python3"
  },
  "language_info": {
   "codemirror_mode": {
    "name": "ipython",
    "version": 3
   },
   "file_extension": ".py",
   "mimetype": "text/x-python",
   "name": "python",
   "nbconvert_exporter": "python",
   "pygments_lexer": "ipython3",
   "version": "3.8.3"
  }
 },
 "nbformat": 4,
 "nbformat_minor": 4
}
