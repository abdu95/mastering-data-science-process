{
 "cells": [
  {
   "cell_type": "markdown",
   "metadata": {},
   "source": [
    "# Mastering the Process of Data Science 2020/21"
   ]
  },
  {
   "cell_type": "markdown",
   "metadata": {},
   "source": [
    "#### 2nd Notebook"
   ]
  },
  {
   "cell_type": "markdown",
   "metadata": {},
   "source": [
    "#### Abduvosid Malikov"
   ]
  },
  {
   "cell_type": "code",
   "execution_count": 1,
   "metadata": {},
   "outputs": [],
   "source": [
    "import pandas as pd\n",
    "import numpy as np\n",
    "import matplotlib.pyplot as plt"
   ]
  },
  {
   "cell_type": "markdown",
   "metadata": {},
   "source": [
    "LifeExpectancy.csv: life expectancy and other health factors across various countries"
   ]
  },
  {
   "cell_type": "code",
   "execution_count": 2,
   "metadata": {},
   "outputs": [],
   "source": [
    "life_expectancy = pd.read_csv('data/LifeExpectancy.csv')"
   ]
  },
  {
   "cell_type": "markdown",
   "metadata": {},
   "source": [
    "### Data Preparation"
   ]
  },
  {
   "cell_type": "markdown",
   "metadata": {},
   "source": [
    "#### Life expectancy dataset"
   ]
  },
  {
   "cell_type": "code",
   "execution_count": 3,
   "metadata": {},
   "outputs": [
    {
     "data": {
      "text/html": [
       "<div>\n",
       "<style scoped>\n",
       "    .dataframe tbody tr th:only-of-type {\n",
       "        vertical-align: middle;\n",
       "    }\n",
       "\n",
       "    .dataframe tbody tr th {\n",
       "        vertical-align: top;\n",
       "    }\n",
       "\n",
       "    .dataframe thead th {\n",
       "        text-align: right;\n",
       "    }\n",
       "</style>\n",
       "<table border=\"1\" class=\"dataframe\">\n",
       "  <thead>\n",
       "    <tr style=\"text-align: right;\">\n",
       "      <th></th>\n",
       "      <th>GhoCode</th>\n",
       "      <th>GhoDisplay</th>\n",
       "      <th>PublishStateCode</th>\n",
       "      <th>PublishStateDisplay</th>\n",
       "      <th>YearCode</th>\n",
       "      <th>YearDisplay</th>\n",
       "      <th>RegionCode</th>\n",
       "      <th>RegionDisplay</th>\n",
       "      <th>WorldBankIncomeGroupGroupCode</th>\n",
       "      <th>WorldBankIncomeGroupDisplay</th>\n",
       "      <th>CountryCode</th>\n",
       "      <th>CountryDisplay</th>\n",
       "      <th>SexCode</th>\n",
       "      <th>SexDisplay</th>\n",
       "      <th>DisplayValue</th>\n",
       "      <th>Numeric</th>\n",
       "    </tr>\n",
       "  </thead>\n",
       "  <tbody>\n",
       "    <tr>\n",
       "      <th>0</th>\n",
       "      <td>WHOSIS_000001</td>\n",
       "      <td>Life expectancy at birth (years)</td>\n",
       "      <td>PUBLISHED</td>\n",
       "      <td>Published</td>\n",
       "      <td>2013</td>\n",
       "      <td>2013</td>\n",
       "      <td>EMR</td>\n",
       "      <td>Eastern Mediterranean</td>\n",
       "      <td>NaN</td>\n",
       "      <td>NaN</td>\n",
       "      <td>AFG</td>\n",
       "      <td>Afghanistan</td>\n",
       "      <td>BTSX</td>\n",
       "      <td>Both sexes</td>\n",
       "      <td>61</td>\n",
       "      <td>61.25205</td>\n",
       "    </tr>\n",
       "    <tr>\n",
       "      <th>1</th>\n",
       "      <td>WHOSIS_000001</td>\n",
       "      <td>Life expectancy at birth (years)</td>\n",
       "      <td>PUBLISHED</td>\n",
       "      <td>Published</td>\n",
       "      <td>2013</td>\n",
       "      <td>2013</td>\n",
       "      <td>EMR</td>\n",
       "      <td>Eastern Mediterranean</td>\n",
       "      <td>NaN</td>\n",
       "      <td>NaN</td>\n",
       "      <td>AFG</td>\n",
       "      <td>Afghanistan</td>\n",
       "      <td>FMLE</td>\n",
       "      <td>Female</td>\n",
       "      <td>62</td>\n",
       "      <td>61.97733</td>\n",
       "    </tr>\n",
       "    <tr>\n",
       "      <th>2</th>\n",
       "      <td>WHOSIS_000001</td>\n",
       "      <td>Life expectancy at birth (years)</td>\n",
       "      <td>PUBLISHED</td>\n",
       "      <td>Published</td>\n",
       "      <td>2013</td>\n",
       "      <td>2013</td>\n",
       "      <td>EMR</td>\n",
       "      <td>Eastern Mediterranean</td>\n",
       "      <td>NaN</td>\n",
       "      <td>NaN</td>\n",
       "      <td>AFG</td>\n",
       "      <td>Afghanistan</td>\n",
       "      <td>MLE</td>\n",
       "      <td>Male</td>\n",
       "      <td>61</td>\n",
       "      <td>60.51228</td>\n",
       "    </tr>\n",
       "    <tr>\n",
       "      <th>3</th>\n",
       "      <td>WHOSIS_000001</td>\n",
       "      <td>Life expectancy at birth (years)</td>\n",
       "      <td>PUBLISHED</td>\n",
       "      <td>Published</td>\n",
       "      <td>2012</td>\n",
       "      <td>2012</td>\n",
       "      <td>EMR</td>\n",
       "      <td>Eastern Mediterranean</td>\n",
       "      <td>WB_LI</td>\n",
       "      <td>Low_income</td>\n",
       "      <td>AFG</td>\n",
       "      <td>Afghanistan</td>\n",
       "      <td>BTSX</td>\n",
       "      <td>Both sexes</td>\n",
       "      <td>60</td>\n",
       "      <td>60.00000</td>\n",
       "    </tr>\n",
       "    <tr>\n",
       "      <th>4</th>\n",
       "      <td>WHOSIS_000001</td>\n",
       "      <td>Life expectancy at birth (years)</td>\n",
       "      <td>PUBLISHED</td>\n",
       "      <td>Published</td>\n",
       "      <td>2012</td>\n",
       "      <td>2012</td>\n",
       "      <td>EMR</td>\n",
       "      <td>Eastern Mediterranean</td>\n",
       "      <td>WB_LI</td>\n",
       "      <td>Low_income</td>\n",
       "      <td>AFG</td>\n",
       "      <td>Afghanistan</td>\n",
       "      <td>FMLE</td>\n",
       "      <td>Female</td>\n",
       "      <td>61</td>\n",
       "      <td>61.00000</td>\n",
       "    </tr>\n",
       "    <tr>\n",
       "      <th>5</th>\n",
       "      <td>WHOSIS_000001</td>\n",
       "      <td>Life expectancy at birth (years)</td>\n",
       "      <td>PUBLISHED</td>\n",
       "      <td>Published</td>\n",
       "      <td>2012</td>\n",
       "      <td>2012</td>\n",
       "      <td>EMR</td>\n",
       "      <td>Eastern Mediterranean</td>\n",
       "      <td>WB_LI</td>\n",
       "      <td>Low_income</td>\n",
       "      <td>AFG</td>\n",
       "      <td>Afghanistan</td>\n",
       "      <td>MLE</td>\n",
       "      <td>Male</td>\n",
       "      <td>58</td>\n",
       "      <td>58.00000</td>\n",
       "    </tr>\n",
       "    <tr>\n",
       "      <th>6</th>\n",
       "      <td>WHOSIS_000001</td>\n",
       "      <td>Life expectancy at birth (years)</td>\n",
       "      <td>PUBLISHED</td>\n",
       "      <td>Published</td>\n",
       "      <td>2000</td>\n",
       "      <td>2000</td>\n",
       "      <td>EMR</td>\n",
       "      <td>Eastern Mediterranean</td>\n",
       "      <td>WB_LI</td>\n",
       "      <td>Low_income</td>\n",
       "      <td>AFG</td>\n",
       "      <td>Afghanistan</td>\n",
       "      <td>BTSX</td>\n",
       "      <td>Both sexes</td>\n",
       "      <td>55</td>\n",
       "      <td>55.00000</td>\n",
       "    </tr>\n",
       "    <tr>\n",
       "      <th>7</th>\n",
       "      <td>WHOSIS_000001</td>\n",
       "      <td>Life expectancy at birth (years)</td>\n",
       "      <td>PUBLISHED</td>\n",
       "      <td>Published</td>\n",
       "      <td>2000</td>\n",
       "      <td>2000</td>\n",
       "      <td>EMR</td>\n",
       "      <td>Eastern Mediterranean</td>\n",
       "      <td>WB_LI</td>\n",
       "      <td>Low_income</td>\n",
       "      <td>AFG</td>\n",
       "      <td>Afghanistan</td>\n",
       "      <td>FMLE</td>\n",
       "      <td>Female</td>\n",
       "      <td>56</td>\n",
       "      <td>56.00000</td>\n",
       "    </tr>\n",
       "    <tr>\n",
       "      <th>8</th>\n",
       "      <td>WHOSIS_000001</td>\n",
       "      <td>Life expectancy at birth (years)</td>\n",
       "      <td>PUBLISHED</td>\n",
       "      <td>Published</td>\n",
       "      <td>2000</td>\n",
       "      <td>2000</td>\n",
       "      <td>EMR</td>\n",
       "      <td>Eastern Mediterranean</td>\n",
       "      <td>WB_LI</td>\n",
       "      <td>Low_income</td>\n",
       "      <td>AFG</td>\n",
       "      <td>Afghanistan</td>\n",
       "      <td>MLE</td>\n",
       "      <td>Male</td>\n",
       "      <td>54</td>\n",
       "      <td>54.00000</td>\n",
       "    </tr>\n",
       "    <tr>\n",
       "      <th>9</th>\n",
       "      <td>WHOSIS_000001</td>\n",
       "      <td>Life expectancy at birth (years)</td>\n",
       "      <td>PUBLISHED</td>\n",
       "      <td>Published</td>\n",
       "      <td>1990</td>\n",
       "      <td>1990</td>\n",
       "      <td>EMR</td>\n",
       "      <td>Eastern Mediterranean</td>\n",
       "      <td>WB_LI</td>\n",
       "      <td>Low_income</td>\n",
       "      <td>AFG</td>\n",
       "      <td>Afghanistan</td>\n",
       "      <td>BTSX</td>\n",
       "      <td>Both sexes</td>\n",
       "      <td>49</td>\n",
       "      <td>49.00000</td>\n",
       "    </tr>\n",
       "  </tbody>\n",
       "</table>\n",
       "</div>"
      ],
      "text/plain": [
       "         GhoCode                        GhoDisplay PublishStateCode  \\\n",
       "0  WHOSIS_000001  Life expectancy at birth (years)        PUBLISHED   \n",
       "1  WHOSIS_000001  Life expectancy at birth (years)        PUBLISHED   \n",
       "2  WHOSIS_000001  Life expectancy at birth (years)        PUBLISHED   \n",
       "3  WHOSIS_000001  Life expectancy at birth (years)        PUBLISHED   \n",
       "4  WHOSIS_000001  Life expectancy at birth (years)        PUBLISHED   \n",
       "5  WHOSIS_000001  Life expectancy at birth (years)        PUBLISHED   \n",
       "6  WHOSIS_000001  Life expectancy at birth (years)        PUBLISHED   \n",
       "7  WHOSIS_000001  Life expectancy at birth (years)        PUBLISHED   \n",
       "8  WHOSIS_000001  Life expectancy at birth (years)        PUBLISHED   \n",
       "9  WHOSIS_000001  Life expectancy at birth (years)        PUBLISHED   \n",
       "\n",
       "  PublishStateDisplay  YearCode  YearDisplay RegionCode  \\\n",
       "0           Published      2013         2013        EMR   \n",
       "1           Published      2013         2013        EMR   \n",
       "2           Published      2013         2013        EMR   \n",
       "3           Published      2012         2012        EMR   \n",
       "4           Published      2012         2012        EMR   \n",
       "5           Published      2012         2012        EMR   \n",
       "6           Published      2000         2000        EMR   \n",
       "7           Published      2000         2000        EMR   \n",
       "8           Published      2000         2000        EMR   \n",
       "9           Published      1990         1990        EMR   \n",
       "\n",
       "           RegionDisplay WorldBankIncomeGroupGroupCode  \\\n",
       "0  Eastern Mediterranean                           NaN   \n",
       "1  Eastern Mediterranean                           NaN   \n",
       "2  Eastern Mediterranean                           NaN   \n",
       "3  Eastern Mediterranean                         WB_LI   \n",
       "4  Eastern Mediterranean                         WB_LI   \n",
       "5  Eastern Mediterranean                         WB_LI   \n",
       "6  Eastern Mediterranean                         WB_LI   \n",
       "7  Eastern Mediterranean                         WB_LI   \n",
       "8  Eastern Mediterranean                         WB_LI   \n",
       "9  Eastern Mediterranean                         WB_LI   \n",
       "\n",
       "  WorldBankIncomeGroupDisplay CountryCode CountryDisplay SexCode  SexDisplay  \\\n",
       "0                         NaN         AFG    Afghanistan    BTSX  Both sexes   \n",
       "1                         NaN         AFG    Afghanistan    FMLE      Female   \n",
       "2                         NaN         AFG    Afghanistan     MLE        Male   \n",
       "3                  Low_income         AFG    Afghanistan    BTSX  Both sexes   \n",
       "4                  Low_income         AFG    Afghanistan    FMLE      Female   \n",
       "5                  Low_income         AFG    Afghanistan     MLE        Male   \n",
       "6                  Low_income         AFG    Afghanistan    BTSX  Both sexes   \n",
       "7                  Low_income         AFG    Afghanistan    FMLE      Female   \n",
       "8                  Low_income         AFG    Afghanistan     MLE        Male   \n",
       "9                  Low_income         AFG    Afghanistan    BTSX  Both sexes   \n",
       "\n",
       "   DisplayValue   Numeric  \n",
       "0            61  61.25205  \n",
       "1            62  61.97733  \n",
       "2            61  60.51228  \n",
       "3            60  60.00000  \n",
       "4            61  61.00000  \n",
       "5            58  58.00000  \n",
       "6            55  55.00000  \n",
       "7            56  56.00000  \n",
       "8            54  54.00000  \n",
       "9            49  49.00000  "
      ]
     },
     "execution_count": 3,
     "metadata": {},
     "output_type": "execute_result"
    }
   ],
   "source": [
    "life_expectancy.head(10)"
   ]
  },
  {
   "cell_type": "markdown",
   "metadata": {},
   "source": [
    "Dataset has 6408 rows and 16 columns"
   ]
  },
  {
   "cell_type": "markdown",
   "metadata": {},
   "source": [
    "###### Understand the data"
   ]
  },
  {
   "cell_type": "markdown",
   "metadata": {},
   "source": [
    "How many rows for each country?"
   ]
  },
  {
   "cell_type": "code",
   "execution_count": 4,
   "metadata": {},
   "outputs": [
    {
     "data": {
      "text/plain": [
       "33"
      ]
     },
     "execution_count": 4,
     "metadata": {},
     "output_type": "execute_result"
    }
   ],
   "source": [
    "len(life_expectancy[life_expectancy['CountryDisplay'] == 'Afghanistan'])"
   ]
  },
  {
   "cell_type": "markdown",
   "metadata": {},
   "source": [
    "One country mentioned 33 times"
   ]
  },
  {
   "cell_type": "code",
   "execution_count": 34,
   "metadata": {},
   "outputs": [
    {
     "data": {
      "text/plain": [
       "33"
      ]
     },
     "execution_count": 34,
     "metadata": {},
     "output_type": "execute_result"
    }
   ],
   "source": [
    "len(life_expectancy[life_expectancy['CountryDisplay'] == 'Afghanistan'])"
   ]
  },
  {
   "cell_type": "code",
   "execution_count": 6,
   "metadata": {},
   "outputs": [
    {
     "data": {
      "text/plain": [
       "194"
      ]
     },
     "execution_count": 6,
     "metadata": {},
     "output_type": "execute_result"
    }
   ],
   "source": [
    "len(life_expectancy.CountryDisplay.unique())"
   ]
  },
  {
   "cell_type": "markdown",
   "metadata": {},
   "source": [
    "Overall, there are 194 countries"
   ]
  },
  {
   "cell_type": "markdown",
   "metadata": {},
   "source": [
    "194 * 33 = 6402. But we have 6408 rows. "
   ]
  },
  {
   "cell_type": "code",
   "execution_count": 7,
   "metadata": {},
   "outputs": [],
   "source": [
    "# life_expectancy.groupby('CountryDisplay').count()\n",
    "# items = life_expectancy.groupby('CountryDisplay').size()"
   ]
  },
  {
   "cell_type": "code",
   "execution_count": 8,
   "metadata": {},
   "outputs": [
    {
     "data": {
      "text/plain": [
       "array(['WHOSIS_000001', 'WHOSIS_000002', 'WHOSIS_000015'], dtype=object)"
      ]
     },
     "execution_count": 8,
     "metadata": {},
     "output_type": "execute_result"
    }
   ],
   "source": [
    "life_expectancy['GhoCode'].unique()"
   ]
  },
  {
   "cell_type": "markdown",
   "metadata": {},
   "source": [
    "GHOcode column shows 3 different types of code assigned by World Health Organization"
   ]
  },
  {
   "cell_type": "code",
   "execution_count": 9,
   "metadata": {},
   "outputs": [
    {
     "data": {
      "text/plain": [
       "array(['Life expectancy at birth (years)',\n",
       "       'Healthy life expectancy (HALE) at birth (years)',\n",
       "       'Life expectancy at age 60 (years)'], dtype=object)"
      ]
     },
     "execution_count": 9,
     "metadata": {},
     "output_type": "execute_result"
    }
   ],
   "source": [
    "life_expectancy['GhoDisplay'].unique()"
   ]
  },
  {
   "cell_type": "markdown",
   "metadata": {},
   "source": [
    "GhoDisplay shows 3 different metrics of Global Health Observatory"
   ]
  },
  {
   "cell_type": "markdown",
   "metadata": {},
   "source": [
    "12 rows for Life expectancy at birth (years) metrics.\n",
    "\n",
    "9 rows for Healthy life expectancy (HALE) at birth (years) metrics.\n",
    "\n",
    "12 rows for Life expectancy at age 60 (years) metrics. 12+9+12 = 33 rows"
   ]
  },
  {
   "cell_type": "markdown",
   "metadata": {},
   "source": [
    "For my analysis, I decided to take rows only for Life expectancy at birth (years) metrics and filtered."
   ]
  },
  {
   "cell_type": "code",
   "execution_count": 10,
   "metadata": {},
   "outputs": [],
   "source": [
    "life_expectancy_cut = life_expectancy[life_expectancy['GhoDisplay'] == 'Life expectancy at birth (years)']"
   ]
  },
  {
   "cell_type": "code",
   "execution_count": 11,
   "metadata": {},
   "outputs": [
    {
     "data": {
      "text/html": [
       "<div>\n",
       "<style scoped>\n",
       "    .dataframe tbody tr th:only-of-type {\n",
       "        vertical-align: middle;\n",
       "    }\n",
       "\n",
       "    .dataframe tbody tr th {\n",
       "        vertical-align: top;\n",
       "    }\n",
       "\n",
       "    .dataframe thead th {\n",
       "        text-align: right;\n",
       "    }\n",
       "</style>\n",
       "<table border=\"1\" class=\"dataframe\">\n",
       "  <thead>\n",
       "    <tr style=\"text-align: right;\">\n",
       "      <th></th>\n",
       "      <th>GhoCode</th>\n",
       "      <th>GhoDisplay</th>\n",
       "      <th>PublishStateCode</th>\n",
       "      <th>PublishStateDisplay</th>\n",
       "      <th>YearCode</th>\n",
       "      <th>YearDisplay</th>\n",
       "      <th>RegionCode</th>\n",
       "      <th>RegionDisplay</th>\n",
       "      <th>WorldBankIncomeGroupGroupCode</th>\n",
       "      <th>WorldBankIncomeGroupDisplay</th>\n",
       "      <th>CountryCode</th>\n",
       "      <th>CountryDisplay</th>\n",
       "      <th>SexCode</th>\n",
       "      <th>SexDisplay</th>\n",
       "      <th>DisplayValue</th>\n",
       "      <th>Numeric</th>\n",
       "    </tr>\n",
       "  </thead>\n",
       "  <tbody>\n",
       "    <tr>\n",
       "      <th>0</th>\n",
       "      <td>WHOSIS_000001</td>\n",
       "      <td>Life expectancy at birth (years)</td>\n",
       "      <td>PUBLISHED</td>\n",
       "      <td>Published</td>\n",
       "      <td>2013</td>\n",
       "      <td>2013</td>\n",
       "      <td>EMR</td>\n",
       "      <td>Eastern Mediterranean</td>\n",
       "      <td>NaN</td>\n",
       "      <td>NaN</td>\n",
       "      <td>AFG</td>\n",
       "      <td>Afghanistan</td>\n",
       "      <td>BTSX</td>\n",
       "      <td>Both sexes</td>\n",
       "      <td>61</td>\n",
       "      <td>61.25205</td>\n",
       "    </tr>\n",
       "    <tr>\n",
       "      <th>1</th>\n",
       "      <td>WHOSIS_000001</td>\n",
       "      <td>Life expectancy at birth (years)</td>\n",
       "      <td>PUBLISHED</td>\n",
       "      <td>Published</td>\n",
       "      <td>2013</td>\n",
       "      <td>2013</td>\n",
       "      <td>EMR</td>\n",
       "      <td>Eastern Mediterranean</td>\n",
       "      <td>NaN</td>\n",
       "      <td>NaN</td>\n",
       "      <td>AFG</td>\n",
       "      <td>Afghanistan</td>\n",
       "      <td>FMLE</td>\n",
       "      <td>Female</td>\n",
       "      <td>62</td>\n",
       "      <td>61.97733</td>\n",
       "    </tr>\n",
       "    <tr>\n",
       "      <th>2</th>\n",
       "      <td>WHOSIS_000001</td>\n",
       "      <td>Life expectancy at birth (years)</td>\n",
       "      <td>PUBLISHED</td>\n",
       "      <td>Published</td>\n",
       "      <td>2013</td>\n",
       "      <td>2013</td>\n",
       "      <td>EMR</td>\n",
       "      <td>Eastern Mediterranean</td>\n",
       "      <td>NaN</td>\n",
       "      <td>NaN</td>\n",
       "      <td>AFG</td>\n",
       "      <td>Afghanistan</td>\n",
       "      <td>MLE</td>\n",
       "      <td>Male</td>\n",
       "      <td>61</td>\n",
       "      <td>60.51228</td>\n",
       "    </tr>\n",
       "    <tr>\n",
       "      <th>3</th>\n",
       "      <td>WHOSIS_000001</td>\n",
       "      <td>Life expectancy at birth (years)</td>\n",
       "      <td>PUBLISHED</td>\n",
       "      <td>Published</td>\n",
       "      <td>2012</td>\n",
       "      <td>2012</td>\n",
       "      <td>EMR</td>\n",
       "      <td>Eastern Mediterranean</td>\n",
       "      <td>WB_LI</td>\n",
       "      <td>Low_income</td>\n",
       "      <td>AFG</td>\n",
       "      <td>Afghanistan</td>\n",
       "      <td>BTSX</td>\n",
       "      <td>Both sexes</td>\n",
       "      <td>60</td>\n",
       "      <td>60.00000</td>\n",
       "    </tr>\n",
       "    <tr>\n",
       "      <th>4</th>\n",
       "      <td>WHOSIS_000001</td>\n",
       "      <td>Life expectancy at birth (years)</td>\n",
       "      <td>PUBLISHED</td>\n",
       "      <td>Published</td>\n",
       "      <td>2012</td>\n",
       "      <td>2012</td>\n",
       "      <td>EMR</td>\n",
       "      <td>Eastern Mediterranean</td>\n",
       "      <td>WB_LI</td>\n",
       "      <td>Low_income</td>\n",
       "      <td>AFG</td>\n",
       "      <td>Afghanistan</td>\n",
       "      <td>FMLE</td>\n",
       "      <td>Female</td>\n",
       "      <td>61</td>\n",
       "      <td>61.00000</td>\n",
       "    </tr>\n",
       "    <tr>\n",
       "      <th>5</th>\n",
       "      <td>WHOSIS_000001</td>\n",
       "      <td>Life expectancy at birth (years)</td>\n",
       "      <td>PUBLISHED</td>\n",
       "      <td>Published</td>\n",
       "      <td>2012</td>\n",
       "      <td>2012</td>\n",
       "      <td>EMR</td>\n",
       "      <td>Eastern Mediterranean</td>\n",
       "      <td>WB_LI</td>\n",
       "      <td>Low_income</td>\n",
       "      <td>AFG</td>\n",
       "      <td>Afghanistan</td>\n",
       "      <td>MLE</td>\n",
       "      <td>Male</td>\n",
       "      <td>58</td>\n",
       "      <td>58.00000</td>\n",
       "    </tr>\n",
       "    <tr>\n",
       "      <th>6</th>\n",
       "      <td>WHOSIS_000001</td>\n",
       "      <td>Life expectancy at birth (years)</td>\n",
       "      <td>PUBLISHED</td>\n",
       "      <td>Published</td>\n",
       "      <td>2000</td>\n",
       "      <td>2000</td>\n",
       "      <td>EMR</td>\n",
       "      <td>Eastern Mediterranean</td>\n",
       "      <td>WB_LI</td>\n",
       "      <td>Low_income</td>\n",
       "      <td>AFG</td>\n",
       "      <td>Afghanistan</td>\n",
       "      <td>BTSX</td>\n",
       "      <td>Both sexes</td>\n",
       "      <td>55</td>\n",
       "      <td>55.00000</td>\n",
       "    </tr>\n",
       "    <tr>\n",
       "      <th>7</th>\n",
       "      <td>WHOSIS_000001</td>\n",
       "      <td>Life expectancy at birth (years)</td>\n",
       "      <td>PUBLISHED</td>\n",
       "      <td>Published</td>\n",
       "      <td>2000</td>\n",
       "      <td>2000</td>\n",
       "      <td>EMR</td>\n",
       "      <td>Eastern Mediterranean</td>\n",
       "      <td>WB_LI</td>\n",
       "      <td>Low_income</td>\n",
       "      <td>AFG</td>\n",
       "      <td>Afghanistan</td>\n",
       "      <td>FMLE</td>\n",
       "      <td>Female</td>\n",
       "      <td>56</td>\n",
       "      <td>56.00000</td>\n",
       "    </tr>\n",
       "    <tr>\n",
       "      <th>8</th>\n",
       "      <td>WHOSIS_000001</td>\n",
       "      <td>Life expectancy at birth (years)</td>\n",
       "      <td>PUBLISHED</td>\n",
       "      <td>Published</td>\n",
       "      <td>2000</td>\n",
       "      <td>2000</td>\n",
       "      <td>EMR</td>\n",
       "      <td>Eastern Mediterranean</td>\n",
       "      <td>WB_LI</td>\n",
       "      <td>Low_income</td>\n",
       "      <td>AFG</td>\n",
       "      <td>Afghanistan</td>\n",
       "      <td>MLE</td>\n",
       "      <td>Male</td>\n",
       "      <td>54</td>\n",
       "      <td>54.00000</td>\n",
       "    </tr>\n",
       "    <tr>\n",
       "      <th>9</th>\n",
       "      <td>WHOSIS_000001</td>\n",
       "      <td>Life expectancy at birth (years)</td>\n",
       "      <td>PUBLISHED</td>\n",
       "      <td>Published</td>\n",
       "      <td>1990</td>\n",
       "      <td>1990</td>\n",
       "      <td>EMR</td>\n",
       "      <td>Eastern Mediterranean</td>\n",
       "      <td>WB_LI</td>\n",
       "      <td>Low_income</td>\n",
       "      <td>AFG</td>\n",
       "      <td>Afghanistan</td>\n",
       "      <td>BTSX</td>\n",
       "      <td>Both sexes</td>\n",
       "      <td>49</td>\n",
       "      <td>49.00000</td>\n",
       "    </tr>\n",
       "  </tbody>\n",
       "</table>\n",
       "</div>"
      ],
      "text/plain": [
       "         GhoCode                        GhoDisplay PublishStateCode  \\\n",
       "0  WHOSIS_000001  Life expectancy at birth (years)        PUBLISHED   \n",
       "1  WHOSIS_000001  Life expectancy at birth (years)        PUBLISHED   \n",
       "2  WHOSIS_000001  Life expectancy at birth (years)        PUBLISHED   \n",
       "3  WHOSIS_000001  Life expectancy at birth (years)        PUBLISHED   \n",
       "4  WHOSIS_000001  Life expectancy at birth (years)        PUBLISHED   \n",
       "5  WHOSIS_000001  Life expectancy at birth (years)        PUBLISHED   \n",
       "6  WHOSIS_000001  Life expectancy at birth (years)        PUBLISHED   \n",
       "7  WHOSIS_000001  Life expectancy at birth (years)        PUBLISHED   \n",
       "8  WHOSIS_000001  Life expectancy at birth (years)        PUBLISHED   \n",
       "9  WHOSIS_000001  Life expectancy at birth (years)        PUBLISHED   \n",
       "\n",
       "  PublishStateDisplay  YearCode  YearDisplay RegionCode  \\\n",
       "0           Published      2013         2013        EMR   \n",
       "1           Published      2013         2013        EMR   \n",
       "2           Published      2013         2013        EMR   \n",
       "3           Published      2012         2012        EMR   \n",
       "4           Published      2012         2012        EMR   \n",
       "5           Published      2012         2012        EMR   \n",
       "6           Published      2000         2000        EMR   \n",
       "7           Published      2000         2000        EMR   \n",
       "8           Published      2000         2000        EMR   \n",
       "9           Published      1990         1990        EMR   \n",
       "\n",
       "           RegionDisplay WorldBankIncomeGroupGroupCode  \\\n",
       "0  Eastern Mediterranean                           NaN   \n",
       "1  Eastern Mediterranean                           NaN   \n",
       "2  Eastern Mediterranean                           NaN   \n",
       "3  Eastern Mediterranean                         WB_LI   \n",
       "4  Eastern Mediterranean                         WB_LI   \n",
       "5  Eastern Mediterranean                         WB_LI   \n",
       "6  Eastern Mediterranean                         WB_LI   \n",
       "7  Eastern Mediterranean                         WB_LI   \n",
       "8  Eastern Mediterranean                         WB_LI   \n",
       "9  Eastern Mediterranean                         WB_LI   \n",
       "\n",
       "  WorldBankIncomeGroupDisplay CountryCode CountryDisplay SexCode  SexDisplay  \\\n",
       "0                         NaN         AFG    Afghanistan    BTSX  Both sexes   \n",
       "1                         NaN         AFG    Afghanistan    FMLE      Female   \n",
       "2                         NaN         AFG    Afghanistan     MLE        Male   \n",
       "3                  Low_income         AFG    Afghanistan    BTSX  Both sexes   \n",
       "4                  Low_income         AFG    Afghanistan    FMLE      Female   \n",
       "5                  Low_income         AFG    Afghanistan     MLE        Male   \n",
       "6                  Low_income         AFG    Afghanistan    BTSX  Both sexes   \n",
       "7                  Low_income         AFG    Afghanistan    FMLE      Female   \n",
       "8                  Low_income         AFG    Afghanistan     MLE        Male   \n",
       "9                  Low_income         AFG    Afghanistan    BTSX  Both sexes   \n",
       "\n",
       "   DisplayValue   Numeric  \n",
       "0            61  61.25205  \n",
       "1            62  61.97733  \n",
       "2            61  60.51228  \n",
       "3            60  60.00000  \n",
       "4            61  61.00000  \n",
       "5            58  58.00000  \n",
       "6            55  55.00000  \n",
       "7            56  56.00000  \n",
       "8            54  54.00000  \n",
       "9            49  49.00000  "
      ]
     },
     "execution_count": 11,
     "metadata": {},
     "output_type": "execute_result"
    }
   ],
   "source": [
    "life_expectancy_cut.head(10)"
   ]
  },
  {
   "cell_type": "markdown",
   "metadata": {},
   "source": [
    "Now we have 2328 rows and 16 columns in our dataset. "
   ]
  },
  {
   "cell_type": "code",
   "execution_count": 12,
   "metadata": {},
   "outputs": [
    {
     "name": "stdout",
     "output_type": "stream",
     "text": [
      "<class 'pandas.core.frame.DataFrame'>\n",
      "Int64Index: 2328 entries, 0 to 6386\n",
      "Data columns (total 16 columns):\n",
      " #   Column                         Non-Null Count  Dtype  \n",
      "---  ------                         --------------  -----  \n",
      " 0   GhoCode                        2328 non-null   object \n",
      " 1   GhoDisplay                     2328 non-null   object \n",
      " 2   PublishStateCode               2328 non-null   object \n",
      " 3   PublishStateDisplay            2328 non-null   object \n",
      " 4   YearCode                       2328 non-null   int64  \n",
      " 5   YearDisplay                    2328 non-null   int64  \n",
      " 6   RegionCode                     2328 non-null   object \n",
      " 7   RegionDisplay                  2328 non-null   object \n",
      " 8   WorldBankIncomeGroupGroupCode  1746 non-null   object \n",
      " 9   WorldBankIncomeGroupDisplay    1746 non-null   object \n",
      " 10  CountryCode                    2328 non-null   object \n",
      " 11  CountryDisplay                 2328 non-null   object \n",
      " 12  SexCode                        2328 non-null   object \n",
      " 13  SexDisplay                     2328 non-null   object \n",
      " 14  DisplayValue                   2328 non-null   int64  \n",
      " 15  Numeric                        2328 non-null   float64\n",
      "dtypes: float64(1), int64(3), object(12)\n",
      "memory usage: 309.2+ KB\n"
     ]
    }
   ],
   "source": [
    "life_expectancy_cut.info()"
   ]
  },
  {
   "cell_type": "markdown",
   "metadata": {},
   "source": [
    "Only 4 numeric columns, others contain words, therefore object (string) datatype.\n",
    "\n",
    "Also, only *WorldBankIncomeGroupGroupCode* and *WorldBankIncomeGroupDisplay* columns have 1746 rows with non-null values, other columns have no missing values. It indicates these 2 columns contain missing values"
   ]
  },
  {
   "cell_type": "markdown",
   "metadata": {},
   "source": [
    "YearCode and YearDisplay columns show the year "
   ]
  },
  {
   "cell_type": "code",
   "execution_count": 13,
   "metadata": {},
   "outputs": [
    {
     "data": {
      "text/plain": [
       "array([2013, 2012, 2000, 1990], dtype=int64)"
      ]
     },
     "execution_count": 13,
     "metadata": {},
     "output_type": "execute_result"
    }
   ],
   "source": [
    "life_expectancy_cut['YearCode'].unique()"
   ]
  },
  {
   "cell_type": "markdown",
   "metadata": {},
   "source": [
    "In our dataset, we have data for 4 different years: 1990, 2000, 2012, 2013. Each year is repeated 3 times because we have data for male, for female and for both genders, indicated in SexDisplay column. "
   ]
  },
  {
   "cell_type": "markdown",
   "metadata": {},
   "source": [
    "In my analysis, I will concentrate on the country as a general. Therefore I take data for both genders together. So I don't need data for male and female separately, I will use rows for Both sexes"
   ]
  },
  {
   "cell_type": "code",
   "execution_count": 14,
   "metadata": {},
   "outputs": [],
   "source": [
    "life_expectancy_cut = life_expectancy_cut[life_expectancy_cut['SexDisplay'] == 'Both sexes']"
   ]
  },
  {
   "cell_type": "code",
   "execution_count": 15,
   "metadata": {},
   "outputs": [
    {
     "data": {
      "text/html": [
       "<div>\n",
       "<style scoped>\n",
       "    .dataframe tbody tr th:only-of-type {\n",
       "        vertical-align: middle;\n",
       "    }\n",
       "\n",
       "    .dataframe tbody tr th {\n",
       "        vertical-align: top;\n",
       "    }\n",
       "\n",
       "    .dataframe thead th {\n",
       "        text-align: right;\n",
       "    }\n",
       "</style>\n",
       "<table border=\"1\" class=\"dataframe\">\n",
       "  <thead>\n",
       "    <tr style=\"text-align: right;\">\n",
       "      <th></th>\n",
       "      <th>GhoCode</th>\n",
       "      <th>GhoDisplay</th>\n",
       "      <th>PublishStateCode</th>\n",
       "      <th>PublishStateDisplay</th>\n",
       "      <th>YearCode</th>\n",
       "      <th>YearDisplay</th>\n",
       "      <th>RegionCode</th>\n",
       "      <th>RegionDisplay</th>\n",
       "      <th>WorldBankIncomeGroupGroupCode</th>\n",
       "      <th>WorldBankIncomeGroupDisplay</th>\n",
       "      <th>CountryCode</th>\n",
       "      <th>CountryDisplay</th>\n",
       "      <th>SexCode</th>\n",
       "      <th>SexDisplay</th>\n",
       "      <th>DisplayValue</th>\n",
       "      <th>Numeric</th>\n",
       "    </tr>\n",
       "  </thead>\n",
       "  <tbody>\n",
       "    <tr>\n",
       "      <th>0</th>\n",
       "      <td>WHOSIS_000001</td>\n",
       "      <td>Life expectancy at birth (years)</td>\n",
       "      <td>PUBLISHED</td>\n",
       "      <td>Published</td>\n",
       "      <td>2013</td>\n",
       "      <td>2013</td>\n",
       "      <td>EMR</td>\n",
       "      <td>Eastern Mediterranean</td>\n",
       "      <td>NaN</td>\n",
       "      <td>NaN</td>\n",
       "      <td>AFG</td>\n",
       "      <td>Afghanistan</td>\n",
       "      <td>BTSX</td>\n",
       "      <td>Both sexes</td>\n",
       "      <td>61</td>\n",
       "      <td>61.25205</td>\n",
       "    </tr>\n",
       "    <tr>\n",
       "      <th>3</th>\n",
       "      <td>WHOSIS_000001</td>\n",
       "      <td>Life expectancy at birth (years)</td>\n",
       "      <td>PUBLISHED</td>\n",
       "      <td>Published</td>\n",
       "      <td>2012</td>\n",
       "      <td>2012</td>\n",
       "      <td>EMR</td>\n",
       "      <td>Eastern Mediterranean</td>\n",
       "      <td>WB_LI</td>\n",
       "      <td>Low_income</td>\n",
       "      <td>AFG</td>\n",
       "      <td>Afghanistan</td>\n",
       "      <td>BTSX</td>\n",
       "      <td>Both sexes</td>\n",
       "      <td>60</td>\n",
       "      <td>60.00000</td>\n",
       "    </tr>\n",
       "    <tr>\n",
       "      <th>6</th>\n",
       "      <td>WHOSIS_000001</td>\n",
       "      <td>Life expectancy at birth (years)</td>\n",
       "      <td>PUBLISHED</td>\n",
       "      <td>Published</td>\n",
       "      <td>2000</td>\n",
       "      <td>2000</td>\n",
       "      <td>EMR</td>\n",
       "      <td>Eastern Mediterranean</td>\n",
       "      <td>WB_LI</td>\n",
       "      <td>Low_income</td>\n",
       "      <td>AFG</td>\n",
       "      <td>Afghanistan</td>\n",
       "      <td>BTSX</td>\n",
       "      <td>Both sexes</td>\n",
       "      <td>55</td>\n",
       "      <td>55.00000</td>\n",
       "    </tr>\n",
       "    <tr>\n",
       "      <th>9</th>\n",
       "      <td>WHOSIS_000001</td>\n",
       "      <td>Life expectancy at birth (years)</td>\n",
       "      <td>PUBLISHED</td>\n",
       "      <td>Published</td>\n",
       "      <td>1990</td>\n",
       "      <td>1990</td>\n",
       "      <td>EMR</td>\n",
       "      <td>Eastern Mediterranean</td>\n",
       "      <td>WB_LI</td>\n",
       "      <td>Low_income</td>\n",
       "      <td>AFG</td>\n",
       "      <td>Afghanistan</td>\n",
       "      <td>BTSX</td>\n",
       "      <td>Both sexes</td>\n",
       "      <td>49</td>\n",
       "      <td>49.00000</td>\n",
       "    </tr>\n",
       "    <tr>\n",
       "      <th>33</th>\n",
       "      <td>WHOSIS_000001</td>\n",
       "      <td>Life expectancy at birth (years)</td>\n",
       "      <td>PUBLISHED</td>\n",
       "      <td>Published</td>\n",
       "      <td>2013</td>\n",
       "      <td>2013</td>\n",
       "      <td>EUR</td>\n",
       "      <td>Europe</td>\n",
       "      <td>NaN</td>\n",
       "      <td>NaN</td>\n",
       "      <td>ALB</td>\n",
       "      <td>Albania</td>\n",
       "      <td>BTSX</td>\n",
       "      <td>Both sexes</td>\n",
       "      <td>74</td>\n",
       "      <td>74.13000</td>\n",
       "    </tr>\n",
       "  </tbody>\n",
       "</table>\n",
       "</div>"
      ],
      "text/plain": [
       "          GhoCode                        GhoDisplay PublishStateCode  \\\n",
       "0   WHOSIS_000001  Life expectancy at birth (years)        PUBLISHED   \n",
       "3   WHOSIS_000001  Life expectancy at birth (years)        PUBLISHED   \n",
       "6   WHOSIS_000001  Life expectancy at birth (years)        PUBLISHED   \n",
       "9   WHOSIS_000001  Life expectancy at birth (years)        PUBLISHED   \n",
       "33  WHOSIS_000001  Life expectancy at birth (years)        PUBLISHED   \n",
       "\n",
       "   PublishStateDisplay  YearCode  YearDisplay RegionCode  \\\n",
       "0            Published      2013         2013        EMR   \n",
       "3            Published      2012         2012        EMR   \n",
       "6            Published      2000         2000        EMR   \n",
       "9            Published      1990         1990        EMR   \n",
       "33           Published      2013         2013        EUR   \n",
       "\n",
       "            RegionDisplay WorldBankIncomeGroupGroupCode  \\\n",
       "0   Eastern Mediterranean                           NaN   \n",
       "3   Eastern Mediterranean                         WB_LI   \n",
       "6   Eastern Mediterranean                         WB_LI   \n",
       "9   Eastern Mediterranean                         WB_LI   \n",
       "33                 Europe                           NaN   \n",
       "\n",
       "   WorldBankIncomeGroupDisplay CountryCode CountryDisplay SexCode  SexDisplay  \\\n",
       "0                          NaN         AFG    Afghanistan    BTSX  Both sexes   \n",
       "3                   Low_income         AFG    Afghanistan    BTSX  Both sexes   \n",
       "6                   Low_income         AFG    Afghanistan    BTSX  Both sexes   \n",
       "9                   Low_income         AFG    Afghanistan    BTSX  Both sexes   \n",
       "33                         NaN         ALB        Albania    BTSX  Both sexes   \n",
       "\n",
       "    DisplayValue   Numeric  \n",
       "0             61  61.25205  \n",
       "3             60  60.00000  \n",
       "6             55  55.00000  \n",
       "9             49  49.00000  \n",
       "33            74  74.13000  "
      ]
     },
     "execution_count": 15,
     "metadata": {},
     "output_type": "execute_result"
    }
   ],
   "source": [
    "life_expectancy_cut.head()"
   ]
  },
  {
   "cell_type": "markdown",
   "metadata": {},
   "source": [
    "Now we have 776 rows and 16 columns"
   ]
  },
  {
   "cell_type": "markdown",
   "metadata": {},
   "source": [
    "RegionCode and RegionDisplay columns show the region in which the country is located. "
   ]
  },
  {
   "cell_type": "code",
   "execution_count": 16,
   "metadata": {},
   "outputs": [
    {
     "data": {
      "text/plain": [
       "array(['Eastern Mediterranean', 'Europe', 'Africa', 'Americas',\n",
       "       'Western Pacific', 'South_East Asia'], dtype=object)"
      ]
     },
     "execution_count": 16,
     "metadata": {},
     "output_type": "execute_result"
    }
   ],
   "source": [
    "life_expectancy_cut.RegionDisplay.unique()"
   ]
  },
  {
   "cell_type": "markdown",
   "metadata": {},
   "source": [
    "There are 6 different regions: Eastern Mediterranean, Europe, Africa, Americas, Western Pacific, South_East Asia"
   ]
  },
  {
   "cell_type": "markdown",
   "metadata": {},
   "source": [
    "WorldBankIncomeGroupGroupCode and WorldBankIncomeGroupDisplay columns show the income group of the country"
   ]
  },
  {
   "cell_type": "markdown",
   "metadata": {},
   "source": [
    "Countries are divided to 4 groups based on the income: 'Low_income', 'Lower_middle_income', 'Upper_middle_income',\n",
    "       'High_income'"
   ]
  },
  {
   "cell_type": "code",
   "execution_count": 17,
   "metadata": {},
   "outputs": [
    {
     "data": {
      "text/plain": [
       "array([nan, 'Low_income', 'Lower_middle_income', 'Upper_middle_income',\n",
       "       'High_income'], dtype=object)"
      ]
     },
     "execution_count": 17,
     "metadata": {},
     "output_type": "execute_result"
    }
   ],
   "source": [
    "life_expectancy_cut.WorldBankIncomeGroupDisplay.unique()"
   ]
  },
  {
   "cell_type": "code",
   "execution_count": 18,
   "metadata": {},
   "outputs": [
    {
     "data": {
      "text/plain": [
       "array([[<matplotlib.axes._subplots.AxesSubplot object at 0x000001B6AFF90250>,\n",
       "        <matplotlib.axes._subplots.AxesSubplot object at 0x000001B6B066E730>],\n",
       "       [<matplotlib.axes._subplots.AxesSubplot object at 0x000001B6B069FB80>,\n",
       "        <matplotlib.axes._subplots.AxesSubplot object at 0x000001B6B06CC0A0>]],\n",
       "      dtype=object)"
      ]
     },
     "execution_count": 18,
     "metadata": {},
     "output_type": "execute_result"
    },
    {
     "data": {
      "image/png": "[encoded data removed]",
      "text/plain": [
       "<Figure size 432x288 with 4 Axes>"
      ]
     },
     "metadata": {
      "needs_background": "light"
     },
     "output_type": "display_data"
    }
   ],
   "source": [
    "life_expectancy_cut.DisplayValue.hist(by=life_expectancy.WorldBankIncomeGroupDisplay, alpha=0.6)"
   ]
  },
  {
   "cell_type": "markdown",
   "metadata": {},
   "source": [
    "This is very interesting plot. In 3 groups - in countries whose income is Upper_middle_income, Lower_middle_income and High_income - we can see skewed left plot. It means countries that fall into these groups have relatively high life expectancy. Countries that fall into Low_income category has no such distibution. Instead they have almost normal distribution: with very few countries who have very low life expectancy of less than 40 years and also very few countries who have very high life expectancy of more than 70 years. In most of such countries life expectancy is average - between 50 and 60 years. "
   ]
  },
  {
   "cell_type": "markdown",
   "metadata": {},
   "source": [
    "##### Missing values"
   ]
  },
  {
   "cell_type": "code",
   "execution_count": 19,
   "metadata": {
    "scrolled": true
   },
   "outputs": [
    {
     "data": {
      "text/plain": [
       "GhoCode                            0\n",
       "GhoDisplay                         0\n",
       "PublishStateCode                   0\n",
       "PublishStateDisplay                0\n",
       "YearCode                           0\n",
       "YearDisplay                        0\n",
       "RegionCode                         0\n",
       "RegionDisplay                      0\n",
       "WorldBankIncomeGroupGroupCode    194\n",
       "WorldBankIncomeGroupDisplay      194\n",
       "CountryCode                        0\n",
       "CountryDisplay                     0\n",
       "SexCode                            0\n",
       "SexDisplay                         0\n",
       "DisplayValue                       0\n",
       "Numeric                            0\n",
       "dtype: int64"
      ]
     },
     "execution_count": 19,
     "metadata": {},
     "output_type": "execute_result"
    }
   ],
   "source": [
    "life_expectancy_cut.isna().sum()"
   ]
  },
  {
   "cell_type": "markdown",
   "metadata": {},
   "source": [
    "As mentioned above, only *WorldBankIncomeGroupGroupCode* and *WorldBankIncomeGroupDisplay* columns have missing values."
   ]
  },
  {
   "cell_type": "code",
   "execution_count": 20,
   "metadata": {},
   "outputs": [
    {
     "data": {
      "text/plain": [
       "194"
      ]
     },
     "execution_count": 20,
     "metadata": {},
     "output_type": "execute_result"
    }
   ],
   "source": [
    "len(life_expectancy_cut[life_expectancy_cut.isnull().any(axis=1)])"
   ]
  },
  {
   "cell_type": "markdown",
   "metadata": {},
   "source": [
    "194 rows have missing values"
   ]
  },
  {
   "cell_type": "code",
   "execution_count": 21,
   "metadata": {
    "scrolled": true
   },
   "outputs": [
    {
     "data": {
      "text/html": [
       "<div>\n",
       "<style scoped>\n",
       "    .dataframe tbody tr th:only-of-type {\n",
       "        vertical-align: middle;\n",
       "    }\n",
       "\n",
       "    .dataframe tbody tr th {\n",
       "        vertical-align: top;\n",
       "    }\n",
       "\n",
       "    .dataframe thead th {\n",
       "        text-align: right;\n",
       "    }\n",
       "</style>\n",
       "<table border=\"1\" class=\"dataframe\">\n",
       "  <thead>\n",
       "    <tr style=\"text-align: right;\">\n",
       "      <th></th>\n",
       "      <th>GhoCode</th>\n",
       "      <th>GhoDisplay</th>\n",
       "      <th>PublishStateCode</th>\n",
       "      <th>PublishStateDisplay</th>\n",
       "      <th>YearCode</th>\n",
       "      <th>YearDisplay</th>\n",
       "      <th>RegionCode</th>\n",
       "      <th>RegionDisplay</th>\n",
       "      <th>WorldBankIncomeGroupGroupCode</th>\n",
       "      <th>WorldBankIncomeGroupDisplay</th>\n",
       "      <th>CountryCode</th>\n",
       "      <th>CountryDisplay</th>\n",
       "      <th>SexCode</th>\n",
       "      <th>SexDisplay</th>\n",
       "      <th>DisplayValue</th>\n",
       "      <th>Numeric</th>\n",
       "    </tr>\n",
       "  </thead>\n",
       "  <tbody>\n",
       "    <tr>\n",
       "      <th>0</th>\n",
       "      <td>WHOSIS_000001</td>\n",
       "      <td>Life expectancy at birth (years)</td>\n",
       "      <td>PUBLISHED</td>\n",
       "      <td>Published</td>\n",
       "      <td>2013</td>\n",
       "      <td>2013</td>\n",
       "      <td>EMR</td>\n",
       "      <td>Eastern Mediterranean</td>\n",
       "      <td>NaN</td>\n",
       "      <td>NaN</td>\n",
       "      <td>AFG</td>\n",
       "      <td>Afghanistan</td>\n",
       "      <td>BTSX</td>\n",
       "      <td>Both sexes</td>\n",
       "      <td>61</td>\n",
       "      <td>61.25205</td>\n",
       "    </tr>\n",
       "    <tr>\n",
       "      <th>33</th>\n",
       "      <td>WHOSIS_000001</td>\n",
       "      <td>Life expectancy at birth (years)</td>\n",
       "      <td>PUBLISHED</td>\n",
       "      <td>Published</td>\n",
       "      <td>2013</td>\n",
       "      <td>2013</td>\n",
       "      <td>EUR</td>\n",
       "      <td>Europe</td>\n",
       "      <td>NaN</td>\n",
       "      <td>NaN</td>\n",
       "      <td>ALB</td>\n",
       "      <td>Albania</td>\n",
       "      <td>BTSX</td>\n",
       "      <td>Both sexes</td>\n",
       "      <td>74</td>\n",
       "      <td>74.13000</td>\n",
       "    </tr>\n",
       "    <tr>\n",
       "      <th>66</th>\n",
       "      <td>WHOSIS_000001</td>\n",
       "      <td>Life expectancy at birth (years)</td>\n",
       "      <td>PUBLISHED</td>\n",
       "      <td>Published</td>\n",
       "      <td>2013</td>\n",
       "      <td>2013</td>\n",
       "      <td>AFR</td>\n",
       "      <td>Africa</td>\n",
       "      <td>NaN</td>\n",
       "      <td>NaN</td>\n",
       "      <td>DZA</td>\n",
       "      <td>Algeria</td>\n",
       "      <td>BTSX</td>\n",
       "      <td>Both sexes</td>\n",
       "      <td>72</td>\n",
       "      <td>71.82955</td>\n",
       "    </tr>\n",
       "    <tr>\n",
       "      <th>99</th>\n",
       "      <td>WHOSIS_000001</td>\n",
       "      <td>Life expectancy at birth (years)</td>\n",
       "      <td>PUBLISHED</td>\n",
       "      <td>Published</td>\n",
       "      <td>2013</td>\n",
       "      <td>2013</td>\n",
       "      <td>EUR</td>\n",
       "      <td>Europe</td>\n",
       "      <td>NaN</td>\n",
       "      <td>NaN</td>\n",
       "      <td>AND</td>\n",
       "      <td>Andorra</td>\n",
       "      <td>BTSX</td>\n",
       "      <td>Both sexes</td>\n",
       "      <td>83</td>\n",
       "      <td>82.65301</td>\n",
       "    </tr>\n",
       "    <tr>\n",
       "      <th>132</th>\n",
       "      <td>WHOSIS_000001</td>\n",
       "      <td>Life expectancy at birth (years)</td>\n",
       "      <td>PUBLISHED</td>\n",
       "      <td>Published</td>\n",
       "      <td>2013</td>\n",
       "      <td>2013</td>\n",
       "      <td>AFR</td>\n",
       "      <td>Africa</td>\n",
       "      <td>NaN</td>\n",
       "      <td>NaN</td>\n",
       "      <td>AGO</td>\n",
       "      <td>Angola</td>\n",
       "      <td>BTSX</td>\n",
       "      <td>Both sexes</td>\n",
       "      <td>52</td>\n",
       "      <td>51.74093</td>\n",
       "    </tr>\n",
       "  </tbody>\n",
       "</table>\n",
       "</div>"
      ],
      "text/plain": [
       "           GhoCode                        GhoDisplay PublishStateCode  \\\n",
       "0    WHOSIS_000001  Life expectancy at birth (years)        PUBLISHED   \n",
       "33   WHOSIS_000001  Life expectancy at birth (years)        PUBLISHED   \n",
       "66   WHOSIS_000001  Life expectancy at birth (years)        PUBLISHED   \n",
       "99   WHOSIS_000001  Life expectancy at birth (years)        PUBLISHED   \n",
       "132  WHOSIS_000001  Life expectancy at birth (years)        PUBLISHED   \n",
       "\n",
       "    PublishStateDisplay  YearCode  YearDisplay RegionCode  \\\n",
       "0             Published      2013         2013        EMR   \n",
       "33            Published      2013         2013        EUR   \n",
       "66            Published      2013         2013        AFR   \n",
       "99            Published      2013         2013        EUR   \n",
       "132           Published      2013         2013        AFR   \n",
       "\n",
       "             RegionDisplay WorldBankIncomeGroupGroupCode  \\\n",
       "0    Eastern Mediterranean                           NaN   \n",
       "33                  Europe                           NaN   \n",
       "66                  Africa                           NaN   \n",
       "99                  Europe                           NaN   \n",
       "132                 Africa                           NaN   \n",
       "\n",
       "    WorldBankIncomeGroupDisplay CountryCode CountryDisplay SexCode  \\\n",
       "0                           NaN         AFG    Afghanistan    BTSX   \n",
       "33                          NaN         ALB        Albania    BTSX   \n",
       "66                          NaN         DZA        Algeria    BTSX   \n",
       "99                          NaN         AND        Andorra    BTSX   \n",
       "132                         NaN         AGO         Angola    BTSX   \n",
       "\n",
       "     SexDisplay  DisplayValue   Numeric  \n",
       "0    Both sexes            61  61.25205  \n",
       "33   Both sexes            74  74.13000  \n",
       "66   Both sexes            72  71.82955  \n",
       "99   Both sexes            83  82.65301  \n",
       "132  Both sexes            52  51.74093  "
      ]
     },
     "execution_count": 21,
     "metadata": {},
     "output_type": "execute_result"
    }
   ],
   "source": [
    "life_expectancy_cut[life_expectancy_cut.isnull().any(axis=1)].head()"
   ]
  },
  {
   "cell_type": "markdown",
   "metadata": {},
   "source": [
    "This code gets the YearCode of the rows with missing values"
   ]
  },
  {
   "cell_type": "code",
   "execution_count": 22,
   "metadata": {},
   "outputs": [
    {
     "name": "stderr",
     "output_type": "stream",
     "text": [
      "<ipython-input-22-c637cd4ef1e4>:1: UserWarning: Boolean Series key will be reindexed to match DataFrame index.\n",
      "  year_codes_in_nan = life_expectancy_cut[(life_expectancy_cut['GhoDisplay'] == 'Life expectancy at birth (years)')  & (life_expectancy['WorldBankIncomeGroupDisplay'].isna())]['YearCode']\n"
     ]
    }
   ],
   "source": [
    "year_codes_in_nan = life_expectancy_cut[(life_expectancy_cut['GhoDisplay'] == 'Life expectancy at birth (years)')  & (life_expectancy['WorldBankIncomeGroupDisplay'].isna())]['YearCode']"
   ]
  },
  {
   "cell_type": "code",
   "execution_count": 23,
   "metadata": {},
   "outputs": [],
   "source": [
    "year_check_list = ['Not 2013' for x in year_codes_in_nan if x != 2013]"
   ]
  },
  {
   "cell_type": "code",
   "execution_count": 24,
   "metadata": {},
   "outputs": [
    {
     "data": {
      "text/plain": [
       "[]"
      ]
     },
     "execution_count": 24,
     "metadata": {},
     "output_type": "execute_result"
    }
   ],
   "source": [
    "year_check_list"
   ]
  },
  {
   "cell_type": "markdown",
   "metadata": {},
   "source": [
    "year_check_list is empty - it means WorldBankIncomeGroupDisplay data is missing only for year 2013. "
   ]
  },
  {
   "cell_type": "markdown",
   "metadata": {},
   "source": [
    "Since data is missing for 2013 and the task is to *use only last available life expectancy information*, I will filter out dataset for year 2012"
   ]
  },
  {
   "cell_type": "code",
   "execution_count": 25,
   "metadata": {},
   "outputs": [],
   "source": [
    "life_expectancy_cut = life_expectancy_cut[life_expectancy_cut['YearCode'] == 2012]"
   ]
  },
  {
   "cell_type": "markdown",
   "metadata": {},
   "source": [
    "##### Overall statistics"
   ]
  },
  {
   "cell_type": "code",
   "execution_count": 26,
   "metadata": {},
   "outputs": [
    {
     "data": {
      "text/html": [
       "<div>\n",
       "<style scoped>\n",
       "    .dataframe tbody tr th:only-of-type {\n",
       "        vertical-align: middle;\n",
       "    }\n",
       "\n",
       "    .dataframe tbody tr th {\n",
       "        vertical-align: top;\n",
       "    }\n",
       "\n",
       "    .dataframe thead th {\n",
       "        text-align: right;\n",
       "    }\n",
       "</style>\n",
       "<table border=\"1\" class=\"dataframe\">\n",
       "  <thead>\n",
       "    <tr style=\"text-align: right;\">\n",
       "      <th></th>\n",
       "      <th>GhoCode</th>\n",
       "      <th>GhoDisplay</th>\n",
       "      <th>PublishStateCode</th>\n",
       "      <th>PublishStateDisplay</th>\n",
       "      <th>YearCode</th>\n",
       "      <th>YearDisplay</th>\n",
       "      <th>RegionCode</th>\n",
       "      <th>RegionDisplay</th>\n",
       "      <th>WorldBankIncomeGroupGroupCode</th>\n",
       "      <th>WorldBankIncomeGroupDisplay</th>\n",
       "      <th>CountryCode</th>\n",
       "      <th>CountryDisplay</th>\n",
       "      <th>SexCode</th>\n",
       "      <th>SexDisplay</th>\n",
       "      <th>DisplayValue</th>\n",
       "      <th>Numeric</th>\n",
       "    </tr>\n",
       "  </thead>\n",
       "  <tbody>\n",
       "    <tr>\n",
       "      <th>count</th>\n",
       "      <td>194</td>\n",
       "      <td>194</td>\n",
       "      <td>194</td>\n",
       "      <td>194</td>\n",
       "      <td>194.0</td>\n",
       "      <td>194.0</td>\n",
       "      <td>194</td>\n",
       "      <td>194</td>\n",
       "      <td>194</td>\n",
       "      <td>194</td>\n",
       "      <td>194</td>\n",
       "      <td>194</td>\n",
       "      <td>194</td>\n",
       "      <td>194</td>\n",
       "      <td>194.000000</td>\n",
       "      <td>194.000000</td>\n",
       "    </tr>\n",
       "    <tr>\n",
       "      <th>unique</th>\n",
       "      <td>1</td>\n",
       "      <td>1</td>\n",
       "      <td>1</td>\n",
       "      <td>1</td>\n",
       "      <td>NaN</td>\n",
       "      <td>NaN</td>\n",
       "      <td>6</td>\n",
       "      <td>6</td>\n",
       "      <td>4</td>\n",
       "      <td>4</td>\n",
       "      <td>194</td>\n",
       "      <td>194</td>\n",
       "      <td>1</td>\n",
       "      <td>1</td>\n",
       "      <td>NaN</td>\n",
       "      <td>NaN</td>\n",
       "    </tr>\n",
       "    <tr>\n",
       "      <th>top</th>\n",
       "      <td>WHOSIS_000001</td>\n",
       "      <td>Life expectancy at birth (years)</td>\n",
       "      <td>PUBLISHED</td>\n",
       "      <td>Published</td>\n",
       "      <td>NaN</td>\n",
       "      <td>NaN</td>\n",
       "      <td>EUR</td>\n",
       "      <td>Europe</td>\n",
       "      <td>WB_LMI</td>\n",
       "      <td>Lower_middle_income</td>\n",
       "      <td>SVK</td>\n",
       "      <td>Philippines</td>\n",
       "      <td>BTSX</td>\n",
       "      <td>Both sexes</td>\n",
       "      <td>NaN</td>\n",
       "      <td>NaN</td>\n",
       "    </tr>\n",
       "    <tr>\n",
       "      <th>freq</th>\n",
       "      <td>194</td>\n",
       "      <td>194</td>\n",
       "      <td>194</td>\n",
       "      <td>194</td>\n",
       "      <td>NaN</td>\n",
       "      <td>NaN</td>\n",
       "      <td>53</td>\n",
       "      <td>53</td>\n",
       "      <td>53</td>\n",
       "      <td>53</td>\n",
       "      <td>1</td>\n",
       "      <td>1</td>\n",
       "      <td>194</td>\n",
       "      <td>194</td>\n",
       "      <td>NaN</td>\n",
       "      <td>NaN</td>\n",
       "    </tr>\n",
       "    <tr>\n",
       "      <th>mean</th>\n",
       "      <td>NaN</td>\n",
       "      <td>NaN</td>\n",
       "      <td>NaN</td>\n",
       "      <td>NaN</td>\n",
       "      <td>2012.0</td>\n",
       "      <td>2012.0</td>\n",
       "      <td>NaN</td>\n",
       "      <td>NaN</td>\n",
       "      <td>NaN</td>\n",
       "      <td>NaN</td>\n",
       "      <td>NaN</td>\n",
       "      <td>NaN</td>\n",
       "      <td>NaN</td>\n",
       "      <td>NaN</td>\n",
       "      <td>70.804124</td>\n",
       "      <td>70.804124</td>\n",
       "    </tr>\n",
       "    <tr>\n",
       "      <th>std</th>\n",
       "      <td>NaN</td>\n",
       "      <td>NaN</td>\n",
       "      <td>NaN</td>\n",
       "      <td>NaN</td>\n",
       "      <td>0.0</td>\n",
       "      <td>0.0</td>\n",
       "      <td>NaN</td>\n",
       "      <td>NaN</td>\n",
       "      <td>NaN</td>\n",
       "      <td>NaN</td>\n",
       "      <td>NaN</td>\n",
       "      <td>NaN</td>\n",
       "      <td>NaN</td>\n",
       "      <td>NaN</td>\n",
       "      <td>8.752959</td>\n",
       "      <td>8.752959</td>\n",
       "    </tr>\n",
       "    <tr>\n",
       "      <th>min</th>\n",
       "      <td>NaN</td>\n",
       "      <td>NaN</td>\n",
       "      <td>NaN</td>\n",
       "      <td>NaN</td>\n",
       "      <td>2012.0</td>\n",
       "      <td>2012.0</td>\n",
       "      <td>NaN</td>\n",
       "      <td>NaN</td>\n",
       "      <td>NaN</td>\n",
       "      <td>NaN</td>\n",
       "      <td>NaN</td>\n",
       "      <td>NaN</td>\n",
       "      <td>NaN</td>\n",
       "      <td>NaN</td>\n",
       "      <td>46.000000</td>\n",
       "      <td>46.000000</td>\n",
       "    </tr>\n",
       "    <tr>\n",
       "      <th>25%</th>\n",
       "      <td>NaN</td>\n",
       "      <td>NaN</td>\n",
       "      <td>NaN</td>\n",
       "      <td>NaN</td>\n",
       "      <td>2012.0</td>\n",
       "      <td>2012.0</td>\n",
       "      <td>NaN</td>\n",
       "      <td>NaN</td>\n",
       "      <td>NaN</td>\n",
       "      <td>NaN</td>\n",
       "      <td>NaN</td>\n",
       "      <td>NaN</td>\n",
       "      <td>NaN</td>\n",
       "      <td>NaN</td>\n",
       "      <td>64.250000</td>\n",
       "      <td>64.250000</td>\n",
       "    </tr>\n",
       "    <tr>\n",
       "      <th>50%</th>\n",
       "      <td>NaN</td>\n",
       "      <td>NaN</td>\n",
       "      <td>NaN</td>\n",
       "      <td>NaN</td>\n",
       "      <td>2012.0</td>\n",
       "      <td>2012.0</td>\n",
       "      <td>NaN</td>\n",
       "      <td>NaN</td>\n",
       "      <td>NaN</td>\n",
       "      <td>NaN</td>\n",
       "      <td>NaN</td>\n",
       "      <td>NaN</td>\n",
       "      <td>NaN</td>\n",
       "      <td>NaN</td>\n",
       "      <td>74.000000</td>\n",
       "      <td>74.000000</td>\n",
       "    </tr>\n",
       "    <tr>\n",
       "      <th>75%</th>\n",
       "      <td>NaN</td>\n",
       "      <td>NaN</td>\n",
       "      <td>NaN</td>\n",
       "      <td>NaN</td>\n",
       "      <td>2012.0</td>\n",
       "      <td>2012.0</td>\n",
       "      <td>NaN</td>\n",
       "      <td>NaN</td>\n",
       "      <td>NaN</td>\n",
       "      <td>NaN</td>\n",
       "      <td>NaN</td>\n",
       "      <td>NaN</td>\n",
       "      <td>NaN</td>\n",
       "      <td>NaN</td>\n",
       "      <td>77.000000</td>\n",
       "      <td>77.000000</td>\n",
       "    </tr>\n",
       "    <tr>\n",
       "      <th>max</th>\n",
       "      <td>NaN</td>\n",
       "      <td>NaN</td>\n",
       "      <td>NaN</td>\n",
       "      <td>NaN</td>\n",
       "      <td>2012.0</td>\n",
       "      <td>2012.0</td>\n",
       "      <td>NaN</td>\n",
       "      <td>NaN</td>\n",
       "      <td>NaN</td>\n",
       "      <td>NaN</td>\n",
       "      <td>NaN</td>\n",
       "      <td>NaN</td>\n",
       "      <td>NaN</td>\n",
       "      <td>NaN</td>\n",
       "      <td>84.000000</td>\n",
       "      <td>84.000000</td>\n",
       "    </tr>\n",
       "  </tbody>\n",
       "</table>\n",
       "</div>"
      ],
      "text/plain": [
       "              GhoCode                        GhoDisplay PublishStateCode  \\\n",
       "count             194                               194              194   \n",
       "unique              1                                 1                1   \n",
       "top     WHOSIS_000001  Life expectancy at birth (years)        PUBLISHED   \n",
       "freq              194                               194              194   \n",
       "mean              NaN                               NaN              NaN   \n",
       "std               NaN                               NaN              NaN   \n",
       "min               NaN                               NaN              NaN   \n",
       "25%               NaN                               NaN              NaN   \n",
       "50%               NaN                               NaN              NaN   \n",
       "75%               NaN                               NaN              NaN   \n",
       "max               NaN                               NaN              NaN   \n",
       "\n",
       "       PublishStateDisplay  YearCode  YearDisplay RegionCode RegionDisplay  \\\n",
       "count                  194     194.0        194.0        194           194   \n",
       "unique                   1       NaN          NaN          6             6   \n",
       "top              Published       NaN          NaN        EUR        Europe   \n",
       "freq                   194       NaN          NaN         53            53   \n",
       "mean                   NaN    2012.0       2012.0        NaN           NaN   \n",
       "std                    NaN       0.0          0.0        NaN           NaN   \n",
       "min                    NaN    2012.0       2012.0        NaN           NaN   \n",
       "25%                    NaN    2012.0       2012.0        NaN           NaN   \n",
       "50%                    NaN    2012.0       2012.0        NaN           NaN   \n",
       "75%                    NaN    2012.0       2012.0        NaN           NaN   \n",
       "max                    NaN    2012.0       2012.0        NaN           NaN   \n",
       "\n",
       "       WorldBankIncomeGroupGroupCode WorldBankIncomeGroupDisplay CountryCode  \\\n",
       "count                            194                         194         194   \n",
       "unique                             4                           4         194   \n",
       "top                           WB_LMI         Lower_middle_income         SVK   \n",
       "freq                              53                          53           1   \n",
       "mean                             NaN                         NaN         NaN   \n",
       "std                              NaN                         NaN         NaN   \n",
       "min                              NaN                         NaN         NaN   \n",
       "25%                              NaN                         NaN         NaN   \n",
       "50%                              NaN                         NaN         NaN   \n",
       "75%                              NaN                         NaN         NaN   \n",
       "max                              NaN                         NaN         NaN   \n",
       "\n",
       "       CountryDisplay SexCode  SexDisplay  DisplayValue     Numeric  \n",
       "count             194     194         194    194.000000  194.000000  \n",
       "unique            194       1           1           NaN         NaN  \n",
       "top       Philippines    BTSX  Both sexes           NaN         NaN  \n",
       "freq                1     194         194           NaN         NaN  \n",
       "mean              NaN     NaN         NaN     70.804124   70.804124  \n",
       "std               NaN     NaN         NaN      8.752959    8.752959  \n",
       "min               NaN     NaN         NaN     46.000000   46.000000  \n",
       "25%               NaN     NaN         NaN     64.250000   64.250000  \n",
       "50%               NaN     NaN         NaN     74.000000   74.000000  \n",
       "75%               NaN     NaN         NaN     77.000000   77.000000  \n",
       "max               NaN     NaN         NaN     84.000000   84.000000  "
      ]
     },
     "execution_count": 26,
     "metadata": {},
     "output_type": "execute_result"
    }
   ],
   "source": [
    "life_expectancy_cut.describe(include = 'all')"
   ]
  },
  {
   "cell_type": "markdown",
   "metadata": {},
   "source": [
    "There are 194 countries"
   ]
  },
  {
   "cell_type": "markdown",
   "metadata": {},
   "source": [
    "DisplayValue column shows life expectancy: it varies from 46 to 84. "
   ]
  },
  {
   "cell_type": "markdown",
   "metadata": {},
   "source": [
    "Life expectancy of 46 years is actually too low value. It is almost the half of the maximum value of 84 years. This means the country that has such low life expectancy is an outlier. "
   ]
  },
  {
   "cell_type": "code",
   "execution_count": 27,
   "metadata": {},
   "outputs": [
    {
     "data": {
      "text/html": [
       "<div>\n",
       "<style scoped>\n",
       "    .dataframe tbody tr th:only-of-type {\n",
       "        vertical-align: middle;\n",
       "    }\n",
       "\n",
       "    .dataframe tbody tr th {\n",
       "        vertical-align: top;\n",
       "    }\n",
       "\n",
       "    .dataframe thead th {\n",
       "        text-align: right;\n",
       "    }\n",
       "</style>\n",
       "<table border=\"1\" class=\"dataframe\">\n",
       "  <thead>\n",
       "    <tr style=\"text-align: right;\">\n",
       "      <th></th>\n",
       "      <th>GhoCode</th>\n",
       "      <th>GhoDisplay</th>\n",
       "      <th>PublishStateCode</th>\n",
       "      <th>PublishStateDisplay</th>\n",
       "      <th>YearCode</th>\n",
       "      <th>YearDisplay</th>\n",
       "      <th>RegionCode</th>\n",
       "      <th>RegionDisplay</th>\n",
       "      <th>WorldBankIncomeGroupGroupCode</th>\n",
       "      <th>WorldBankIncomeGroupDisplay</th>\n",
       "      <th>CountryCode</th>\n",
       "      <th>CountryDisplay</th>\n",
       "      <th>SexCode</th>\n",
       "      <th>SexDisplay</th>\n",
       "      <th>DisplayValue</th>\n",
       "      <th>Numeric</th>\n",
       "    </tr>\n",
       "  </thead>\n",
       "  <tbody>\n",
       "    <tr>\n",
       "      <th>135</th>\n",
       "      <td>WHOSIS_000001</td>\n",
       "      <td>Life expectancy at birth (years)</td>\n",
       "      <td>PUBLISHED</td>\n",
       "      <td>Published</td>\n",
       "      <td>2012</td>\n",
       "      <td>2012</td>\n",
       "      <td>AFR</td>\n",
       "      <td>Africa</td>\n",
       "      <td>WB_LMI</td>\n",
       "      <td>Lower_middle_income</td>\n",
       "      <td>AGO</td>\n",
       "      <td>Angola</td>\n",
       "      <td>BTSX</td>\n",
       "      <td>Both sexes</td>\n",
       "      <td>51</td>\n",
       "      <td>51.0</td>\n",
       "    </tr>\n",
       "    <tr>\n",
       "      <th>1059</th>\n",
       "      <td>WHOSIS_000001</td>\n",
       "      <td>Life expectancy at birth (years)</td>\n",
       "      <td>PUBLISHED</td>\n",
       "      <td>Published</td>\n",
       "      <td>2012</td>\n",
       "      <td>2012</td>\n",
       "      <td>AFR</td>\n",
       "      <td>Africa</td>\n",
       "      <td>WB_LI</td>\n",
       "      <td>Low_income</td>\n",
       "      <td>CAF</td>\n",
       "      <td>Central African Republic</td>\n",
       "      <td>BTSX</td>\n",
       "      <td>Both sexes</td>\n",
       "      <td>51</td>\n",
       "      <td>51.0</td>\n",
       "    </tr>\n",
       "    <tr>\n",
       "      <th>1092</th>\n",
       "      <td>WHOSIS_000001</td>\n",
       "      <td>Life expectancy at birth (years)</td>\n",
       "      <td>PUBLISHED</td>\n",
       "      <td>Published</td>\n",
       "      <td>2012</td>\n",
       "      <td>2012</td>\n",
       "      <td>AFR</td>\n",
       "      <td>Africa</td>\n",
       "      <td>WB_LI</td>\n",
       "      <td>Low_income</td>\n",
       "      <td>TCD</td>\n",
       "      <td>Chad</td>\n",
       "      <td>BTSX</td>\n",
       "      <td>Both sexes</td>\n",
       "      <td>51</td>\n",
       "      <td>51.0</td>\n",
       "    </tr>\n",
       "    <tr>\n",
       "      <th>1554</th>\n",
       "      <td>WHOSIS_000001</td>\n",
       "      <td>Life expectancy at birth (years)</td>\n",
       "      <td>PUBLISHED</td>\n",
       "      <td>Published</td>\n",
       "      <td>2012</td>\n",
       "      <td>2012</td>\n",
       "      <td>AFR</td>\n",
       "      <td>Africa</td>\n",
       "      <td>WB_LI</td>\n",
       "      <td>Low_income</td>\n",
       "      <td>COD</td>\n",
       "      <td>Democratic Republic of the Congo</td>\n",
       "      <td>BTSX</td>\n",
       "      <td>Both sexes</td>\n",
       "      <td>52</td>\n",
       "      <td>52.0</td>\n",
       "    </tr>\n",
       "    <tr>\n",
       "      <th>3138</th>\n",
       "      <td>WHOSIS_000001</td>\n",
       "      <td>Life expectancy at birth (years)</td>\n",
       "      <td>PUBLISHED</td>\n",
       "      <td>Published</td>\n",
       "      <td>2012</td>\n",
       "      <td>2012</td>\n",
       "      <td>AFR</td>\n",
       "      <td>Africa</td>\n",
       "      <td>WB_LMI</td>\n",
       "      <td>Lower_middle_income</td>\n",
       "      <td>LSO</td>\n",
       "      <td>Lesotho</td>\n",
       "      <td>BTSX</td>\n",
       "      <td>Both sexes</td>\n",
       "      <td>50</td>\n",
       "      <td>50.0</td>\n",
       "    </tr>\n",
       "    <tr>\n",
       "      <th>5052</th>\n",
       "      <td>WHOSIS_000001</td>\n",
       "      <td>Life expectancy at birth (years)</td>\n",
       "      <td>PUBLISHED</td>\n",
       "      <td>Published</td>\n",
       "      <td>2012</td>\n",
       "      <td>2012</td>\n",
       "      <td>AFR</td>\n",
       "      <td>Africa</td>\n",
       "      <td>WB_LI</td>\n",
       "      <td>Low_income</td>\n",
       "      <td>SLE</td>\n",
       "      <td>Sierra Leone</td>\n",
       "      <td>BTSX</td>\n",
       "      <td>Both sexes</td>\n",
       "      <td>46</td>\n",
       "      <td>46.0</td>\n",
       "    </tr>\n",
       "  </tbody>\n",
       "</table>\n",
       "</div>"
      ],
      "text/plain": [
       "            GhoCode                        GhoDisplay PublishStateCode  \\\n",
       "135   WHOSIS_000001  Life expectancy at birth (years)        PUBLISHED   \n",
       "1059  WHOSIS_000001  Life expectancy at birth (years)        PUBLISHED   \n",
       "1092  WHOSIS_000001  Life expectancy at birth (years)        PUBLISHED   \n",
       "1554  WHOSIS_000001  Life expectancy at birth (years)        PUBLISHED   \n",
       "3138  WHOSIS_000001  Life expectancy at birth (years)        PUBLISHED   \n",
       "5052  WHOSIS_000001  Life expectancy at birth (years)        PUBLISHED   \n",
       "\n",
       "     PublishStateDisplay  YearCode  YearDisplay RegionCode RegionDisplay  \\\n",
       "135            Published      2012         2012        AFR        Africa   \n",
       "1059           Published      2012         2012        AFR        Africa   \n",
       "1092           Published      2012         2012        AFR        Africa   \n",
       "1554           Published      2012         2012        AFR        Africa   \n",
       "3138           Published      2012         2012        AFR        Africa   \n",
       "5052           Published      2012         2012        AFR        Africa   \n",
       "\n",
       "     WorldBankIncomeGroupGroupCode WorldBankIncomeGroupDisplay CountryCode  \\\n",
       "135                         WB_LMI         Lower_middle_income         AGO   \n",
       "1059                         WB_LI                  Low_income         CAF   \n",
       "1092                         WB_LI                  Low_income         TCD   \n",
       "1554                         WB_LI                  Low_income         COD   \n",
       "3138                        WB_LMI         Lower_middle_income         LSO   \n",
       "5052                         WB_LI                  Low_income         SLE   \n",
       "\n",
       "                        CountryDisplay SexCode  SexDisplay  DisplayValue  \\\n",
       "135                             Angola    BTSX  Both sexes            51   \n",
       "1059          Central African Republic    BTSX  Both sexes            51   \n",
       "1092                              Chad    BTSX  Both sexes            51   \n",
       "1554  Democratic Republic of the Congo    BTSX  Both sexes            52   \n",
       "3138                           Lesotho    BTSX  Both sexes            50   \n",
       "5052                      Sierra Leone    BTSX  Both sexes            46   \n",
       "\n",
       "      Numeric  \n",
       "135      51.0  \n",
       "1059     51.0  \n",
       "1092     51.0  \n",
       "1554     52.0  \n",
       "3138     50.0  \n",
       "5052     46.0  "
      ]
     },
     "execution_count": 27,
     "metadata": {},
     "output_type": "execute_result"
    }
   ],
   "source": [
    "life_expectancy_cut[life_expectancy_cut['DisplayValue'] < 53]"
   ]
  },
  {
   "cell_type": "markdown",
   "metadata": {},
   "source": [
    "Indeed: that outlier country is Sierra Leone. Another interesting insight is that countries whose life expectancy is relatively low (lower than 53) is located in Africa region. "
   ]
  },
  {
   "cell_type": "code",
   "execution_count": 28,
   "metadata": {},
   "outputs": [],
   "source": [
    "# ax = life_expectancy_cut.plot.bar(x='WorldBankIncomeGroupDisplay', y='val', rot=0)"
   ]
  },
  {
   "cell_type": "code",
   "execution_count": 29,
   "metadata": {},
   "outputs": [
    {
     "data": {
      "text/plain": [
       "<matplotlib.axes._subplots.AxesSubplot at 0x1b6b0801d30>"
      ]
     },
     "execution_count": 29,
     "metadata": {},
     "output_type": "execute_result"
    },
    {
     "data": {
      "image/png": "[encoded data removed]",
      "text/plain": [
       "<Figure size 432x288 with 1 Axes>"
      ]
     },
     "metadata": {
      "needs_background": "light"
     },
     "output_type": "display_data"
    }
   ],
   "source": [
    "fig, ax = plt.subplots()\n",
    "life_expectancy_cut['WorldBankIncomeGroupDisplay'].value_counts().plot(ax=ax, kind='bar')"
   ]
  },
  {
   "cell_type": "code",
   "execution_count": 30,
   "metadata": {},
   "outputs": [
    {
     "data": {
      "text/plain": [
       "<matplotlib.axes._subplots.AxesSubplot at 0x1b6b08778e0>"
      ]
     },
     "execution_count": 30,
     "metadata": {},
     "output_type": "execute_result"
    },
    {
     "data": {
      "image/png": "[encoded data removed]",
      "text/plain": [
       "<Figure size 432x288 with 1 Axes>"
      ]
     },
     "metadata": {
      "needs_background": "light"
     },
     "output_type": "display_data"
    }
   ],
   "source": [
    "fig, ax = plt.subplots()\n",
    "life_expectancy_cut.dropna()['WorldBankIncomeGroupDisplay'].value_counts().plot(ax=ax, kind='bar')"
   ]
  },
  {
   "cell_type": "markdown",
   "metadata": {},
   "source": [
    "##### Duplicates"
   ]
  },
  {
   "cell_type": "code",
   "execution_count": 31,
   "metadata": {},
   "outputs": [
    {
     "data": {
      "text/plain": [
       "(194, 16)"
      ]
     },
     "execution_count": 31,
     "metadata": {},
     "output_type": "execute_result"
    }
   ],
   "source": [
    "life_expectancy_cut.shape"
   ]
  },
  {
   "cell_type": "code",
   "execution_count": 32,
   "metadata": {},
   "outputs": [
    {
     "data": {
      "text/plain": [
       "(194, 16)"
      ]
     },
     "execution_count": 32,
     "metadata": {},
     "output_type": "execute_result"
    }
   ],
   "source": [
    "life_expectancy_cut.drop_duplicates().shape"
   ]
  },
  {
   "cell_type": "markdown",
   "metadata": {},
   "source": [
    "There is no duplicates in the dataset"
   ]
  },
  {
   "cell_type": "code",
   "execution_count": 33,
   "metadata": {},
   "outputs": [],
   "source": [
    "life_expectancy_cut.to_csv('data/Life_Expectancy_processed.csv', index=False)"
   ]
  }
 ],
 "metadata": {
  "kernelspec": {
   "display_name": "Python 3",
   "language": "python",
   "name": "python3"
  },
  "language_info": {
   "codemirror_mode": {
    "name": "ipython",
    "version": 3
   },
   "file_extension": ".py",
   "mimetype": "text/x-python",
   "name": "python",
   "nbconvert_exporter": "python",
   "pygments_lexer": "ipython3",
   "version": "3.8.3"
  }
 },
 "nbformat": 4,
 "nbformat_minor": 4
}
