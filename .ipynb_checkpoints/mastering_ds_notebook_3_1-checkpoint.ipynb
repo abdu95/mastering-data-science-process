{
 "cells": [
  {
   "cell_type": "markdown",
   "metadata": {},
   "source": [
    "# Mastering the Process of Data Science 2020/21"
   ]
  },
  {
   "cell_type": "markdown",
   "metadata": {},
   "source": [
    "#### 3rd Notebook"
   ]
  },
  {
   "cell_type": "markdown",
   "metadata": {},
   "source": [
    "#### Abduvosid Malikov"
   ]
  },
  {
   "cell_type": "code",
   "execution_count": 1,
   "metadata": {},
   "outputs": [],
   "source": [
    "import pandas as pd\n",
    "import numpy as np\n",
    "import matplotlib.pyplot as plt"
   ]
  },
  {
   "cell_type": "markdown",
   "metadata": {},
   "source": [
    "Drinks.csv: number of alcohol servings per capita per year for 15 years of age or older (for beer, wine and spirit) across various countries"
   ]
  },
  {
   "cell_type": "code",
   "execution_count": 2,
   "metadata": {},
   "outputs": [],
   "source": [
    "drinks = pd.read_csv('data/Drinks_processed.csv')"
   ]
  },
  {
   "cell_type": "markdown",
   "metadata": {},
   "source": [
    "LifeExpectancy.csv: life expectancy and other health factors across various countries"
   ]
  },
  {
   "cell_type": "code",
   "execution_count": 3,
   "metadata": {},
   "outputs": [],
   "source": [
    "life_expectancy = pd.read_csv('data/Life_Expectancy_processed.csv')"
   ]
  },
  {
   "cell_type": "code",
   "execution_count": 4,
   "metadata": {},
   "outputs": [
    {
     "data": {
      "text/plain": [
       "193"
      ]
     },
     "execution_count": 4,
     "metadata": {},
     "output_type": "execute_result"
    }
   ],
   "source": [
    "len(drinks)"
   ]
  },
  {
   "cell_type": "code",
   "execution_count": 5,
   "metadata": {},
   "outputs": [
    {
     "data": {
      "text/plain": [
       "194"
      ]
     },
     "execution_count": 5,
     "metadata": {},
     "output_type": "execute_result"
    }
   ],
   "source": [
    "len(life_expectancy)"
   ]
  },
  {
   "cell_type": "markdown",
   "metadata": {},
   "source": [
    "drinks dataset contains 193 rows. \n",
    "\n",
    "life_expectancy dataset contains 194 rows. Which country is extra in life_expectancy dataset?"
   ]
  },
  {
   "cell_type": "markdown",
   "metadata": {},
   "source": [
    "##### Merge drinks and lifetime data by country"
   ]
  },
  {
   "cell_type": "code",
   "execution_count": 6,
   "metadata": {},
   "outputs": [],
   "source": [
    "drinks_life_expectancy = pd.merge(drinks, life_expectancy, left_on='country', right_on = 'CountryDisplay')"
   ]
  },
  {
   "cell_type": "code",
   "execution_count": 7,
   "metadata": {},
   "outputs": [
    {
     "data": {
      "text/plain": [
       "167"
      ]
     },
     "execution_count": 7,
     "metadata": {},
     "output_type": "execute_result"
    }
   ],
   "source": [
    "len(drinks_life_expectancy)"
   ]
  },
  {
   "cell_type": "markdown",
   "metadata": {},
   "source": [
    "drinks dataset contains 193 rows. \n",
    "\n",
    "life_expectancy dataset contains 194 rows. \n",
    "\n",
    "But when we merge, we get 167 rows. Because pandas merge does inner join by default "
   ]
  },
  {
   "cell_type": "markdown",
   "metadata": {},
   "source": [
    "This is the difference between the countries in the drinks dataset and life_expectancy dataset:"
   ]
  },
  {
   "cell_type": "code",
   "execution_count": 8,
   "metadata": {},
   "outputs": [
    {
     "data": {
      "text/plain": [
       "['Tanzania',\n",
       " 'Iran',\n",
       " 'Laos',\n",
       " 'St. Lucia',\n",
       " 'Timor-Leste',\n",
       " 'Sao Tome & Principe',\n",
       " 'United Kingdom',\n",
       " 'Macedonia',\n",
       " 'St. Kitts & Nevis',\n",
       " 'Venezuela',\n",
       " \"Cote d'Ivoire\",\n",
       " 'Trinidad & Tobago',\n",
       " 'USA',\n",
       " 'St. Vincent & the Grenadines',\n",
       " 'Guinea-Bissau',\n",
       " 'Syria',\n",
       " 'Bosnia-Herzegovina',\n",
       " 'South Korea',\n",
       " 'Brunei',\n",
       " 'Moldova',\n",
       " 'Bolivia',\n",
       " 'DR Congo',\n",
       " 'Vietnam',\n",
       " 'North Korea',\n",
       " 'Micronesia',\n",
       " 'Antigua & Barbuda']"
      ]
     },
     "execution_count": 8,
     "metadata": {},
     "output_type": "execute_result"
    }
   ],
   "source": [
    "list(set(drinks.country.to_list() ) - set(life_expectancy.CountryDisplay.to_list()))"
   ]
  },
  {
   "cell_type": "code",
   "execution_count": 52,
   "metadata": {},
   "outputs": [
    {
     "data": {
      "text/plain": [
       "193"
      ]
     },
     "execution_count": 52,
     "metadata": {},
     "output_type": "execute_result"
    }
   ],
   "source": [
    "len(drinks.country.to_list())"
   ]
  },
  {
   "cell_type": "code",
   "execution_count": 51,
   "metadata": {},
   "outputs": [
    {
     "data": {
      "text/plain": [
       "194"
      ]
     },
     "execution_count": 51,
     "metadata": {},
     "output_type": "execute_result"
    }
   ],
   "source": [
    "len(life_expectancy.CountryDisplay.to_list())"
   ]
  },
  {
   "cell_type": "markdown",
   "metadata": {},
   "source": [
    "The official name of the country is written in the life_expectancy dataset. For example, United Kingdom is written as United Kingdom of Great Britain and Northern Ireland in life_expectancy. "
   ]
  },
  {
   "cell_type": "markdown",
   "metadata": {},
   "source": [
    "This code helps us to find the match"
   ]
  },
  {
   "cell_type": "code",
   "execution_count": 11,
   "metadata": {},
   "outputs": [],
   "source": [
    "matches = [match for match in life_expectancy.CountryDisplay.to_list() if \"Tanzania\" in match]      "
   ]
  },
  {
   "cell_type": "code",
   "execution_count": 12,
   "metadata": {},
   "outputs": [
    {
     "data": {
      "text/plain": [
       "['United Republic of Tanzania']"
      ]
     },
     "execution_count": 12,
     "metadata": {},
     "output_type": "execute_result"
    }
   ],
   "source": [
    "matches"
   ]
  },
  {
   "cell_type": "code",
   "execution_count": 13,
   "metadata": {},
   "outputs": [
    {
     "data": {
      "text/plain": [
       "['The former Yugoslav republic of Macedonia']"
      ]
     },
     "execution_count": 13,
     "metadata": {},
     "output_type": "execute_result"
    }
   ],
   "source": [
    "[match for match in life_expectancy.CountryDisplay.to_list() if \"Macedonia\" in match]      "
   ]
  },
  {
   "cell_type": "code",
   "execution_count": 14,
   "metadata": {},
   "outputs": [
    {
     "data": {
      "text/plain": [
       "['Venezuela (Bolivarian Republic of)']"
      ]
     },
     "execution_count": 14,
     "metadata": {},
     "output_type": "execute_result"
    }
   ],
   "source": [
    "[match for match in life_expectancy.CountryDisplay.to_list() if \"Venezuela\" in match]      "
   ]
  },
  {
   "cell_type": "code",
   "execution_count": 15,
   "metadata": {},
   "outputs": [
    {
     "data": {
      "text/plain": [
       "['Brunei Darussalam']"
      ]
     },
     "execution_count": 15,
     "metadata": {},
     "output_type": "execute_result"
    }
   ],
   "source": [
    "[match for match in life_expectancy.CountryDisplay.to_list() if \"Brunei\" in match]      "
   ]
  },
  {
   "cell_type": "code",
   "execution_count": 16,
   "metadata": {},
   "outputs": [
    {
     "data": {
      "text/plain": [
       "['Syrian Arab Republic']"
      ]
     },
     "execution_count": 16,
     "metadata": {},
     "output_type": "execute_result"
    }
   ],
   "source": [
    "[match for match in life_expectancy.CountryDisplay.to_list() if \"Syria\" in match]      "
   ]
  },
  {
   "cell_type": "code",
   "execution_count": 17,
   "metadata": {},
   "outputs": [
    {
     "data": {
      "text/plain": [
       "['Saint Vincent and the Grenadines']"
      ]
     },
     "execution_count": 17,
     "metadata": {},
     "output_type": "execute_result"
    }
   ],
   "source": [
    "[match for match in life_expectancy.CountryDisplay.to_list() if \"Grenadines\" in match]      "
   ]
  },
  {
   "cell_type": "markdown",
   "metadata": {},
   "source": [
    "Here is the difference between the country name in drinks dataset and country name in life_expectancy dataset. \n",
    "\n",
    "drinks | life_expectancy\n",
    "\n",
    "Cote d'Ivoire | Côte d'Ivoire\n",
    "\n",
    "Laos | Lao People's Democratic Republic\n",
    "\n",
    "Guinea-Bissau | Guinea_Bissau\n",
    "\n",
    "South Korea | Republic of Korea\n",
    "\n",
    "United Kingdom | United Kingdom of Great Britain and Northern Ireland\n",
    "\n",
    "North Korea | Democratic People's Republic of Korea \n",
    "\n",
    "Trinidad & Tobago | Trinidad and Tobago\n",
    "\n",
    "Sao Tome & Principe | Sao Tome and Principe\n",
    "\n",
    "DR Congo | Democratic Republic of the Congo\n",
    "\n",
    "Bosnia-Herzegovina | Bosnia and Herzegovina\n",
    "\n",
    "Tanzania | United Republic of Tanzania\n",
    "\n",
    "USA | United States of America\n",
    "\n",
    "Macedonia | The former Yugoslav republic of Macedonia\n",
    "\n",
    "Venezuela | Venezuela (Bolivarian Republic of) \n",
    "\n",
    "Timor-Leste | Timor_Leste\n",
    "\n",
    "Antigua & Barbuda | Antigua and Barbuda\n",
    "\n",
    "Brunei | Brunei Darussalam\n",
    "\n",
    "St. Kitts & Nevis | Saint Kitts and Nevis\n",
    "\n",
    "Iran | Iran (Islamic Republic of)\n",
    "\n",
    "St. Lucia | Saint Lucia\n",
    "\n",
    "Micronesia | Micronesia (Federated States of)\n",
    "\n",
    "Bolivia | Bolivia (Plurinational State of)\n",
    "\n",
    "Moldova | Republic of Moldova\n",
    "\n",
    "Vietnam | Viet Nam\n",
    "\n",
    "Syria | Syrian Arab Republic\n",
    "\n",
    "St. Vincent & the Grenadines | Saint Vincent and the Grenadines"
   ]
  },
  {
   "cell_type": "code",
   "execution_count": 18,
   "metadata": {},
   "outputs": [
    {
     "data": {
      "text/html": [
       "<div>\n",
       "<style scoped>\n",
       "    .dataframe tbody tr th:only-of-type {\n",
       "        vertical-align: middle;\n",
       "    }\n",
       "\n",
       "    .dataframe tbody tr th {\n",
       "        vertical-align: top;\n",
       "    }\n",
       "\n",
       "    .dataframe thead th {\n",
       "        text-align: right;\n",
       "    }\n",
       "</style>\n",
       "<table border=\"1\" class=\"dataframe\">\n",
       "  <thead>\n",
       "    <tr style=\"text-align: right;\">\n",
       "      <th></th>\n",
       "      <th>country</th>\n",
       "      <th>beer_servings</th>\n",
       "      <th>spirit_servings</th>\n",
       "      <th>wine_servings</th>\n",
       "      <th>total_litres_of_pure_alcohol</th>\n",
       "    </tr>\n",
       "  </thead>\n",
       "  <tbody>\n",
       "    <tr>\n",
       "      <th>41</th>\n",
       "      <td>Cote d'Ivoire</td>\n",
       "      <td>37</td>\n",
       "      <td>1</td>\n",
       "      <td>7</td>\n",
       "      <td>0.7965</td>\n",
       "    </tr>\n",
       "  </tbody>\n",
       "</table>\n",
       "</div>"
      ],
      "text/plain": [
       "          country  beer_servings  spirit_servings  wine_servings  \\\n",
       "41  Cote d'Ivoire             37                1              7   \n",
       "\n",
       "    total_litres_of_pure_alcohol  \n",
       "41                        0.7965  "
      ]
     },
     "execution_count": 18,
     "metadata": {},
     "output_type": "execute_result"
    }
   ],
   "source": [
    "drinks[drinks['country'] == \"Cote d'Ivoire\"]"
   ]
  },
  {
   "cell_type": "code",
   "execution_count": 19,
   "metadata": {},
   "outputs": [],
   "source": [
    "drinks.at[41, 'country'] = \"Côte d'Ivoire\" "
   ]
  },
  {
   "cell_type": "code",
   "execution_count": 20,
   "metadata": {},
   "outputs": [],
   "source": [
    "drinks.at[91, 'country'] = \"Lao People's Democratic Republic\""
   ]
  },
  {
   "cell_type": "code",
   "execution_count": 21,
   "metadata": {},
   "outputs": [
    {
     "data": {
      "text/plain": [
       "country                         Lao People's Democratic Republic\n",
       "beer_servings                                                 62\n",
       "spirit_servings                                                0\n",
       "wine_servings                                                123\n",
       "total_litres_of_pure_alcohol                              3.2745\n",
       "Name: 91, dtype: object"
      ]
     },
     "execution_count": 21,
     "metadata": {},
     "output_type": "execute_result"
    }
   ],
   "source": [
    "drinks.iloc[91]"
   ]
  },
  {
   "cell_type": "code",
   "execution_count": 22,
   "metadata": {},
   "outputs": [],
   "source": [
    "row_n = drinks[drinks['country'] == \"Guinea-Bissau\"].index\n",
    "drinks.at[row_n, 'country'] = \"Guinea_Bissau\""
   ]
  },
  {
   "cell_type": "code",
   "execution_count": 23,
   "metadata": {},
   "outputs": [],
   "source": [
    "row_n = drinks[drinks['country'] == \"South Korea\"].index\n",
    "drinks.at[row_n, 'country'] = \"Republic of Korea\""
   ]
  },
  {
   "cell_type": "code",
   "execution_count": 24,
   "metadata": {},
   "outputs": [],
   "source": [
    "row_n = drinks[drinks['country'] == \"United Kingdom\"].index\n",
    "drinks.at[row_n, 'country'] = \"United Kingdom of Great Britain and Northern Ireland\""
   ]
  },
  {
   "cell_type": "code",
   "execution_count": 25,
   "metadata": {},
   "outputs": [],
   "source": [
    "row_n = drinks[drinks['country'] == \"North Korea\"].index\n",
    "drinks.at[row_n, 'country'] = \"Democratic People's Republic of Korea\""
   ]
  },
  {
   "cell_type": "code",
   "execution_count": 26,
   "metadata": {},
   "outputs": [],
   "source": [
    "row_n = drinks[drinks['country'] == \"Trinidad & Tobago\"].index\n",
    "drinks.at[row_n, 'country'] = \"Trinidad and Tobago\""
   ]
  },
  {
   "cell_type": "code",
   "execution_count": 27,
   "metadata": {},
   "outputs": [],
   "source": [
    "row_n = drinks[drinks['country'] == \"Sao Tome & Principe\"].index\n",
    "drinks.at[row_n, 'country'] = \"Sao Tome and Principe\""
   ]
  },
  {
   "cell_type": "code",
   "execution_count": 28,
   "metadata": {},
   "outputs": [],
   "source": [
    "row_n = drinks[drinks['country'] == \"DR Congo\"].index\n",
    "drinks.at[row_n, 'country'] = \"Democratic Republic of the Congo\""
   ]
  },
  {
   "cell_type": "code",
   "execution_count": 29,
   "metadata": {},
   "outputs": [],
   "source": [
    "row_n = drinks[drinks['country'] == \"Bosnia-Herzegovina\"].index\n",
    "drinks.at[row_n, 'country'] = \"Bosnia and Herzegovina\""
   ]
  },
  {
   "cell_type": "code",
   "execution_count": 30,
   "metadata": {},
   "outputs": [],
   "source": [
    "row_n = drinks[drinks['country'] == \"Tanzania\"].index\n",
    "drinks.at[row_n, 'country'] = \"United Republic of Tanzania\""
   ]
  },
  {
   "cell_type": "code",
   "execution_count": 31,
   "metadata": {},
   "outputs": [],
   "source": [
    "row_n = drinks[drinks['country'] == \"USA\"].index\n",
    "drinks.at[row_n, 'country'] = \"United States of America\""
   ]
  },
  {
   "cell_type": "code",
   "execution_count": 32,
   "metadata": {},
   "outputs": [],
   "source": [
    "row_n = drinks[drinks['country'] == \"Macedonia\"].index\n",
    "drinks.at[row_n, 'country'] = \"The former Yugoslav republic of Macedonia\""
   ]
  },
  {
   "cell_type": "code",
   "execution_count": 33,
   "metadata": {},
   "outputs": [],
   "source": [
    "row_n = drinks[drinks['country'] == \"Venezuela\"].index\n",
    "drinks.at[row_n, 'country'] = \"Venezuela (Bolivarian Republic of)\""
   ]
  },
  {
   "cell_type": "code",
   "execution_count": 34,
   "metadata": {},
   "outputs": [],
   "source": [
    "row_n = drinks[drinks['country'] == \"Timor-Leste\"].index\n",
    "drinks.at[row_n, 'country'] = \"Timor_Leste\""
   ]
  },
  {
   "cell_type": "code",
   "execution_count": 35,
   "metadata": {},
   "outputs": [],
   "source": [
    "row_n = drinks[drinks['country'] == \"Antigua & Barbuda\"].index\n",
    "drinks.at[row_n, 'country'] = \"Antigua and Barbuda\""
   ]
  },
  {
   "cell_type": "code",
   "execution_count": 36,
   "metadata": {},
   "outputs": [],
   "source": [
    "row_n = drinks[drinks['country'] == \"Brunei\"].index\n",
    "drinks.at[row_n, 'country'] = \"Brunei Darussalam\""
   ]
  },
  {
   "cell_type": "code",
   "execution_count": 37,
   "metadata": {},
   "outputs": [],
   "source": [
    "row_n = drinks[drinks['country'] == \"St. Kitts & Nevis\"].index\n",
    "drinks.at[row_n, 'country'] = \"Saint Kitts and Nevis\""
   ]
  },
  {
   "cell_type": "code",
   "execution_count": 38,
   "metadata": {},
   "outputs": [],
   "source": [
    "row_n = drinks[drinks['country'] == \"Iran\"].index\n",
    "drinks.at[row_n, 'country'] = \"Iran (Islamic Republic of)\""
   ]
  },
  {
   "cell_type": "code",
   "execution_count": 39,
   "metadata": {},
   "outputs": [],
   "source": [
    "row_n = drinks[drinks['country'] == \"St. Lucia\"].index\n",
    "drinks.at[row_n, 'country'] = \"Saint Lucia\""
   ]
  },
  {
   "cell_type": "code",
   "execution_count": 40,
   "metadata": {},
   "outputs": [],
   "source": [
    "row_n = drinks[drinks['country'] == \"Micronesia\"].index\n",
    "drinks.at[row_n, 'country'] = \"Micronesia (Federated States of)\""
   ]
  },
  {
   "cell_type": "code",
   "execution_count": 41,
   "metadata": {},
   "outputs": [],
   "source": [
    "row_n = drinks[drinks['country'] == \"Bolivia\"].index\n",
    "drinks.at[row_n, 'country'] = \"Bolivia (Plurinational State of)\""
   ]
  },
  {
   "cell_type": "code",
   "execution_count": 42,
   "metadata": {},
   "outputs": [],
   "source": [
    "row_n = drinks[drinks['country'] == \"Moldova\"].index\n",
    "drinks.at[row_n, 'country'] = \"Republic of Moldova\""
   ]
  },
  {
   "cell_type": "code",
   "execution_count": 43,
   "metadata": {},
   "outputs": [],
   "source": [
    "row_n = drinks[drinks['country'] == \"Vietnam\"].index\n",
    "drinks.at[row_n, 'country'] = \"Viet Nam\""
   ]
  },
  {
   "cell_type": "code",
   "execution_count": 44,
   "metadata": {},
   "outputs": [],
   "source": [
    "row_n = drinks[drinks['country'] == \"Syria\"].index\n",
    "drinks.at[row_n, 'country'] = \"Syrian Arab Republic\""
   ]
  },
  {
   "cell_type": "code",
   "execution_count": 45,
   "metadata": {},
   "outputs": [],
   "source": [
    "row_n = drinks[drinks['country'] == \"St. Vincent & the Grenadines\"].index\n",
    "drinks.at[row_n, 'country'] = \"Saint Vincent and the Grenadines\""
   ]
  },
  {
   "cell_type": "code",
   "execution_count": 46,
   "metadata": {},
   "outputs": [
    {
     "data": {
      "text/html": [
       "<div>\n",
       "<style scoped>\n",
       "    .dataframe tbody tr th:only-of-type {\n",
       "        vertical-align: middle;\n",
       "    }\n",
       "\n",
       "    .dataframe tbody tr th {\n",
       "        vertical-align: top;\n",
       "    }\n",
       "\n",
       "    .dataframe thead th {\n",
       "        text-align: right;\n",
       "    }\n",
       "</style>\n",
       "<table border=\"1\" class=\"dataframe\">\n",
       "  <thead>\n",
       "    <tr style=\"text-align: right;\">\n",
       "      <th></th>\n",
       "      <th>country</th>\n",
       "      <th>beer_servings</th>\n",
       "      <th>spirit_servings</th>\n",
       "      <th>wine_servings</th>\n",
       "      <th>total_litres_of_pure_alcohol</th>\n",
       "    </tr>\n",
       "  </thead>\n",
       "  <tbody>\n",
       "    <tr>\n",
       "      <th>172</th>\n",
       "      <td>Timor_Leste</td>\n",
       "      <td>1</td>\n",
       "      <td>1</td>\n",
       "      <td>4</td>\n",
       "      <td>0.1062</td>\n",
       "    </tr>\n",
       "  </tbody>\n",
       "</table>\n",
       "</div>"
      ],
      "text/plain": [
       "         country  beer_servings  spirit_servings  wine_servings  \\\n",
       "172  Timor_Leste              1                1              4   \n",
       "\n",
       "     total_litres_of_pure_alcohol  \n",
       "172                        0.1062  "
      ]
     },
     "execution_count": 46,
     "metadata": {},
     "output_type": "execute_result"
    }
   ],
   "source": [
    "drinks[drinks['country'] == \"Timor_Leste\"]"
   ]
  },
  {
   "cell_type": "code",
   "execution_count": 47,
   "metadata": {},
   "outputs": [
    {
     "data": {
      "text/plain": [
       "country                         Timor_Leste\n",
       "beer_servings                             1\n",
       "spirit_servings                           1\n",
       "wine_servings                             4\n",
       "total_litres_of_pure_alcohol         0.1062\n",
       "Name: 172, dtype: object"
      ]
     },
     "execution_count": 47,
     "metadata": {},
     "output_type": "execute_result"
    }
   ],
   "source": [
    "drinks.iloc[172]"
   ]
  },
  {
   "cell_type": "code",
   "execution_count": 48,
   "metadata": {},
   "outputs": [],
   "source": [
    "drinks_life_expectancy = pd.merge(drinks, life_expectancy, left_on='country', right_on = 'CountryDisplay')"
   ]
  },
  {
   "cell_type": "code",
   "execution_count": 49,
   "metadata": {},
   "outputs": [
    {
     "data": {
      "text/plain": [
       "193"
      ]
     },
     "execution_count": 49,
     "metadata": {},
     "output_type": "execute_result"
    }
   ],
   "source": [
    "len(drinks_life_expectancy)"
   ]
  },
  {
   "cell_type": "markdown",
   "metadata": {},
   "source": [
    "Now when we merge, we get 193 rows (not 167 rows as it was previously)"
   ]
  },
  {
   "cell_type": "code",
   "execution_count": 50,
   "metadata": {},
   "outputs": [],
   "source": [
    "drinks_life_expectancy.to_csv('data/Drinks_Life_expectancy.csv', index=False)"
   ]
  }
 ],
 "metadata": {
  "kernelspec": {
   "display_name": "Python 3",
   "language": "python",
   "name": "python3"
  },
  "language_info": {
   "codemirror_mode": {
    "name": "ipython",
    "version": 3
   },
   "file_extension": ".py",
   "mimetype": "text/x-python",
   "name": "python",
   "nbconvert_exporter": "python",
   "pygments_lexer": "ipython3",
   "version": "3.8.3"
  }
 },
 "nbformat": 4,
 "nbformat_minor": 4
}
